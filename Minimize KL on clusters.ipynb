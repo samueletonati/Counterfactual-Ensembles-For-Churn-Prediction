{
 "cells": [
  {
   "cell_type": "code",
   "execution_count": 1,
   "metadata": {},
   "outputs": [
    {
     "name": "stderr",
     "output_type": "stream",
     "text": [
      "/usr/local/Caskroom/miniforge/base/envs/gpt2/lib/python3.10/site-packages/tqdm_joblib/__init__.py:4: TqdmExperimentalWarning: Using `tqdm.autonotebook.tqdm` in notebook mode. Use `tqdm.tqdm` instead to force console mode (e.g. in jupyter console)\n",
      "  from tqdm.autonotebook import tqdm\n"
     ]
    }
   ],
   "source": [
    "import pandas as pd\n",
    "import numpy as np\n",
    "import json\n",
    "from scipy.stats import entropy\n",
    "import matplotlib.pyplot as plt\n",
    "import sklearn\n",
    "import seaborn as sns\n",
    "from mlxtend.frequent_patterns import apriori, association_rules\n",
    "from sklearn.preprocessing import KBinsDiscretizer\n",
    "from sklearn.model_selection import train_test_split\n",
    "from sklearn.metrics import classification_report\n",
    "from sklearn.linear_model import LinearRegression\n",
    "from sklearn.metrics import r2_score, mean_squared_error\n",
    "from tqdm_joblib import tqdm_joblib\n",
    "from tqdm import tqdm\n",
    "from itertools import product\n",
    "from joblib import Parallel, delayed\n",
    "from scipy.optimize import minimize\n",
    "from scipy.spatial.distance import euclidean\n",
    "from sklearn.metrics.pairwise import euclidean_distances\n",
    "from sklearn.cluster import KMeans\n",
    "from scipy.optimize import NonlinearConstraint\n",
    "import warnings\n",
    "import pickle\n",
    "import math\n",
    "warnings.filterwarnings('ignore')\n",
    "warnings.filterwarnings('ignore',category=UserWarning, module='scipy')"
   ]
  },
  {
   "cell_type": "code",
   "execution_count": 2,
   "metadata": {},
   "outputs": [],
   "source": [
    "dfs = ['bank', 'credit', 'iranian', 'telco']\n",
    "n = 0\n",
    "def read_and_clip(csv_path):\n",
    "    df = pd.read_csv(csv_path, index_col=0)\n",
    "    numeric_cols = df.select_dtypes(include=['number'])\n",
    "    non_numeric_cols = df.select_dtypes(exclude=['number']) \n",
    "    numeric_cols = numeric_cols.clip(lower=0)\n",
    "    if 'Gender' in numeric_cols.columns:\n",
    "        numeric_cols['Gender'] = numeric_cols['Gender'].clip(upper=1)\n",
    "    if 'gender_Male' in numeric_cols.columns:\n",
    "        numeric_cols['gender_Male'] = numeric_cols['gender_Male'].clip(upper=1)\n",
    "    return pd.concat([numeric_cols, non_numeric_cols], axis=1)"
   ]
  },
  {
   "cell_type": "code",
   "execution_count": 3,
   "metadata": {},
   "outputs": [],
   "source": [
    "#Import Datasets\n",
    "df_bank_real = pd.read_csv(\"original datasets/df2_clean.csv\", index_col=0)\n",
    "df_credit_real = pd.read_csv(\"original datasets/df3_clean.csv\", index_col=0)\n",
    "df_iranian_real = pd.read_csv(\"original datasets/df4_clean.csv\", index_col=0)\n",
    "df_telco_real = pd.read_csv(\"original datasets/df5_clean.csv\", index_col=0)\n",
    "\n",
    "df_bank_synth = pd.read_csv(\"synth datasets/Dataset_1_CTGAN_synthetic.csv\")\n",
    "df_credit_synth = pd.read_csv(\"synth datasets/Dataset_2_CTGAN_synthetic.csv\")\n",
    "df_iranian_synth = pd.read_csv(\"synth datasets/Dataset_3_CTGAN_synthetic.csv\")\n",
    "df_telco_synth = pd.read_csv(\"synth datasets/Dataset_4_CTGAN_synthetic.csv\")\n",
    "\n",
    "df_bank_real_0 = df_bank_real[df_bank_real['churn'] == 0].drop(columns='churn', axis=1)\n",
    "df_bank_real_1 = df_bank_real[df_bank_real['churn'] == 1].drop(columns='churn', axis=1)\n",
    "\n",
    "df_bank_synth_0 = df_bank_synth[df_bank_synth['churn'] == 0].drop(columns='churn', axis=1)\n",
    "df_bank_synth_1 = df_bank_synth[df_bank_synth['churn'] == 1].drop(columns='churn', axis=1)\n",
    "\n",
    "df_credit_real_0 = df_credit_real[df_credit_real['churn'] == 0].drop(columns='churn', axis=1)\n",
    "df_credit_real_1 = df_credit_real[df_credit_real['churn'] == 1].drop(columns='churn', axis=1)\n",
    "\n",
    "df_credit_synth_0 = df_credit_synth[df_credit_synth['churn'] == 0].drop(columns='churn', axis=1)\n",
    "df_credit_synth_1 = df_credit_synth[df_credit_synth['churn'] == 1].drop(columns='churn', axis=1)\n",
    "\n",
    "df_iranian_real_0 = df_iranian_real[df_iranian_real['churn'] == 0].drop(columns='churn', axis=1)\n",
    "df_iranian_real_1 = df_iranian_real[df_iranian_real['churn'] == 1].drop(columns='churn', axis=1)\n",
    "\n",
    "df_iranian_synth_0 = df_iranian_synth[df_iranian_synth['churn'] == 0].drop(columns='churn', axis=1)\n",
    "df_iranian_synth_1 = df_iranian_synth[df_iranian_synth['churn'] == 1].drop(columns='churn', axis=1)\n",
    "\n",
    "df_telco_real_0 = df_telco_real[df_telco_real['churn'] == 0].drop(columns='churn', axis=1)\n",
    "df_telco_real_1 = df_telco_real[df_telco_real['churn'] == 1].drop(columns='churn', axis=1)\n",
    "\n",
    "df_telco_synth_0 = df_telco_synth[df_telco_synth['churn'] == 0].drop(columns='churn', axis=1)\n",
    "df_telco_synth_1 = df_telco_synth[df_telco_synth['churn'] == 1].drop(columns='churn', axis=1)"
   ]
  },
  {
   "cell_type": "code",
   "execution_count": 4,
   "metadata": {},
   "outputs": [],
   "source": [
    "# Import CF Explanations\n",
    "ensemble_df_bank_synth = read_and_clip(f'synth ensembles/ensemble_df_synth_{dfs[0]}.csv')\n",
    "ensemble_df_bank_real = read_and_clip(f'original ensembles/ensemble_df_new_{dfs[0]}.csv')\n",
    "\n",
    "ensemble_df_credit_synth = read_and_clip(f'synth ensembles/ensemble_df_synth_{dfs[1]}.csv')\n",
    "ensemble_df_credit_real = read_and_clip(f'original ensembles/ensemble_df_new_{dfs[1]}.csv')\n",
    "\n",
    "ensemble_df_iranian_synth = read_and_clip(f'synth ensembles/ensemble_df_synth_{dfs[2]}.csv')\n",
    "ensemble_df_iranian_real = read_and_clip(f'original ensembles/ensemble_df_new_{dfs[2]}.csv')\n",
    "\n",
    "ensemble_df_telco_synth = read_and_clip(f'synth ensembles/ensemble_df_synth_{dfs[3]}.csv')\n",
    "ensemble_df_telco_real = read_and_clip(f'original ensembles/ensemble_df_new_{dfs[3]}.csv')\n",
    "\n",
    "# Apply to real ensemble datasets\n",
    "ensemble_df_bank_real['Opp_Diversity_Normalized'] = 1. - ensemble_df_bank_real['Diversity_Normalized']\n",
    "ensemble_df_credit_real['Opp_Diversity_Normalized'] = 1. - ensemble_df_credit_real['Diversity_Normalized']\n",
    "ensemble_df_iranian_real['Opp_Diversity_Normalized'] = 1. - ensemble_df_iranian_real['Diversity_Normalized']\n",
    "ensemble_df_telco_real['Opp_Diversity_Normalized'] = 1. - ensemble_df_telco_real['Diversity_Normalized']\n",
    "\n",
    "# Apply to synthetic ensemble datasets\n",
    "ensemble_df_bank_synth['Opp_Diversity_Normalized'] = 1. - ensemble_df_bank_synth['Diversity_Normalized']\n",
    "ensemble_df_credit_synth['Opp_Diversity_Normalized'] = 1. - ensemble_df_credit_synth['Diversity_Normalized']\n",
    "ensemble_df_iranian_synth['Opp_Diversity_Normalized'] = 1. - ensemble_df_iranian_synth['Diversity_Normalized']\n",
    "ensemble_df_telco_synth['Opp_Diversity_Normalized'] = 1. - ensemble_df_telco_synth['Diversity_Normalized']"
   ]
  },
  {
   "cell_type": "code",
   "execution_count": 28,
   "metadata": {},
   "outputs": [],
   "source": [
    "cf_measures = ['Sparsity', 'Pausibility_Normalized', 'AVG_Proximity', 'Opp_Diversity_Normalized']\n",
    "\n",
    "def linear_selection(df, weights):    \n",
    "    df_copy = df.copy()\n",
    "\n",
    "    # Compute the linear combination score\n",
    "    df_copy['Linear Combination'] = (\n",
    "        weights[0] * df_copy[cf_measures[0]] +\n",
    "        weights[1] * df_copy[cf_measures[1]] +\n",
    "        weights[2] * df_copy[cf_measures[2]] +\n",
    "        weights[3] * df_copy[cf_measures[3]])\n",
    "\n",
    "    # Sort the DataFrame by 'Linear Combination' in asc order: ### The lower the score the better ###\n",
    "    df_copy_sorted = df_copy.sort_values(by='Linear Combination', ascending=True)\n",
    "\n",
    "    # Group by index and select the top 5 rows for each group\n",
    "    top_5_per_index = df_copy_sorted.groupby(level=0).head(5)\n",
    "    # Sort it \n",
    "    top_5_per_index_sorted = top_5_per_index.sort_index()\n",
    "    return top_5_per_index_sorted"
   ]
  },
  {
   "cell_type": "code",
   "execution_count": null,
   "metadata": {},
   "outputs": [],
   "source": [
    "def pseudo_hierarchical_selection(df, cf_measures, weights, k_selected):\n",
    "    \"\"\"\n",
    "    Perform hierarchical selection based on precomputed metrics,\n",
    "    ordering the metrics by weights (higher values are better)\n",
    "    \"\"\"\n",
    "    df_copy = df.copy()\n",
    "    \n",
    "    # Sort metrics in order according to weights importance (higher weights are better)\n",
    "    sorted_metrics = [cf_measures[i] for i in np.argsort(weights)[::-1]]\n",
    "    sorted_weights = np.sort(weights)[::-1]\n",
    " \n",
    "    top_k = pd.DataFrame()\n",
    " \n",
    "    for metric, weight in zip(sorted_metrics, sorted_weights):\n",
    "        #proportion = int(k_selected * weight) #  # marzio original version ((may end up selecting less than 5 at finish)\n",
    "        proportion = math.ceil(k_selected * weight) # # maybe better version (may end up selecting more than 5 before finish)\n",
    "        #print(f\"Selecting {proportion} samples based on {metric}\")\n",
    "        # Save the selected proportion of examples for each level=0\n",
    "        selected_proportion_df = df_copy.sort_values(by=metric, ascending=False).groupby(level=0).head(proportion)\n",
    "        #print(\"Selected proportion df:\\n\", selected_proportion_df.shape, proportion * len(df_copy.groupby(level=0)))\n",
    " \n",
    "        top_k = pd.concat([top_k, selected_proportion_df])\n",
    "        #print(len(top_k),len(selected_proportion_df),df_copy.shape)\n",
    "        #df_copy = df_copy[~df_copy.apply(tuple, 1).isin(selected_proportion_df.apply(tuple, 1))]\n",
    "        #print(df_copy.shape, 'shape of df_copy after dropping selected')\n",
    "    \n",
    "        \n",
    "    # If we have more than k_selected, we trim the excess\n",
    "    #print('length of top k', len(top_k), 'with respect to k_selected', k_selected * len(df.groupby(level=0)))\n",
    "    top_k = top_k.groupby(level=0).head(k_selected)\n",
    "    \n",
    "    \n",
    "    return top_k"
   ]
  },
  {
   "cell_type": "markdown",
   "metadata": {},
   "source": [
    "### Minimization "
   ]
  },
  {
   "cell_type": "code",
   "execution_count": 29,
   "metadata": {},
   "outputs": [],
   "source": [
    "synth_df = read_and_clip(f'synth ensembles/ensemble_df_synth_{dfs[n]}.csv')\n",
    "real_df = read_and_clip(f'original ensembles/ensemble_df_new_{dfs[n]}.csv')"
   ]
  },
  {
   "cell_type": "code",
   "execution_count": 30,
   "metadata": {},
   "outputs": [
    {
     "name": "stdout",
     "output_type": "stream",
     "text": [
      "cat cols:  ['Gender']\n",
      "cont_cols_to_bin:  ['CreditScore', 'Age', 'Tenure', 'Balance', 'NumOfProducts', 'HasCrCard', 'IsActiveMember', 'EstimatedSalary']\n"
     ]
    }
   ],
   "source": [
    "if n==0:    #1) df_bank\n",
    "    cat_cols= ['Gender']\n",
    "    cont_cols_to_bin = real_df.columns[[0]].tolist() + real_df.columns[2:-6].tolist()\n",
    "elif n==1:  #2) df_credit\n",
    "    cat_cols= ['Gender']   \n",
    "    cont_cols_to_bin = real_df.columns[[0]].tolist() + real_df.columns[2:-6].tolist()\n",
    "elif n==2:  #3) df_iranian\n",
    "    cat_cols= []\n",
    "    cont_cols_to_bin = real_df.columns[:-6].tolist()\n",
    "else:   #4) df_telco\n",
    "    cat_cols= ['gender_Male']\n",
    "    cont_cols_to_bin = [i for i in real_df.columns[:-6] if i!='gender_Male']\n",
    "print('cat cols: ', cat_cols)\n",
    "print('cont_cols_to_bin: ', cont_cols_to_bin)"
   ]
  },
  {
   "cell_type": "code",
   "execution_count": 31,
   "metadata": {},
   "outputs": [
    {
     "name": "stdout",
     "output_type": "stream",
     "text": [
      "\n",
      "Average KL Divergence before selection: 0.1927\n"
     ]
    }
   ],
   "source": [
    "def compute_kl_divergence(posterior_df, prior_df, cat_cols, cont_cols, bins='sturges',epsilon=1e-10):\n",
    "    # Rename variables\n",
    "    kl_values = {}\n",
    "    \n",
    "    for col in cont_cols:    # Continuous columns\n",
    "        # Determine the number of bins\n",
    "        if bins == 'sturges':\n",
    "            bins = max(3, int(np.ceil(np.log2(len(posterior_df[col])) + 1)))\n",
    "\n",
    "        # Bin continuous data\n",
    "        posterior_hist, bin_edges = np.histogram(posterior_df[col], bins=bins, density=True)\n",
    "        prior_hist, _ = np.histogram(prior_df[col], bins=bin_edges, density=True)\n",
    "\n",
    "        # Normalize histograms to get probability distributions\n",
    "        posterior_prob = posterior_hist / posterior_hist.sum()\n",
    "        prior_prob = prior_hist / prior_hist.sum()\n",
    "\n",
    "        # Avoid zeros\n",
    "        posterior_prob = np.where(posterior_prob == 0, epsilon, posterior_prob)\n",
    "        prior_prob = np.where(prior_prob == 0, epsilon, prior_prob)\n",
    "\n",
    "        # Compute KL Divergence\n",
    "        kl_values[col] = np.sum(posterior_prob * np.log(posterior_prob / prior_prob))\n",
    "        \n",
    "\n",
    "    for col in cat_cols:\n",
    "        # Compute category probabilities\n",
    "        posterior_counts = posterior_df[col].value_counts(normalize=True).sort_index()\n",
    "        prior_counts = prior_df[col].value_counts(normalize=True).sort_index()\n",
    "\n",
    "        # Align categories \n",
    "        all_categories = set(posterior_counts.index).union(set(prior_counts.index))\n",
    "        posterior_prob = np.array([posterior_counts.get(cat, epsilon) for cat in all_categories])\n",
    "        prior_prob = np.array([prior_counts.get(cat, epsilon) for cat in all_categories])\n",
    "\n",
    "        # Must normalize to ensure sum = 1 in case of added epsilon\n",
    "        posterior_prob /= posterior_prob.sum()\n",
    "        prior_prob /= prior_prob.sum()\n",
    "\n",
    "        # Compute KL Divergence\n",
    "        kl_values[col] = np.sum(posterior_prob * np.log(posterior_prob / prior_prob))\n",
    "    avg_kl_divergence = np.mean(list(kl_values.values()))\n",
    "    return avg_kl_divergence\n",
    "\n",
    "# Compute KL Divergence\n",
    "avg_kl_divergence = compute_kl_divergence(synth_df,real_df,cat_cols,cont_cols_to_bin, bins='sturges',epsilon=1e-10)\n",
    "\n",
    "'''print('\\nIndividual KL Divergences:')\n",
    "for col, kl in kl_values.items():\n",
    "    print(f'{col}: {kl:.4f}')'''\n",
    "\n",
    "print(f'\\nAverage KL Divergence before selection: {avg_kl_divergence:.4f}')"
   ]
  },
  {
   "cell_type": "code",
   "execution_count": 32,
   "metadata": {},
   "outputs": [],
   "source": [
    "def loss_kl_divergence(parameters,posterior_df,prior_df,cat_cols,cont_cols, \n",
    "                       k_selected = 5, \n",
    "                       cf_measures = ['Sparsity', 'Pausibility_Normalized', 'AVG_Proximity', 'Opp_Diversity_Normalized'], \n",
    "                       bins='sturges', epsilon=1e-10):\n",
    "    \n",
    "    n_parameters = len(cf_measures)\n",
    "    # Extract the parameters\n",
    "    alpha = parameters[:n_parameters]\n",
    "    beta = parameters[n_parameters:]\n",
    "\n",
    "    posterior_df_copy = posterior_df.copy()\n",
    "    posterior_df_copy['Linear Combination'] = (\n",
    "        alpha[0] * posterior_df[cf_measures[0]] +\n",
    "        alpha[1] * posterior_df[cf_measures[1]] +\n",
    "        alpha[2] * posterior_df[cf_measures[2]] +\n",
    "        alpha[3] * posterior_df[cf_measures[3]]\n",
    "    )\n",
    "\n",
    "    prior_df_copy = prior_df.copy()\n",
    "    prior_df_copy['Linear Combination'] = (\n",
    "        beta[0] * prior_df[cf_measures[0]] +\n",
    "        beta[1] * prior_df[cf_measures[1]] +\n",
    "        beta[2] * prior_df[cf_measures[2]] +\n",
    "        beta[3] * prior_df[cf_measures[3]]\n",
    "    )\n",
    "    \n",
    "    posterior_df_copy = posterior_df_copy.sort_values(by='Linear Combination', ascending=True)\n",
    "    prior_df_copy = prior_df_copy.sort_values(by='Linear Combination', ascending=True)\n",
    "\n",
    "    top_k_posterior = posterior_df_copy.groupby(level=0).head(k_selected)\n",
    "    top_k_prior = prior_df_copy.groupby(level=0).head(k_selected)\n",
    "    \n",
    "    # Compute the KL Divergence between top_k_posterior and top_k_prior\n",
    "    avg_kl_divergence = compute_kl_divergence(top_k_posterior,top_k_prior,cat_cols,cont_cols,bins,epsilon)\n",
    "    return avg_kl_divergence"
   ]
  },
  {
   "cell_type": "code",
   "execution_count": 33,
   "metadata": {},
   "outputs": [],
   "source": [
    "cf_measures = ['Sparsity', 'Pausibility_Normalized', 'AVG_Proximity', 'Opp_Diversity_Normalized']\n",
    "\n",
    "def constraint_func(x, num_features):\n",
    "    alpha_sum = np.sum(x[:num_features]) - 1\n",
    "    beta_sum = np.sum(x[num_features:]) - 1\n",
    "    return np.array([alpha_sum, beta_sum])\n",
    "\n",
    "num_features = len(cf_measures)  #(4)\n",
    "\n",
    "# Define the constraint\n",
    "constraints = {'type': 'eq', 'fun': lambda x: constraint_func(x, num_features)}\n",
    "\n",
    "# Define the bounds for the parameters\n",
    "bounds = [(0, 1)] * (2 * num_features) # tot 8 weights minimized"
   ]
  },
  {
   "cell_type": "code",
   "execution_count": 34,
   "metadata": {},
   "outputs": [],
   "source": [
    "# Initial guess for parameters (indifference values)\n",
    "def generate_initial_parameters(num_features):\n",
    "    in1_params = np.random.random(num_features)\n",
    "    in2_params = np.random.random(num_features)\n",
    "\n",
    "    in1_params = in1_params / in1_params.sum()\n",
    "    in2_params = in2_params / in2_params.sum()\n",
    "\n",
    "    return np.concatenate([in1_params, in2_params])\n",
    "\n",
    "initial_parameters = generate_initial_parameters(num_features)"
   ]
  },
  {
   "cell_type": "code",
   "execution_count": 35,
   "metadata": {},
   "outputs": [
    {
     "name": "stderr",
     "output_type": "stream",
     "text": [
      "Processing Optimization # ....: 100%|██████████| 10/10 [00:00<00:00, 4133.54it/s]\n"
     ]
    },
    {
     "name": "stdout",
     "output_type": "stream",
     "text": [
      "Optimized Parameters: [0.04147769 0.08693609 0.59971492 0.27187131 0.30612824 0.1703618\n",
      " 0.26469969 0.25881027]\n",
      "Minimum KL Divergence: 0.07005170313788661\n"
     ]
    }
   ],
   "source": [
    "n_jobs  = 32\n",
    "n_iter = 10\n",
    "kl_divergences = np.zeros(n_iter)   # Storing kl div values\n",
    "\n",
    "def optimize_kl_divergence(_):\n",
    "    initial_parameters = generate_initial_parameters(num_features)\n",
    "    warnings.filterwarnings('ignore',category=UserWarning, module='scipy')\n",
    "\n",
    "    result = minimize(\n",
    "        #fun=lambda params: loss_kl_divergence_h(params, posterior_df, prior_df, cat_cols, cont_cols_to_bin),    #hierarchical selection\n",
    "        fun=lambda params: loss_kl_divergence(params, ensemble_df_bank_synth, ensemble_df_bank_real, cat_cols, cont_cols_to_bin),     #linear selection\n",
    "        x0=initial_parameters,\n",
    "        method='trust-constr',\n",
    "        bounds=bounds,\n",
    "        constraints=constraints, options={'gtol':1e-15, 'xtol':1e-15}\n",
    "    )\n",
    "    return result.fun, result.x\n",
    "\n",
    "results = Parallel(n_jobs=n_jobs)(delayed(optimize_kl_divergence)(i) for i in tqdm(range(n_iter), desc='Processing Optimization # ....'))\n",
    "\n",
    "kl_divergences, parameters = zip(*results)  #The 'results' is a list of tuples containing (kl_div values and params)\n",
    "kl_divergences = np.array(kl_divergences)\n",
    "parameters = np.array(parameters)\n",
    "\n",
    "# Find the parameters which minimize the KL divergence\n",
    "min_kl_index = np.argmin(kl_divergences)\n",
    "best_parameters = parameters[min_kl_index]\n",
    "\n",
    "print(\"Optimized Parameters:\", best_parameters)\n",
    "print(f'Minimum KL Divergence: {kl_divergences[min_kl_index]}')"
   ]
  },
  {
   "cell_type": "markdown",
   "metadata": {},
   "source": [
    "## Clustering"
   ]
  },
  {
   "cell_type": "markdown",
   "metadata": {},
   "source": [
    "#### Divide ensembles based labels of datasets"
   ]
  },
  {
   "cell_type": "code",
   "execution_count": 37,
   "metadata": {},
   "outputs": [],
   "source": [
    "# Bank dataset (real)\n",
    "ensemble_df_bank_real_0 = ensemble_df_bank_real[ensemble_df_bank_real.index.isin(df_bank_real_0.index)]\n",
    "ensemble_df_bank_real_1 = ensemble_df_bank_real[ensemble_df_bank_real.index.isin(df_bank_real_1.index)]\n",
    "\n",
    "# Bank dataset (synthetic)\n",
    "ensemble_df_bank_synth_0 = ensemble_df_bank_synth[ensemble_df_bank_synth.index.isin(df_bank_synth_0.index)]\n",
    "ensemble_df_bank_synth_1 = ensemble_df_bank_synth[ensemble_df_bank_synth.index.isin(df_bank_synth_1.index)]\n",
    "\n",
    "# Credit dataset (real)\n",
    "ensemble_df_credit_real_0 = ensemble_df_credit_real[ensemble_df_credit_real.index.isin(df_credit_real_0.index)]\n",
    "ensemble_df_credit_real_1 = ensemble_df_credit_real[ensemble_df_credit_real.index.isin(df_credit_real_1.index)]\n",
    "\n",
    "# Credit dataset (synthetic)\n",
    "ensemble_df_credit_synth_0 = ensemble_df_credit_synth[ensemble_df_credit_synth.index.isin(df_credit_synth_0.index)]\n",
    "ensemble_df_credit_synth_1 = ensemble_df_credit_synth[ensemble_df_credit_synth.index.isin(df_credit_synth_1.index)]\n",
    "\n",
    "# Iranian dataset (real)\n",
    "ensemble_df_iranian_real_0 = ensemble_df_iranian_real[ensemble_df_iranian_real.index.isin(df_iranian_real_0.index)]\n",
    "ensemble_df_iranian_real_1 = ensemble_df_iranian_real[ensemble_df_iranian_real.index.isin(df_iranian_real_1.index)]\n",
    "\n",
    "# Iranian dataset (synthetic)\n",
    "ensemble_df_iranian_synth_0 = ensemble_df_iranian_synth[ensemble_df_iranian_synth.index.isin(df_iranian_synth_0.index)]\n",
    "ensemble_df_iranian_synth_1 = ensemble_df_iranian_synth[ensemble_df_iranian_synth.index.isin(df_iranian_synth_1.index)]\n",
    "\n",
    "# Telco dataset (real)\n",
    "ensemble_df_telco_real_0 = ensemble_df_telco_real[ensemble_df_telco_real.index.isin(df_telco_real_0.index)]\n",
    "ensemble_df_telco_real_1 = ensemble_df_telco_real[ensemble_df_telco_real.index.isin(df_telco_real_1.index)]\n",
    "\n",
    "# Telco dataset (synthetic)\n",
    "ensemble_df_telco_synth_0 = ensemble_df_telco_synth[ensemble_df_telco_synth.index.isin(df_telco_synth_0.index)]\n",
    "ensemble_df_telco_synth_1 = ensemble_df_telco_synth[ensemble_df_telco_synth.index.isin(df_telco_synth_1.index)]"
   ]
  },
  {
   "cell_type": "markdown",
   "metadata": {},
   "source": [
    "#### Slice only the Test Sets from the datasets since it's what we use in the explanations"
   ]
  },
  {
   "cell_type": "code",
   "execution_count": 38,
   "metadata": {},
   "outputs": [],
   "source": [
    "# **For df_bank real and synthetic (churn = 0 and churn = 1)**\n",
    "df_bank_synth_0 = df_bank_synth_0.loc[df_bank_synth_0.index.isin(ensemble_df_bank_synth.index.unique())]\n",
    "df_bank_synth_1 = df_bank_synth_1.loc[df_bank_synth_1.index.isin(ensemble_df_bank_synth.index.unique())]\n",
    "df_bank_real_0 = df_bank_real_0.loc[df_bank_real_0.index.isin(ensemble_df_bank_real.index.unique())]\n",
    "df_bank_real_1 = df_bank_real_1.loc[df_bank_real_1.index.isin(ensemble_df_bank_real.index.unique())]\n",
    "\n",
    "# **For df_credit real and synthetic (churn = 0 and churn = 1)**\n",
    "df_credit_synth_0 = df_credit_synth_0.loc[df_credit_synth_0.index.isin(ensemble_df_credit_synth.index.unique())]\n",
    "df_credit_synth_1 = df_credit_synth_1.loc[df_credit_synth_1.index.isin(ensemble_df_credit_synth.index.unique())]\n",
    "df_credit_real_0 = df_credit_real_0.loc[df_credit_real_0.index.isin(ensemble_df_credit_real.index.unique())]\n",
    "df_credit_real_1 = df_credit_real_1.loc[df_credit_real_1.index.isin(ensemble_df_credit_real.index.unique())]\n",
    "\n",
    "# **For df_iranian real and synthetic (churn = 0 and churn = 1)**\n",
    "df_iranian_synth_0 = df_iranian_synth_0.loc[df_iranian_synth_0.index.isin(ensemble_df_iranian_synth.index.unique())]\n",
    "df_iranian_synth_1 = df_iranian_synth_1.loc[df_iranian_synth_1.index.isin(ensemble_df_iranian_synth.index.unique())]\n",
    "df_iranian_real_0 = df_iranian_real_0.loc[df_iranian_real_0.index.isin(ensemble_df_iranian_real.index.unique())]\n",
    "df_iranian_real_1 = df_iranian_real_1.loc[df_iranian_real_1.index.isin(ensemble_df_iranian_real.index.unique())]\n",
    "\n",
    "# **For df_telco real and synthetic (churn = 0 and churn = 1)**\n",
    "df_telco_synth_0 = df_telco_synth_0.loc[df_telco_synth_0.index.isin(ensemble_df_telco_synth.index.unique())]\n",
    "df_telco_synth_1 = df_telco_synth_1.loc[df_telco_synth_1.index.isin(ensemble_df_telco_synth.index.unique())]\n",
    "df_telco_real_0 = df_telco_real_0.loc[df_telco_real_0.index.isin(ensemble_df_telco_real.index.unique())]\n",
    "df_telco_real_1 = df_telco_real_1.loc[df_telco_real_1.index.isin(ensemble_df_telco_real.index.unique())]"
   ]
  },
  {
   "cell_type": "code",
   "execution_count": 39,
   "metadata": {},
   "outputs": [],
   "source": [
    "datasets = {\n",
    "    \"df_bank_real_0\": df_bank_real_0,\n",
    "    \"df_bank_real_1\": df_bank_real_1,\n",
    "    \"df_bank_synth_0\": df_bank_synth_0,\n",
    "    \"df_bank_synth_1\": df_bank_synth_1,\n",
    "    \"df_credit_real_0\": df_credit_real_0,\n",
    "    \"df_credit_real_1\": df_credit_real_1,\n",
    "    \"df_credit_synth_0\": df_credit_synth_0,\n",
    "    \"df_credit_synth_1\": df_credit_synth_1,\n",
    "    \"df_iranian_real_0\": df_iranian_real_0,\n",
    "    \"df_iranian_real_1\": df_iranian_real_1,\n",
    "    \"df_iranian_synth_0\": df_iranian_synth_0,\n",
    "    \"df_iranian_synth_1\": df_iranian_synth_1,\n",
    "    \"df_telco_real_0\": df_telco_real_0,\n",
    "    \"df_telco_real_1\": df_telco_real_1,\n",
    "    \"df_telco_synth_0\": df_telco_synth_0,\n",
    "    \"df_telco_synth_1\": df_telco_synth_1,\n",
    "}"
   ]
  },
  {
   "cell_type": "code",
   "execution_count": 40,
   "metadata": {},
   "outputs": [],
   "source": [
    "k = 5\n",
    "\n",
    "# Store centroids\n",
    "real_centroids = {}\n",
    "synth_centroids = {}\n",
    "\n",
    "# Apply KMeans and store centroids\n",
    "for name, df in datasets.items():\n",
    "    kmeans = KMeans(n_clusters=k, random_state=42, n_init=10)\n",
    "    clusters = kmeans.fit_predict(df)\n",
    "    df['cluster'] = clusters\n",
    "\n",
    "    if \"real\" in name:\n",
    "        real_centroids[name] = kmeans.cluster_centers_\n",
    "    elif \"synth\" in name:\n",
    "        synth_centroids[name] = kmeans.cluster_centers_\n",
    "\n",
    "# Calculate distances between real and synthetic centroids\n",
    "distances = {}\n",
    "for real_name, real_center in real_centroids.items():\n",
    "    # Match the corresponding synthetic name\n",
    "    synth_name = real_name.replace(\"real\", \"synth\")\n",
    "    if synth_name in synth_centroids:\n",
    "        synth_center = synth_centroids[synth_name]\n",
    "        dist = euclidean_distances(real_center, synth_center)\n",
    "        distances[f\"{real_name} vs {synth_name}\"] = dist"
   ]
  },
  {
   "cell_type": "code",
   "execution_count": 110,
   "metadata": {},
   "outputs": [
    {
     "data": {
      "text/plain": [
       "{'df_bank_real_0 vs df_bank_synth_0': array([[105779.45059119, 132751.17803706,   1789.51550533,\n",
       "         114797.91749935, 163797.03356463],\n",
       "        [120967.64771303,  44560.8992617 , 162755.78128879,\n",
       "         122735.2465918 ,   7813.45780282],\n",
       "        [175908.63293265,  88643.32400048, 123327.27366157,\n",
       "          12026.61791263, 138406.86097829],\n",
       "        [  7068.86238847, 118081.24775118,  97122.98612493,\n",
       "         158116.4278349 , 115284.64104288],\n",
       "        [135823.28043465,  23745.79960772, 127715.29113669,\n",
       "          55651.78654535,  73115.92128176]]),\n",
       " 'df_bank_real_1 vs df_bank_synth_1': array([[128420.94657797,  14470.92774326, 131372.04104288,\n",
       "          66446.28749011,  61230.22243191],\n",
       "        [126664.61995373,  85382.93829   , 181551.4326814 ,\n",
       "         138092.15127642,  20199.25279519],\n",
       "        [170381.22677786,  49078.40886466, 128780.12771965,\n",
       "          18369.22852584, 120614.417045  ],\n",
       "        [  6602.69938874, 124707.65587123, 116192.57964601,\n",
       "         161901.49316003, 102212.52587382],\n",
       "        [ 93616.62198009, 110512.90575705,  20120.97341104,\n",
       "         112276.18734574, 145670.97846203]]),\n",
       " 'df_credit_real_0 vs df_credit_synth_0': array([[ 6842.23288912, 10714.08181851, 12254.46665439, 22488.35411609,\n",
       "           548.41965034],\n",
       "        [30090.1641349 , 12553.08268989, 29446.44396386,   922.8027134 ,\n",
       "         22904.42577285],\n",
       "        [17208.84218213,   682.18372725, 17929.54697714, 12098.7751145 ,\n",
       "         10081.67475173],\n",
       "        [12044.40121921, 16530.40648181,  2378.9546383 , 26281.91353136,\n",
       "         11845.54946902],\n",
       "        [  422.73167337, 17679.45056252, 11198.94130586, 29434.07887797,\n",
       "          7431.01644004]]),\n",
       " 'df_credit_real_1 vs df_credit_synth_1': array([[ 7633.92785708, 22439.8802885 ,  9701.89114477,  9336.41132531,\n",
       "          1112.43071126],\n",
       "        [28783.23504517,  1743.19235865, 11605.75141632, 27109.61637893,\n",
       "         22043.52527304],\n",
       "        [ 1202.54186885, 31081.73636811, 18317.33237011,  8578.36803336,\n",
       "          7844.2515738 ],\n",
       "        [ 6356.55341114, 27381.1966972 , 15148.84527269,  1731.41893569,\n",
       "          7015.80588033],\n",
       "        [16989.07532797, 13159.69111346,  1830.00394127, 15045.12445134,\n",
       "         10408.35291632]]),\n",
       " 'df_iranian_real_0 vs df_iranian_synth_0': array([[  652.59716282,  8485.28653744, 13246.74877732,  1950.74599633,\n",
       "          5055.00298828],\n",
       "        [ 9782.62298471,   804.45527322,  4091.0594531 ,  7255.61834222,\n",
       "          4151.51442817],\n",
       "        [ 6159.10996719,  2952.38914667,  7738.66551878,  3616.64079478,\n",
       "           496.94266625],\n",
       "        [14309.11100065,  5213.65553475,   508.15768133, 11774.26890227,\n",
       "          8655.42502725],\n",
       "        [ 2808.62213068,  6299.13539386, 11077.37468044,   266.09489428,\n",
       "          2857.79159082]]),\n",
       " 'df_iranian_real_1 vs df_iranian_synth_1': array([[ 2162.57700437,  8033.47853625,  3055.84406499,   823.80250556,\n",
       "          1388.56309572],\n",
       "        [  861.87752291, 11051.31286819,    59.55608338,  2213.28734181,\n",
       "          4408.84239631],\n",
       "        [ 4748.93602132,  5452.19940086,  5642.36746676,  3402.83212514,\n",
       "          1201.92094536],\n",
       "        [  623.58006381,  9571.92613269,  1515.81306379,   738.84293797,\n",
       "          2927.98736134],\n",
       "        [  155.52719285, 10344.06559287,   743.33816381,  1504.70296064,\n",
       "          3700.46746055]]),\n",
       " 'df_telco_real_0 vs df_telco_synth_0': array([[6214.60824694,  244.45108306, 2218.76788837,  974.11674813,\n",
       "         4285.76347549],\n",
       "        [2889.35220959, 3080.94891643, 1106.63601343, 4299.40728762,\n",
       "          960.58389882],\n",
       "        [ 755.1555622 , 5215.38141546, 3241.0282041 , 6433.83737348,\n",
       "         1174.14030055],\n",
       "        [7326.49630995, 1356.40529338, 3330.69378403,  138.44340402,\n",
       "         5397.66220069],\n",
       "        [4816.52260875, 1153.77417599,  820.74638349, 2372.2081279 ,\n",
       "         2887.68466375]]),\n",
       " 'df_telco_real_1 vs df_telco_synth_1': array([[  44.89856975, 4302.93443453, 2775.33167654, 6009.54473231,\n",
       "         1165.42092915],\n",
       "        [4629.65006383,  370.86255748, 1898.01655488, 1336.78441267,\n",
       "         3507.88319256],\n",
       "        [2542.86375809, 1716.56099519,  189.58404898, 3423.22863776,\n",
       "         1421.09644492],\n",
       "        [1105.46431675, 3154.01203945, 1626.44986713, 4860.655949  ,\n",
       "           19.29934025],\n",
       "        [6500.30120329, 2241.0589947 , 3768.62411577,  535.64506863,\n",
       "         5378.53891861]])}"
      ]
     },
     "execution_count": 110,
     "metadata": {},
     "output_type": "execute_result"
    }
   ],
   "source": [
    "distances"
   ]
  },
  {
   "cell_type": "markdown",
   "metadata": {},
   "source": [
    "#### Assign corresponding cluster labels to the CF explanations"
   ]
  },
  {
   "cell_type": "code",
   "execution_count": 42,
   "metadata": {},
   "outputs": [],
   "source": [
    "# Map the clusters for churn = 0 and churn = 1\n",
    "ensemble_df_bank_real_0['cluster_real'] = ensemble_df_bank_real_0.index.map(df_bank_real_0['cluster'])\n",
    "ensemble_df_bank_real_1['cluster_real'] = ensemble_df_bank_real_1.index.map(df_bank_real_1['cluster'])\n",
    "ensemble_df_bank_synth_0['cluster_synth'] = ensemble_df_bank_synth_0.index.map(df_bank_synth_0['cluster'])\n",
    "ensemble_df_bank_synth_1['cluster_synth'] = ensemble_df_bank_synth_1.index.map(df_bank_synth_1['cluster'])\n",
    "\n",
    "# Map the clusters for churn = 0 and churn = 1\n",
    "ensemble_df_credit_real_0['cluster_real'] = ensemble_df_credit_real_0.index.map(df_credit_real_0['cluster'])\n",
    "ensemble_df_credit_real_1['cluster_real'] = ensemble_df_credit_real_1.index.map(df_credit_real_1['cluster'])\n",
    "ensemble_df_credit_synth_0['cluster_synth'] = ensemble_df_credit_synth_0.index.map(df_credit_synth_0['cluster'])\n",
    "ensemble_df_credit_synth_1['cluster_synth'] = ensemble_df_credit_synth_1.index.map(df_credit_synth_1['cluster'])\n",
    "\n",
    "# Map the clusters for churn = 0 and churn = 1\n",
    "ensemble_df_iranian_real_0['cluster_real'] = ensemble_df_iranian_real_0.index.map(df_iranian_real_0['cluster'])\n",
    "ensemble_df_iranian_real_1['cluster_real'] = ensemble_df_iranian_real_1.index.map(df_iranian_real_1['cluster'])\n",
    "ensemble_df_iranian_synth_0['cluster_synth'] = ensemble_df_iranian_synth_0.index.map(df_iranian_synth_0['cluster'])\n",
    "ensemble_df_iranian_synth_1['cluster_synth'] = ensemble_df_iranian_synth_1.index.map(df_iranian_synth_1['cluster'])\n",
    "\n",
    "# Map the clusters for churn = 0 and churn = 1\n",
    "ensemble_df_telco_real_0['cluster_real'] = ensemble_df_telco_real_0.index.map(df_telco_real_0['cluster'])\n",
    "ensemble_df_telco_real_1['cluster_real'] = ensemble_df_telco_real_1.index.map(df_telco_real_1['cluster'])\n",
    "ensemble_df_telco_synth_0['cluster_synth'] = ensemble_df_telco_synth_0.index.map(df_telco_synth_0['cluster'])\n",
    "ensemble_df_telco_synth_1['cluster_synth'] = ensemble_df_telco_synth_1.index.map(df_telco_synth_1['cluster'])"
   ]
  },
  {
   "cell_type": "code",
   "execution_count": null,
   "metadata": {},
   "outputs": [
    {
     "name": "stdout",
     "output_type": "stream",
     "text": [
      "Total combinations: 200\n"
     ]
    }
   ],
   "source": [
    "import itertools\n",
    "\n",
    "datasets = [\"bank\", \"credit\", \"iranian\", \"telco\"]\n",
    "labels = [\"0\", \"1\"]  # Ensemble labels \n",
    "cluster_nums = range(5)  # 5 clusters (0-4)\n",
    "\n",
    "all_combinations = []\n",
    "\n",
    "for dataset in datasets:\n",
    "    for label in labels:\n",
    "        # Load ensemble DataFrames\n",
    "        real_df = globals()[f\"ensemble_df_{dataset}_real_{label}\"]\n",
    "        synth_df = globals()[f\"ensemble_df_{dataset}_synth_{label}\"]\n",
    "        \n",
    "        # Generate all cluster pairs (5x5)\n",
    "        for real_cluster, synth_cluster in itertools.product(cluster_nums, cluster_nums):\n",
    "            all_combinations.append((\n",
    "                real_df, synth_df, dataset, label, real_cluster, synth_cluster\n",
    "            ))\n",
    "\n",
    "print(f\"Total combinations: {len(all_combinations)}\")  # 4 datasets × 2 labels × 25 pairs = 200"
   ]
  },
  {
   "cell_type": "code",
   "execution_count": 44,
   "metadata": {},
   "outputs": [],
   "source": [
    "def compute_kl_divergence(posterior_df, prior_df, cat_cols, cont_cols, bins='sturges', epsilon=1e-10):\n",
    "    kl_values = {}\n",
    "    \n",
    "    for col in cont_cols:\n",
    "        try:\n",
    "            # Skip empty columns\n",
    "            if len(posterior_df[col].dropna()) == 0 or len(prior_df[col].dropna()) == 0:\n",
    "                kl_values[col] = 0\n",
    "                continue\n",
    "\n",
    "            # Determine bins\n",
    "            if bins == 'sturges':\n",
    "                bins = max(3, int(np.ceil(np.log2(len(posterior_df[col])) + 1)))  # Ensure minimum 3 bins\n",
    "\n",
    "            # Bin with common edges\n",
    "            combined = pd.concat([posterior_df[col], prior_df[col]])\n",
    "            bin_edges = np.histogram_bin_edges(combined.dropna(), bins=bins)\n",
    "            \n",
    "            posterior_hist, _ = np.histogram(posterior_df[col], bins=bin_edges, density=True)\n",
    "            prior_hist, _ = np.histogram(prior_df[col], bins=bin_edges, density=True)\n",
    "\n",
    "            # Add epsilon and normalize properly\n",
    "            posterior_prob = (posterior_hist + epsilon) / (posterior_hist.sum() + epsilon * len(posterior_hist))\n",
    "            prior_prob = (prior_hist + epsilon) / (prior_hist.sum() + epsilon * len(prior_hist))\n",
    "            \n",
    "            # Safe KL calculation\n",
    "            ratio = np.clip(posterior_prob / prior_prob, 1e-10, 1e10)\n",
    "            kl = np.sum(posterior_prob * np.log(ratio))\n",
    "            kl_values[col] = np.nan_to_num(kl, nan=0, posinf=10, neginf=0)\n",
    "            \n",
    "        except Exception as e:\n",
    "            print(f\"Warning: Couldn't compute KL for {col} - {str(e)}\")\n",
    "            kl_values[col] = 0\n",
    "\n",
    "    for col in cat_cols:\n",
    "        try:\n",
    "            posterior_counts = posterior_df[col].value_counts(normalize=True).sort_index()\n",
    "            prior_counts = prior_df[col].value_counts(normalize=True).sort_index()\n",
    "            \n",
    "            all_categories = set(posterior_counts.index).union(set(prior_counts.index))\n",
    "            \n",
    "            # Apply epsilon and normalize properly\n",
    "            posterior_prob = np.array([posterior_counts.get(cat, epsilon) for cat in all_categories])\n",
    "            prior_prob = np.array([prior_counts.get(cat, epsilon) for cat in all_categories])\n",
    "            \n",
    "            posterior_prob = posterior_prob / posterior_prob.sum()\n",
    "            prior_prob = prior_prob / prior_prob.sum()\n",
    "            \n",
    "            # Safe KL calculation\n",
    "            ratio = np.clip(posterior_prob / prior_prob, 1e-10, 1e10)\n",
    "            kl = np.sum(posterior_prob * np.log(ratio))\n",
    "            kl_values[col] = np.nan_to_num(kl, nan=0, posinf=10, neginf=0)\n",
    "            \n",
    "        except Exception as e:\n",
    "            print(f\"Warning: Couldn't compute KL for {col} - {str(e)}\")\n",
    "            kl_values[col] = 0\n",
    "\n",
    "    # Calculate average only using valid values\n",
    "    valid_kls = [v for v in kl_values.values() if np.isfinite(v)]\n",
    "    avg_kl_divergence = np.mean(valid_kls) if valid_kls else 0\n",
    "    \n",
    "    return avg_kl_divergence"
   ]
  },
  {
   "cell_type": "code",
   "execution_count": 45,
   "metadata": {},
   "outputs": [
    {
     "name": "stderr",
     "output_type": "stream",
     "text": [
      "Processing datasets:   0%|          | 0/200 [00:00<?, ?it/s]"
     ]
    },
    {
     "name": "stdout",
     "output_type": "stream",
     "text": [
      "\n",
      "Processing bank_label0_realC0_synthC0\n"
     ]
    },
    {
     "name": "stderr",
     "output_type": "stream",
     "text": [
      "Processing datasets:   0%|          | 1/200 [00:00<02:38,  1.25it/s]"
     ]
    },
    {
     "name": "stdout",
     "output_type": "stream",
     "text": [
      "\n",
      "Processing bank_label0_realC0_synthC1\n"
     ]
    },
    {
     "name": "stderr",
     "output_type": "stream",
     "text": [
      "Processing datasets:   1%|          | 2/200 [00:01<02:39,  1.24it/s]"
     ]
    },
    {
     "name": "stdout",
     "output_type": "stream",
     "text": [
      "\n",
      "Processing bank_label0_realC0_synthC2\n"
     ]
    },
    {
     "name": "stderr",
     "output_type": "stream",
     "text": [
      "Processing datasets:   2%|▏         | 3/200 [00:02<02:12,  1.49it/s]"
     ]
    },
    {
     "name": "stdout",
     "output_type": "stream",
     "text": [
      "\n",
      "Processing bank_label0_realC0_synthC3\n"
     ]
    },
    {
     "name": "stderr",
     "output_type": "stream",
     "text": [
      "Processing datasets:   2%|▏         | 4/200 [00:02<01:57,  1.66it/s]"
     ]
    },
    {
     "name": "stdout",
     "output_type": "stream",
     "text": [
      "\n",
      "Processing bank_label0_realC0_synthC4\n"
     ]
    },
    {
     "name": "stderr",
     "output_type": "stream",
     "text": [
      "Processing datasets:   2%|▎         | 5/200 [00:03<01:51,  1.74it/s]"
     ]
    },
    {
     "name": "stdout",
     "output_type": "stream",
     "text": [
      "\n",
      "Processing bank_label0_realC1_synthC0\n"
     ]
    },
    {
     "name": "stderr",
     "output_type": "stream",
     "text": [
      "Processing datasets:   3%|▎         | 6/200 [00:03<01:48,  1.78it/s]"
     ]
    },
    {
     "name": "stdout",
     "output_type": "stream",
     "text": [
      "\n",
      "Processing bank_label0_realC1_synthC1\n"
     ]
    },
    {
     "name": "stderr",
     "output_type": "stream",
     "text": [
      "Processing datasets:   4%|▎         | 7/200 [00:03<01:28,  2.18it/s]"
     ]
    },
    {
     "name": "stdout",
     "output_type": "stream",
     "text": [
      "\n",
      "Processing bank_label0_realC1_synthC2\n"
     ]
    },
    {
     "name": "stderr",
     "output_type": "stream",
     "text": [
      "Processing datasets:   4%|▍         | 8/200 [00:04<01:31,  2.11it/s]"
     ]
    },
    {
     "name": "stdout",
     "output_type": "stream",
     "text": [
      "\n",
      "Processing bank_label0_realC1_synthC3\n"
     ]
    },
    {
     "name": "stderr",
     "output_type": "stream",
     "text": [
      "Processing datasets:   4%|▍         | 9/200 [00:04<01:23,  2.29it/s]"
     ]
    },
    {
     "name": "stdout",
     "output_type": "stream",
     "text": [
      "\n",
      "Processing bank_label0_realC1_synthC4\n"
     ]
    },
    {
     "name": "stderr",
     "output_type": "stream",
     "text": [
      "Processing datasets:   5%|▌         | 10/200 [00:05<01:13,  2.58it/s]"
     ]
    },
    {
     "name": "stdout",
     "output_type": "stream",
     "text": [
      "\n",
      "Processing bank_label0_realC2_synthC0\n"
     ]
    },
    {
     "name": "stderr",
     "output_type": "stream",
     "text": [
      "Processing datasets:   6%|▌         | 11/200 [00:05<01:22,  2.28it/s]"
     ]
    },
    {
     "name": "stdout",
     "output_type": "stream",
     "text": [
      "\n",
      "Processing bank_label0_realC2_synthC1\n"
     ]
    },
    {
     "name": "stderr",
     "output_type": "stream",
     "text": [
      "Processing datasets:   6%|▌         | 12/200 [00:05<01:12,  2.61it/s]"
     ]
    },
    {
     "name": "stdout",
     "output_type": "stream",
     "text": [
      "\n",
      "Processing bank_label0_realC2_synthC2\n"
     ]
    },
    {
     "name": "stderr",
     "output_type": "stream",
     "text": [
      "Processing datasets:   6%|▋         | 13/200 [00:06<01:04,  2.89it/s]"
     ]
    },
    {
     "name": "stdout",
     "output_type": "stream",
     "text": [
      "\n",
      "Processing bank_label0_realC2_synthC3\n"
     ]
    },
    {
     "name": "stderr",
     "output_type": "stream",
     "text": [
      "Processing datasets:   7%|▋         | 14/200 [00:06<01:13,  2.53it/s]"
     ]
    },
    {
     "name": "stdout",
     "output_type": "stream",
     "text": [
      "\n",
      "Processing bank_label0_realC2_synthC4\n"
     ]
    },
    {
     "name": "stderr",
     "output_type": "stream",
     "text": [
      "Processing datasets:   8%|▊         | 15/200 [00:06<01:06,  2.80it/s]"
     ]
    },
    {
     "name": "stdout",
     "output_type": "stream",
     "text": [
      "\n",
      "Processing bank_label0_realC3_synthC0\n"
     ]
    },
    {
     "name": "stderr",
     "output_type": "stream",
     "text": [
      "Processing datasets:   8%|▊         | 16/200 [00:07<01:02,  2.94it/s]"
     ]
    },
    {
     "name": "stdout",
     "output_type": "stream",
     "text": [
      "\n",
      "Processing bank_label0_realC3_synthC1\n"
     ]
    },
    {
     "name": "stderr",
     "output_type": "stream",
     "text": [
      "Processing datasets:   8%|▊         | 17/200 [00:07<01:10,  2.61it/s]"
     ]
    },
    {
     "name": "stdout",
     "output_type": "stream",
     "text": [
      "\n",
      "Processing bank_label0_realC3_synthC2\n"
     ]
    },
    {
     "name": "stderr",
     "output_type": "stream",
     "text": [
      "Processing datasets:   9%|▉         | 18/200 [00:08<01:16,  2.39it/s]"
     ]
    },
    {
     "name": "stdout",
     "output_type": "stream",
     "text": [
      "\n",
      "Processing bank_label0_realC3_synthC3\n"
     ]
    },
    {
     "name": "stderr",
     "output_type": "stream",
     "text": [
      "Processing datasets:  10%|▉         | 19/200 [00:08<01:06,  2.72it/s]"
     ]
    },
    {
     "name": "stdout",
     "output_type": "stream",
     "text": [
      "\n",
      "Processing bank_label0_realC3_synthC4\n"
     ]
    },
    {
     "name": "stderr",
     "output_type": "stream",
     "text": [
      "Processing datasets:  10%|█         | 20/200 [00:08<01:14,  2.43it/s]"
     ]
    },
    {
     "name": "stdout",
     "output_type": "stream",
     "text": [
      "\n",
      "Processing bank_label0_realC4_synthC0\n"
     ]
    },
    {
     "name": "stderr",
     "output_type": "stream",
     "text": [
      "Processing datasets:  10%|█         | 21/200 [00:09<01:07,  2.66it/s]"
     ]
    },
    {
     "name": "stdout",
     "output_type": "stream",
     "text": [
      "\n",
      "Processing bank_label0_realC4_synthC1\n"
     ]
    },
    {
     "name": "stderr",
     "output_type": "stream",
     "text": [
      "Processing datasets:  11%|█         | 22/200 [00:09<01:05,  2.71it/s]"
     ]
    },
    {
     "name": "stdout",
     "output_type": "stream",
     "text": [
      "\n",
      "Processing bank_label0_realC4_synthC2\n"
     ]
    },
    {
     "name": "stderr",
     "output_type": "stream",
     "text": [
      "Processing datasets:  12%|█▏        | 23/200 [00:09<00:58,  3.03it/s]"
     ]
    },
    {
     "name": "stdout",
     "output_type": "stream",
     "text": [
      "\n",
      "Processing bank_label0_realC4_synthC3\n"
     ]
    },
    {
     "name": "stderr",
     "output_type": "stream",
     "text": [
      "Processing datasets:  12%|█▏        | 24/200 [00:10<00:53,  3.31it/s]"
     ]
    },
    {
     "name": "stdout",
     "output_type": "stream",
     "text": [
      "\n",
      "Processing bank_label0_realC4_synthC4\n"
     ]
    },
    {
     "name": "stderr",
     "output_type": "stream",
     "text": [
      "Processing datasets:  12%|█▎        | 25/200 [00:10<01:07,  2.60it/s]"
     ]
    },
    {
     "name": "stdout",
     "output_type": "stream",
     "text": [
      "\n",
      "Processing bank_label1_realC0_synthC0\n"
     ]
    },
    {
     "name": "stderr",
     "output_type": "stream",
     "text": [
      "Processing datasets:  13%|█▎        | 26/200 [00:12<02:31,  1.15it/s]"
     ]
    },
    {
     "name": "stdout",
     "output_type": "stream",
     "text": [
      "\n",
      "Processing bank_label1_realC0_synthC1\n"
     ]
    },
    {
     "name": "stderr",
     "output_type": "stream",
     "text": [
      "Processing datasets:  14%|█▎        | 27/200 [00:12<01:56,  1.49it/s]"
     ]
    },
    {
     "name": "stdout",
     "output_type": "stream",
     "text": [
      "\n",
      "Processing bank_label1_realC0_synthC2\n"
     ]
    },
    {
     "name": "stderr",
     "output_type": "stream",
     "text": [
      "Processing datasets:  14%|█▍        | 28/200 [00:13<01:31,  1.89it/s]"
     ]
    },
    {
     "name": "stdout",
     "output_type": "stream",
     "text": [
      "\n",
      "Processing bank_label1_realC0_synthC3\n"
     ]
    },
    {
     "name": "stderr",
     "output_type": "stream",
     "text": [
      "Processing datasets:  14%|█▍        | 29/200 [00:13<01:27,  1.96it/s]"
     ]
    },
    {
     "name": "stdout",
     "output_type": "stream",
     "text": [
      "\n",
      "Processing bank_label1_realC0_synthC4\n"
     ]
    },
    {
     "name": "stderr",
     "output_type": "stream",
     "text": [
      "Processing datasets:  15%|█▌        | 30/200 [00:13<01:23,  2.04it/s]"
     ]
    },
    {
     "name": "stdout",
     "output_type": "stream",
     "text": [
      "\n",
      "Processing bank_label1_realC1_synthC0\n"
     ]
    },
    {
     "name": "stderr",
     "output_type": "stream",
     "text": [
      "Processing datasets:  16%|█▌        | 31/200 [00:14<01:07,  2.52it/s]"
     ]
    },
    {
     "name": "stdout",
     "output_type": "stream",
     "text": [
      "\n",
      "Processing bank_label1_realC1_synthC1\n"
     ]
    },
    {
     "name": "stderr",
     "output_type": "stream",
     "text": [
      "Processing datasets:  16%|█▌        | 32/200 [00:14<00:56,  2.96it/s]"
     ]
    },
    {
     "name": "stdout",
     "output_type": "stream",
     "text": [
      "\n",
      "Processing bank_label1_realC1_synthC2\n"
     ]
    },
    {
     "name": "stderr",
     "output_type": "stream",
     "text": [
      "Processing datasets:  16%|█▋        | 33/200 [00:14<00:48,  3.42it/s]"
     ]
    },
    {
     "name": "stdout",
     "output_type": "stream",
     "text": [
      "\n",
      "Processing bank_label1_realC1_synthC3\n"
     ]
    },
    {
     "name": "stderr",
     "output_type": "stream",
     "text": [
      "Processing datasets:  17%|█▋        | 34/200 [00:14<00:44,  3.74it/s]"
     ]
    },
    {
     "name": "stdout",
     "output_type": "stream",
     "text": [
      "\n",
      "Processing bank_label1_realC1_synthC4\n"
     ]
    },
    {
     "name": "stderr",
     "output_type": "stream",
     "text": [
      "Processing datasets:  18%|█▊        | 35/200 [00:15<00:54,  3.05it/s]"
     ]
    },
    {
     "name": "stdout",
     "output_type": "stream",
     "text": [
      "\n",
      "Processing bank_label1_realC2_synthC0\n"
     ]
    },
    {
     "name": "stderr",
     "output_type": "stream",
     "text": [
      "Processing datasets:  18%|█▊        | 36/200 [00:15<00:47,  3.46it/s]"
     ]
    },
    {
     "name": "stdout",
     "output_type": "stream",
     "text": [
      "\n",
      "Processing bank_label1_realC2_synthC1\n"
     ]
    },
    {
     "name": "stderr",
     "output_type": "stream",
     "text": [
      "Processing datasets:  18%|█▊        | 37/200 [00:15<00:43,  3.76it/s]"
     ]
    },
    {
     "name": "stdout",
     "output_type": "stream",
     "text": [
      "\n",
      "Processing bank_label1_realC2_synthC2\n"
     ]
    },
    {
     "name": "stderr",
     "output_type": "stream",
     "text": [
      "Processing datasets:  19%|█▉        | 38/200 [00:15<00:39,  4.06it/s]"
     ]
    },
    {
     "name": "stdout",
     "output_type": "stream",
     "text": [
      "\n",
      "Processing bank_label1_realC2_synthC3\n"
     ]
    },
    {
     "name": "stderr",
     "output_type": "stream",
     "text": [
      "Processing datasets:  20%|█▉        | 39/200 [00:16<00:42,  3.81it/s]"
     ]
    },
    {
     "name": "stdout",
     "output_type": "stream",
     "text": [
      "\n",
      "Processing bank_label1_realC2_synthC4\n"
     ]
    },
    {
     "name": "stderr",
     "output_type": "stream",
     "text": [
      "Processing datasets:  20%|██        | 40/200 [00:16<00:51,  3.13it/s]"
     ]
    },
    {
     "name": "stdout",
     "output_type": "stream",
     "text": [
      "\n",
      "Processing bank_label1_realC3_synthC0\n"
     ]
    },
    {
     "name": "stderr",
     "output_type": "stream",
     "text": [
      "Processing datasets:  20%|██        | 41/200 [00:17<00:56,  2.84it/s]"
     ]
    },
    {
     "name": "stdout",
     "output_type": "stream",
     "text": [
      "\n",
      "Processing bank_label1_realC3_synthC1\n"
     ]
    },
    {
     "name": "stderr",
     "output_type": "stream",
     "text": [
      "Processing datasets:  21%|██        | 42/200 [00:17<00:48,  3.29it/s]"
     ]
    },
    {
     "name": "stdout",
     "output_type": "stream",
     "text": [
      "\n",
      "Processing bank_label1_realC3_synthC2\n"
     ]
    },
    {
     "name": "stderr",
     "output_type": "stream",
     "text": [
      "Processing datasets:  22%|██▏       | 43/200 [00:17<00:54,  2.90it/s]"
     ]
    },
    {
     "name": "stdout",
     "output_type": "stream",
     "text": [
      "\n",
      "Processing bank_label1_realC3_synthC3\n"
     ]
    },
    {
     "name": "stderr",
     "output_type": "stream",
     "text": [
      "Processing datasets:  22%|██▏       | 44/200 [00:17<00:46,  3.33it/s]"
     ]
    },
    {
     "name": "stdout",
     "output_type": "stream",
     "text": [
      "\n",
      "Processing bank_label1_realC3_synthC4\n"
     ]
    },
    {
     "name": "stderr",
     "output_type": "stream",
     "text": [
      "Processing datasets:  22%|██▎       | 45/200 [00:19<01:51,  1.40it/s]"
     ]
    },
    {
     "name": "stdout",
     "output_type": "stream",
     "text": [
      "\n",
      "Processing bank_label1_realC4_synthC0\n"
     ]
    },
    {
     "name": "stderr",
     "output_type": "stream",
     "text": [
      "Processing datasets:  23%|██▎       | 46/200 [00:19<01:26,  1.79it/s]"
     ]
    },
    {
     "name": "stdout",
     "output_type": "stream",
     "text": [
      "\n",
      "Processing bank_label1_realC4_synthC1\n"
     ]
    },
    {
     "name": "stderr",
     "output_type": "stream",
     "text": [
      "Processing datasets:  24%|██▎       | 47/200 [00:19<01:09,  2.20it/s]"
     ]
    },
    {
     "name": "stdout",
     "output_type": "stream",
     "text": [
      "\n",
      "Processing bank_label1_realC4_synthC2\n"
     ]
    },
    {
     "name": "stderr",
     "output_type": "stream",
     "text": [
      "Processing datasets:  24%|██▍       | 48/200 [00:20<00:57,  2.64it/s]"
     ]
    },
    {
     "name": "stdout",
     "output_type": "stream",
     "text": [
      "\n",
      "Processing bank_label1_realC4_synthC3\n"
     ]
    },
    {
     "name": "stderr",
     "output_type": "stream",
     "text": [
      "Processing datasets:  24%|██▍       | 49/200 [00:20<00:50,  3.01it/s]"
     ]
    },
    {
     "name": "stdout",
     "output_type": "stream",
     "text": [
      "\n",
      "Processing bank_label1_realC4_synthC4\n"
     ]
    },
    {
     "name": "stderr",
     "output_type": "stream",
     "text": [
      "Processing datasets:  25%|██▌       | 50/200 [00:20<00:43,  3.47it/s]"
     ]
    },
    {
     "name": "stdout",
     "output_type": "stream",
     "text": [
      "\n",
      "Processing credit_label0_realC0_synthC0\n"
     ]
    },
    {
     "name": "stderr",
     "output_type": "stream",
     "text": [
      "Processing datasets:  26%|██▌       | 51/200 [00:22<01:43,  1.44it/s]"
     ]
    },
    {
     "name": "stdout",
     "output_type": "stream",
     "text": [
      "\n",
      "Processing credit_label0_realC0_synthC1\n"
     ]
    },
    {
     "name": "stderr",
     "output_type": "stream",
     "text": [
      "Processing datasets:  26%|██▌       | 52/200 [00:23<02:13,  1.10it/s]"
     ]
    },
    {
     "name": "stdout",
     "output_type": "stream",
     "text": [
      "\n",
      "Processing credit_label0_realC0_synthC2\n"
     ]
    },
    {
     "name": "stderr",
     "output_type": "stream",
     "text": [
      "Processing datasets:  26%|██▋       | 53/200 [00:25<02:36,  1.06s/it]"
     ]
    },
    {
     "name": "stdout",
     "output_type": "stream",
     "text": [
      "\n",
      "Processing credit_label0_realC0_synthC3\n"
     ]
    },
    {
     "name": "stderr",
     "output_type": "stream",
     "text": [
      "Processing datasets:  27%|██▋       | 54/200 [00:26<02:53,  1.19s/it]"
     ]
    },
    {
     "name": "stdout",
     "output_type": "stream",
     "text": [
      "\n",
      "Processing credit_label0_realC0_synthC4\n"
     ]
    },
    {
     "name": "stderr",
     "output_type": "stream",
     "text": [
      "Processing datasets:  28%|██▊       | 55/200 [00:28<03:10,  1.32s/it]"
     ]
    },
    {
     "name": "stdout",
     "output_type": "stream",
     "text": [
      "\n",
      "Processing credit_label0_realC1_synthC0\n"
     ]
    },
    {
     "name": "stderr",
     "output_type": "stream",
     "text": [
      "Processing datasets:  28%|██▊       | 56/200 [00:30<03:34,  1.49s/it]"
     ]
    },
    {
     "name": "stdout",
     "output_type": "stream",
     "text": [
      "\n",
      "Processing credit_label0_realC1_synthC1\n"
     ]
    },
    {
     "name": "stderr",
     "output_type": "stream",
     "text": [
      "Processing datasets:  28%|██▊       | 57/200 [00:30<02:42,  1.14s/it]"
     ]
    },
    {
     "name": "stdout",
     "output_type": "stream",
     "text": [
      "\n",
      "Processing credit_label0_realC1_synthC2\n"
     ]
    },
    {
     "name": "stderr",
     "output_type": "stream",
     "text": [
      "Processing datasets:  29%|██▉       | 58/200 [00:33<04:22,  1.85s/it]"
     ]
    },
    {
     "name": "stdout",
     "output_type": "stream",
     "text": [
      "\n",
      "Processing credit_label0_realC1_synthC3\n"
     ]
    },
    {
     "name": "stderr",
     "output_type": "stream",
     "text": [
      "Processing datasets:  30%|██▉       | 59/200 [00:34<03:14,  1.38s/it]"
     ]
    },
    {
     "name": "stdout",
     "output_type": "stream",
     "text": [
      "\n",
      "Processing credit_label0_realC1_synthC4\n"
     ]
    },
    {
     "name": "stderr",
     "output_type": "stream",
     "text": [
      "Processing datasets:  30%|███       | 60/200 [00:35<03:21,  1.44s/it]"
     ]
    },
    {
     "name": "stdout",
     "output_type": "stream",
     "text": [
      "\n",
      "Processing credit_label0_realC2_synthC0\n"
     ]
    },
    {
     "name": "stderr",
     "output_type": "stream",
     "text": [
      "Processing datasets:  30%|███       | 61/200 [00:37<03:27,  1.49s/it]"
     ]
    },
    {
     "name": "stdout",
     "output_type": "stream",
     "text": [
      "\n",
      "Processing credit_label0_realC2_synthC1\n"
     ]
    },
    {
     "name": "stderr",
     "output_type": "stream",
     "text": [
      "Processing datasets:  31%|███       | 62/200 [00:37<02:39,  1.16s/it]"
     ]
    },
    {
     "name": "stdout",
     "output_type": "stream",
     "text": [
      "\n",
      "Processing credit_label0_realC2_synthC2\n"
     ]
    },
    {
     "name": "stderr",
     "output_type": "stream",
     "text": [
      "Processing datasets:  32%|███▏      | 63/200 [00:38<02:05,  1.09it/s]"
     ]
    },
    {
     "name": "stdout",
     "output_type": "stream",
     "text": [
      "\n",
      "Processing credit_label0_realC2_synthC3\n"
     ]
    },
    {
     "name": "stderr",
     "output_type": "stream",
     "text": [
      "Processing datasets:  32%|███▏      | 64/200 [00:38<01:39,  1.37it/s]"
     ]
    },
    {
     "name": "stdout",
     "output_type": "stream",
     "text": [
      "\n",
      "Processing credit_label0_realC2_synthC4\n"
     ]
    },
    {
     "name": "stderr",
     "output_type": "stream",
     "text": [
      "Processing datasets:  32%|███▎      | 65/200 [00:39<02:05,  1.08it/s]"
     ]
    },
    {
     "name": "stdout",
     "output_type": "stream",
     "text": [
      "\n",
      "Processing credit_label0_realC3_synthC0\n"
     ]
    },
    {
     "name": "stderr",
     "output_type": "stream",
     "text": [
      "Processing datasets:  33%|███▎      | 66/200 [00:41<02:32,  1.14s/it]"
     ]
    },
    {
     "name": "stdout",
     "output_type": "stream",
     "text": [
      "\n",
      "Processing credit_label0_realC3_synthC1\n"
     ]
    },
    {
     "name": "stderr",
     "output_type": "stream",
     "text": [
      "Processing datasets:  34%|███▎      | 67/200 [00:44<03:58,  1.79s/it]"
     ]
    },
    {
     "name": "stdout",
     "output_type": "stream",
     "text": [
      "\n",
      "Processing credit_label0_realC3_synthC2\n"
     ]
    },
    {
     "name": "stderr",
     "output_type": "stream",
     "text": [
      "Processing datasets:  34%|███▍      | 68/200 [00:45<02:59,  1.36s/it]"
     ]
    },
    {
     "name": "stdout",
     "output_type": "stream",
     "text": [
      "\n",
      "Processing credit_label0_realC3_synthC3\n"
     ]
    },
    {
     "name": "stderr",
     "output_type": "stream",
     "text": [
      "Processing datasets:  34%|███▍      | 69/200 [00:45<02:17,  1.05s/it]"
     ]
    },
    {
     "name": "stdout",
     "output_type": "stream",
     "text": [
      "\n",
      "Processing credit_label0_realC3_synthC4\n"
     ]
    },
    {
     "name": "stderr",
     "output_type": "stream",
     "text": [
      "Processing datasets:  35%|███▌      | 70/200 [00:46<02:31,  1.17s/it]"
     ]
    },
    {
     "name": "stdout",
     "output_type": "stream",
     "text": [
      "\n",
      "Processing credit_label0_realC4_synthC0\n"
     ]
    },
    {
     "name": "stderr",
     "output_type": "stream",
     "text": [
      "Processing datasets:  36%|███▌      | 71/200 [00:48<02:58,  1.38s/it]"
     ]
    },
    {
     "name": "stdout",
     "output_type": "stream",
     "text": [
      "\n",
      "Processing credit_label0_realC4_synthC1\n"
     ]
    },
    {
     "name": "stderr",
     "output_type": "stream",
     "text": [
      "Processing datasets:  36%|███▌      | 72/200 [00:50<03:21,  1.57s/it]"
     ]
    },
    {
     "name": "stdout",
     "output_type": "stream",
     "text": [
      "\n",
      "Processing credit_label0_realC4_synthC2\n"
     ]
    },
    {
     "name": "stderr",
     "output_type": "stream",
     "text": [
      "Processing datasets:  36%|███▋      | 73/200 [00:52<03:22,  1.59s/it]"
     ]
    },
    {
     "name": "stdout",
     "output_type": "stream",
     "text": [
      "\n",
      "Processing credit_label0_realC4_synthC3\n"
     ]
    },
    {
     "name": "stderr",
     "output_type": "stream",
     "text": [
      "Processing datasets:  37%|███▋      | 74/200 [00:54<03:24,  1.63s/it]"
     ]
    },
    {
     "name": "stdout",
     "output_type": "stream",
     "text": [
      "\n",
      "Processing credit_label0_realC4_synthC4\n"
     ]
    },
    {
     "name": "stderr",
     "output_type": "stream",
     "text": [
      "Processing datasets:  38%|███▊      | 75/200 [00:55<03:24,  1.64s/it]"
     ]
    },
    {
     "name": "stdout",
     "output_type": "stream",
     "text": [
      "\n",
      "Processing credit_label1_realC0_synthC0\n"
     ]
    },
    {
     "name": "stderr",
     "output_type": "stream",
     "text": [
      "Processing datasets:  38%|███▊      | 76/200 [00:57<03:13,  1.56s/it]"
     ]
    },
    {
     "name": "stdout",
     "output_type": "stream",
     "text": [
      "\n",
      "Processing credit_label1_realC0_synthC1\n"
     ]
    },
    {
     "name": "stderr",
     "output_type": "stream",
     "text": [
      "Processing datasets:  38%|███▊      | 77/200 [00:57<02:24,  1.18s/it]"
     ]
    },
    {
     "name": "stdout",
     "output_type": "stream",
     "text": [
      "\n",
      "Processing credit_label1_realC0_synthC2\n"
     ]
    },
    {
     "name": "stderr",
     "output_type": "stream",
     "text": [
      "Processing datasets:  39%|███▉      | 78/200 [00:57<01:50,  1.11it/s]"
     ]
    },
    {
     "name": "stdout",
     "output_type": "stream",
     "text": [
      "\n",
      "Processing credit_label1_realC0_synthC3\n"
     ]
    },
    {
     "name": "stderr",
     "output_type": "stream",
     "text": [
      "Processing datasets:  40%|███▉      | 79/200 [00:57<01:26,  1.40it/s]"
     ]
    },
    {
     "name": "stdout",
     "output_type": "stream",
     "text": [
      "\n",
      "Processing credit_label1_realC0_synthC4\n"
     ]
    },
    {
     "name": "stderr",
     "output_type": "stream",
     "text": [
      "Processing datasets:  40%|████      | 80/200 [00:58<01:09,  1.72it/s]"
     ]
    },
    {
     "name": "stdout",
     "output_type": "stream",
     "text": [
      "\n",
      "Processing credit_label1_realC1_synthC0\n"
     ]
    },
    {
     "name": "stderr",
     "output_type": "stream",
     "text": [
      "Processing datasets:  40%|████      | 81/200 [00:59<01:37,  1.22it/s]"
     ]
    },
    {
     "name": "stdout",
     "output_type": "stream",
     "text": [
      "\n",
      "Processing credit_label1_realC1_synthC1\n"
     ]
    },
    {
     "name": "stderr",
     "output_type": "stream",
     "text": [
      "Processing datasets:  41%|████      | 82/200 [00:59<01:17,  1.53it/s]"
     ]
    },
    {
     "name": "stdout",
     "output_type": "stream",
     "text": [
      "\n",
      "Processing credit_label1_realC1_synthC2\n"
     ]
    },
    {
     "name": "stderr",
     "output_type": "stream",
     "text": [
      "Processing datasets:  42%|████▏     | 83/200 [01:04<03:20,  1.71s/it]"
     ]
    },
    {
     "name": "stdout",
     "output_type": "stream",
     "text": [
      "\n",
      "Processing credit_label1_realC1_synthC3\n"
     ]
    },
    {
     "name": "stderr",
     "output_type": "stream",
     "text": [
      "Processing datasets:  42%|████▏     | 84/200 [01:04<02:29,  1.29s/it]"
     ]
    },
    {
     "name": "stdout",
     "output_type": "stream",
     "text": [
      "\n",
      "Processing credit_label1_realC1_synthC4\n"
     ]
    },
    {
     "name": "stderr",
     "output_type": "stream",
     "text": [
      "Processing datasets:  42%|████▎     | 85/200 [01:04<01:53,  1.01it/s]"
     ]
    },
    {
     "name": "stdout",
     "output_type": "stream",
     "text": [
      "\n",
      "Processing credit_label1_realC2_synthC0\n"
     ]
    },
    {
     "name": "stderr",
     "output_type": "stream",
     "text": [
      "Processing datasets:  43%|████▎     | 86/200 [01:05<02:06,  1.11s/it]"
     ]
    },
    {
     "name": "stdout",
     "output_type": "stream",
     "text": [
      "\n",
      "Processing credit_label1_realC2_synthC1\n"
     ]
    },
    {
     "name": "stderr",
     "output_type": "stream",
     "text": [
      "Processing datasets:  44%|████▎     | 87/200 [01:06<01:40,  1.12it/s]"
     ]
    },
    {
     "name": "stdout",
     "output_type": "stream",
     "text": [
      "\n",
      "Processing credit_label1_realC2_synthC2\n"
     ]
    },
    {
     "name": "stderr",
     "output_type": "stream",
     "text": [
      "Processing datasets:  44%|████▍     | 88/200 [01:06<01:20,  1.40it/s]"
     ]
    },
    {
     "name": "stdout",
     "output_type": "stream",
     "text": [
      "\n",
      "Processing credit_label1_realC2_synthC3\n"
     ]
    },
    {
     "name": "stderr",
     "output_type": "stream",
     "text": [
      "Processing datasets:  44%|████▍     | 89/200 [01:07<01:08,  1.63it/s]"
     ]
    },
    {
     "name": "stdout",
     "output_type": "stream",
     "text": [
      "\n",
      "Processing credit_label1_realC2_synthC4\n"
     ]
    },
    {
     "name": "stderr",
     "output_type": "stream",
     "text": [
      "Processing datasets:  45%|████▌     | 90/200 [01:07<00:57,  1.91it/s]"
     ]
    },
    {
     "name": "stdout",
     "output_type": "stream",
     "text": [
      "\n",
      "Processing credit_label1_realC3_synthC0\n"
     ]
    },
    {
     "name": "stderr",
     "output_type": "stream",
     "text": [
      "Processing datasets:  46%|████▌     | 91/200 [01:08<01:23,  1.30it/s]"
     ]
    },
    {
     "name": "stdout",
     "output_type": "stream",
     "text": [
      "\n",
      "Processing credit_label1_realC3_synthC1\n"
     ]
    },
    {
     "name": "stderr",
     "output_type": "stream",
     "text": [
      "Processing datasets:  46%|████▌     | 92/200 [01:08<01:07,  1.61it/s]"
     ]
    },
    {
     "name": "stdout",
     "output_type": "stream",
     "text": [
      "\n",
      "Processing credit_label1_realC3_synthC2\n"
     ]
    },
    {
     "name": "stderr",
     "output_type": "stream",
     "text": [
      "Processing datasets:  46%|████▋     | 93/200 [01:09<00:55,  1.93it/s]"
     ]
    },
    {
     "name": "stdout",
     "output_type": "stream",
     "text": [
      "\n",
      "Processing credit_label1_realC3_synthC3\n"
     ]
    },
    {
     "name": "stderr",
     "output_type": "stream",
     "text": [
      "Processing datasets:  47%|████▋     | 94/200 [01:09<00:47,  2.24it/s]"
     ]
    },
    {
     "name": "stdout",
     "output_type": "stream",
     "text": [
      "\n",
      "Processing credit_label1_realC3_synthC4\n"
     ]
    },
    {
     "name": "stderr",
     "output_type": "stream",
     "text": [
      "Processing datasets:  48%|████▊     | 95/200 [01:09<00:41,  2.54it/s]"
     ]
    },
    {
     "name": "stdout",
     "output_type": "stream",
     "text": [
      "\n",
      "Processing credit_label1_realC4_synthC0\n"
     ]
    },
    {
     "name": "stderr",
     "output_type": "stream",
     "text": [
      "Processing datasets:  48%|████▊     | 96/200 [01:11<01:10,  1.47it/s]"
     ]
    },
    {
     "name": "stdout",
     "output_type": "stream",
     "text": [
      "\n",
      "Processing credit_label1_realC4_synthC1\n"
     ]
    },
    {
     "name": "stderr",
     "output_type": "stream",
     "text": [
      "Processing datasets:  48%|████▊     | 97/200 [01:11<00:57,  1.80it/s]"
     ]
    },
    {
     "name": "stdout",
     "output_type": "stream",
     "text": [
      "\n",
      "Processing credit_label1_realC4_synthC2\n"
     ]
    },
    {
     "name": "stderr",
     "output_type": "stream",
     "text": [
      "Processing datasets:  49%|████▉     | 98/200 [01:11<00:49,  2.05it/s]"
     ]
    },
    {
     "name": "stdout",
     "output_type": "stream",
     "text": [
      "\n",
      "Processing credit_label1_realC4_synthC3\n"
     ]
    },
    {
     "name": "stderr",
     "output_type": "stream",
     "text": [
      "Processing datasets:  50%|████▉     | 99/200 [01:12<00:43,  2.34it/s]"
     ]
    },
    {
     "name": "stdout",
     "output_type": "stream",
     "text": [
      "\n",
      "Processing credit_label1_realC4_synthC4\n"
     ]
    },
    {
     "name": "stderr",
     "output_type": "stream",
     "text": [
      "Processing datasets:  50%|█████     | 100/200 [01:12<00:39,  2.51it/s]"
     ]
    },
    {
     "name": "stdout",
     "output_type": "stream",
     "text": [
      "\n",
      "Processing iranian_label0_realC0_synthC0\n"
     ]
    },
    {
     "name": "stderr",
     "output_type": "stream",
     "text": [
      "Processing datasets:  50%|█████     | 101/200 [01:12<00:36,  2.70it/s]"
     ]
    },
    {
     "name": "stdout",
     "output_type": "stream",
     "text": [
      "\n",
      "Processing iranian_label0_realC0_synthC1\n"
     ]
    },
    {
     "name": "stderr",
     "output_type": "stream",
     "text": [
      "Processing datasets:  51%|█████     | 102/200 [01:12<00:32,  2.99it/s]"
     ]
    },
    {
     "name": "stdout",
     "output_type": "stream",
     "text": [
      "\n",
      "Processing iranian_label0_realC0_synthC2\n"
     ]
    },
    {
     "name": "stderr",
     "output_type": "stream",
     "text": [
      "Processing datasets:  52%|█████▏    | 103/200 [01:13<00:33,  2.94it/s]"
     ]
    },
    {
     "name": "stdout",
     "output_type": "stream",
     "text": [
      "\n",
      "Processing iranian_label0_realC0_synthC3\n"
     ]
    },
    {
     "name": "stderr",
     "output_type": "stream",
     "text": [
      "Processing datasets:  52%|█████▏    | 104/200 [01:13<00:30,  3.13it/s]"
     ]
    },
    {
     "name": "stdout",
     "output_type": "stream",
     "text": [
      "\n",
      "Processing iranian_label0_realC0_synthC4\n"
     ]
    },
    {
     "name": "stderr",
     "output_type": "stream",
     "text": [
      "Processing datasets:  52%|█████▎    | 105/200 [01:13<00:29,  3.26it/s]"
     ]
    },
    {
     "name": "stdout",
     "output_type": "stream",
     "text": [
      "\n",
      "Processing iranian_label0_realC1_synthC0\n"
     ]
    },
    {
     "name": "stderr",
     "output_type": "stream",
     "text": [
      "Processing datasets:  53%|█████▎    | 106/200 [01:14<00:28,  3.34it/s]"
     ]
    },
    {
     "name": "stdout",
     "output_type": "stream",
     "text": [
      "\n",
      "Processing iranian_label0_realC1_synthC1\n"
     ]
    },
    {
     "name": "stderr",
     "output_type": "stream",
     "text": [
      "Processing datasets:  54%|█████▎    | 107/200 [01:14<00:26,  3.57it/s]"
     ]
    },
    {
     "name": "stdout",
     "output_type": "stream",
     "text": [
      "\n",
      "Processing iranian_label0_realC1_synthC2\n"
     ]
    },
    {
     "name": "stderr",
     "output_type": "stream",
     "text": [
      "Processing datasets:  54%|█████▍    | 108/200 [01:14<00:25,  3.63it/s]"
     ]
    },
    {
     "name": "stdout",
     "output_type": "stream",
     "text": [
      "\n",
      "Processing iranian_label0_realC1_synthC3\n"
     ]
    },
    {
     "name": "stderr",
     "output_type": "stream",
     "text": [
      "Processing datasets:  55%|█████▍    | 109/200 [01:14<00:26,  3.45it/s]"
     ]
    },
    {
     "name": "stdout",
     "output_type": "stream",
     "text": [
      "\n",
      "Processing iranian_label0_realC1_synthC4\n"
     ]
    },
    {
     "name": "stderr",
     "output_type": "stream",
     "text": [
      "Processing datasets:  55%|█████▌    | 110/200 [01:15<00:24,  3.65it/s]"
     ]
    },
    {
     "name": "stdout",
     "output_type": "stream",
     "text": [
      "\n",
      "Processing iranian_label0_realC2_synthC0\n"
     ]
    },
    {
     "name": "stderr",
     "output_type": "stream",
     "text": [
      "Processing datasets:  56%|█████▌    | 111/200 [01:15<00:24,  3.57it/s]"
     ]
    },
    {
     "name": "stdout",
     "output_type": "stream",
     "text": [
      "\n",
      "Processing iranian_label0_realC2_synthC1\n"
     ]
    },
    {
     "name": "stderr",
     "output_type": "stream",
     "text": [
      "Processing datasets:  56%|█████▌    | 112/200 [01:15<00:23,  3.71it/s]"
     ]
    },
    {
     "name": "stdout",
     "output_type": "stream",
     "text": [
      "\n",
      "Processing iranian_label0_realC2_synthC2\n"
     ]
    },
    {
     "name": "stderr",
     "output_type": "stream",
     "text": [
      "Processing datasets:  56%|█████▋    | 113/200 [01:15<00:23,  3.71it/s]"
     ]
    },
    {
     "name": "stdout",
     "output_type": "stream",
     "text": [
      "\n",
      "Processing iranian_label0_realC2_synthC3\n"
     ]
    },
    {
     "name": "stderr",
     "output_type": "stream",
     "text": [
      "Processing datasets:  57%|█████▋    | 114/200 [01:16<00:23,  3.72it/s]"
     ]
    },
    {
     "name": "stdout",
     "output_type": "stream",
     "text": [
      "\n",
      "Processing iranian_label0_realC2_synthC4\n"
     ]
    },
    {
     "name": "stderr",
     "output_type": "stream",
     "text": [
      "Processing datasets:  57%|█████▊    | 115/200 [01:16<00:22,  3.86it/s]"
     ]
    },
    {
     "name": "stdout",
     "output_type": "stream",
     "text": [
      "\n",
      "Processing iranian_label0_realC3_synthC0\n"
     ]
    },
    {
     "name": "stderr",
     "output_type": "stream",
     "text": [
      "Processing datasets:  58%|█████▊    | 116/200 [01:16<00:22,  3.73it/s]"
     ]
    },
    {
     "name": "stdout",
     "output_type": "stream",
     "text": [
      "\n",
      "Processing iranian_label0_realC3_synthC1\n"
     ]
    },
    {
     "name": "stderr",
     "output_type": "stream",
     "text": [
      "Processing datasets:  58%|█████▊    | 117/200 [01:16<00:21,  3.94it/s]"
     ]
    },
    {
     "name": "stdout",
     "output_type": "stream",
     "text": [
      "\n",
      "Processing iranian_label0_realC3_synthC2\n"
     ]
    },
    {
     "name": "stderr",
     "output_type": "stream",
     "text": [
      "Processing datasets:  59%|█████▉    | 118/200 [01:17<00:19,  4.16it/s]"
     ]
    },
    {
     "name": "stdout",
     "output_type": "stream",
     "text": [
      "\n",
      "Processing iranian_label0_realC3_synthC3\n"
     ]
    },
    {
     "name": "stderr",
     "output_type": "stream",
     "text": [
      "Processing datasets:  60%|█████▉    | 119/200 [01:17<00:19,  4.17it/s]"
     ]
    },
    {
     "name": "stdout",
     "output_type": "stream",
     "text": [
      "\n",
      "Processing iranian_label0_realC3_synthC4\n"
     ]
    },
    {
     "name": "stderr",
     "output_type": "stream",
     "text": [
      "Processing datasets:  60%|██████    | 120/200 [01:17<00:19,  4.18it/s]"
     ]
    },
    {
     "name": "stdout",
     "output_type": "stream",
     "text": [
      "\n",
      "Processing iranian_label0_realC4_synthC0\n"
     ]
    },
    {
     "name": "stderr",
     "output_type": "stream",
     "text": [
      "Processing datasets:  60%|██████    | 121/200 [01:18<00:21,  3.64it/s]"
     ]
    },
    {
     "name": "stdout",
     "output_type": "stream",
     "text": [
      "\n",
      "Processing iranian_label0_realC4_synthC1\n"
     ]
    },
    {
     "name": "stderr",
     "output_type": "stream",
     "text": [
      "Processing datasets:  61%|██████    | 122/200 [01:18<00:21,  3.64it/s]"
     ]
    },
    {
     "name": "stdout",
     "output_type": "stream",
     "text": [
      "\n",
      "Processing iranian_label0_realC4_synthC2\n"
     ]
    },
    {
     "name": "stderr",
     "output_type": "stream",
     "text": [
      "Processing datasets:  62%|██████▏   | 123/200 [01:21<01:23,  1.08s/it]"
     ]
    },
    {
     "name": "stdout",
     "output_type": "stream",
     "text": [
      "\n",
      "Processing iranian_label0_realC4_synthC3\n"
     ]
    },
    {
     "name": "stderr",
     "output_type": "stream",
     "text": [
      "Processing datasets:  62%|██████▏   | 124/200 [01:21<01:03,  1.19it/s]"
     ]
    },
    {
     "name": "stdout",
     "output_type": "stream",
     "text": [
      "\n",
      "Processing iranian_label0_realC4_synthC4\n"
     ]
    },
    {
     "name": "stderr",
     "output_type": "stream",
     "text": [
      "Processing datasets:  62%|██████▎   | 125/200 [01:21<00:50,  1.48it/s]"
     ]
    },
    {
     "name": "stdout",
     "output_type": "stream",
     "text": [
      "\n",
      "Processing iranian_label1_realC0_synthC0\n"
     ]
    },
    {
     "name": "stderr",
     "output_type": "stream",
     "text": [
      "Processing datasets:  63%|██████▎   | 126/200 [01:22<00:39,  1.86it/s]"
     ]
    },
    {
     "name": "stdout",
     "output_type": "stream",
     "text": [
      "\n",
      "Processing iranian_label1_realC0_synthC1\n"
     ]
    },
    {
     "name": "stderr",
     "output_type": "stream",
     "text": [
      "Processing datasets:  64%|██████▎   | 127/200 [01:22<00:32,  2.25it/s]"
     ]
    },
    {
     "name": "stdout",
     "output_type": "stream",
     "text": [
      "\n",
      "Processing iranian_label1_realC0_synthC2\n"
     ]
    },
    {
     "name": "stderr",
     "output_type": "stream",
     "text": [
      "Processing datasets:  64%|██████▍   | 128/200 [01:22<00:27,  2.65it/s]"
     ]
    },
    {
     "name": "stdout",
     "output_type": "stream",
     "text": [
      "\n",
      "Processing iranian_label1_realC0_synthC3\n"
     ]
    },
    {
     "name": "stderr",
     "output_type": "stream",
     "text": [
      "Processing datasets:  64%|██████▍   | 129/200 [01:22<00:23,  3.08it/s]"
     ]
    },
    {
     "name": "stdout",
     "output_type": "stream",
     "text": [
      "\n",
      "Processing iranian_label1_realC0_synthC4\n"
     ]
    },
    {
     "name": "stderr",
     "output_type": "stream",
     "text": [
      "Processing datasets:  65%|██████▌   | 130/200 [01:22<00:20,  3.48it/s]"
     ]
    },
    {
     "name": "stdout",
     "output_type": "stream",
     "text": [
      "\n",
      "Processing iranian_label1_realC1_synthC0\n"
     ]
    },
    {
     "name": "stderr",
     "output_type": "stream",
     "text": [
      "Processing datasets:  66%|██████▌   | 131/200 [01:23<00:20,  3.33it/s]"
     ]
    },
    {
     "name": "stdout",
     "output_type": "stream",
     "text": [
      "\n",
      "Processing iranian_label1_realC1_synthC1\n"
     ]
    },
    {
     "name": "stderr",
     "output_type": "stream",
     "text": [
      "Processing datasets:  66%|██████▌   | 132/200 [01:23<00:19,  3.57it/s]"
     ]
    },
    {
     "name": "stdout",
     "output_type": "stream",
     "text": [
      "\n",
      "Processing iranian_label1_realC1_synthC2\n"
     ]
    },
    {
     "name": "stderr",
     "output_type": "stream",
     "text": [
      "Processing datasets:  66%|██████▋   | 133/200 [01:23<00:18,  3.68it/s]"
     ]
    },
    {
     "name": "stdout",
     "output_type": "stream",
     "text": [
      "\n",
      "Processing iranian_label1_realC1_synthC3\n"
     ]
    },
    {
     "name": "stderr",
     "output_type": "stream",
     "text": [
      "Processing datasets:  67%|██████▋   | 134/200 [01:23<00:16,  3.91it/s]"
     ]
    },
    {
     "name": "stdout",
     "output_type": "stream",
     "text": [
      "\n",
      "Processing iranian_label1_realC1_synthC4\n"
     ]
    },
    {
     "name": "stderr",
     "output_type": "stream",
     "text": [
      "Processing datasets:  68%|██████▊   | 135/200 [01:24<00:18,  3.46it/s]"
     ]
    },
    {
     "name": "stdout",
     "output_type": "stream",
     "text": [
      "\n",
      "Processing iranian_label1_realC2_synthC0\n"
     ]
    },
    {
     "name": "stderr",
     "output_type": "stream",
     "text": [
      "Processing datasets:  68%|██████▊   | 136/200 [01:24<00:16,  3.77it/s]"
     ]
    },
    {
     "name": "stdout",
     "output_type": "stream",
     "text": [
      "\n",
      "Processing iranian_label1_realC2_synthC1\n"
     ]
    },
    {
     "name": "stderr",
     "output_type": "stream",
     "text": [
      "Processing datasets:  68%|██████▊   | 137/200 [01:24<00:15,  4.09it/s]"
     ]
    },
    {
     "name": "stdout",
     "output_type": "stream",
     "text": [
      "\n",
      "Processing iranian_label1_realC2_synthC2\n"
     ]
    },
    {
     "name": "stderr",
     "output_type": "stream",
     "text": [
      "Processing datasets:  69%|██████▉   | 138/200 [01:27<01:01,  1.00it/s]"
     ]
    },
    {
     "name": "stdout",
     "output_type": "stream",
     "text": [
      "\n",
      "Processing iranian_label1_realC2_synthC3\n"
     ]
    },
    {
     "name": "stderr",
     "output_type": "stream",
     "text": [
      "Processing datasets:  70%|██████▉   | 139/200 [01:27<00:46,  1.32it/s]"
     ]
    },
    {
     "name": "stdout",
     "output_type": "stream",
     "text": [
      "\n",
      "Processing iranian_label1_realC2_synthC4\n"
     ]
    },
    {
     "name": "stderr",
     "output_type": "stream",
     "text": [
      "Processing datasets:  70%|███████   | 140/200 [01:27<00:35,  1.69it/s]"
     ]
    },
    {
     "name": "stdout",
     "output_type": "stream",
     "text": [
      "\n",
      "Processing iranian_label1_realC3_synthC0\n"
     ]
    },
    {
     "name": "stderr",
     "output_type": "stream",
     "text": [
      "Processing datasets:  70%|███████   | 141/200 [01:29<00:58,  1.01it/s]"
     ]
    },
    {
     "name": "stdout",
     "output_type": "stream",
     "text": [
      "\n",
      "Processing iranian_label1_realC3_synthC1\n"
     ]
    },
    {
     "name": "stderr",
     "output_type": "stream",
     "text": [
      "Processing datasets:  71%|███████   | 142/200 [01:30<00:45,  1.29it/s]"
     ]
    },
    {
     "name": "stdout",
     "output_type": "stream",
     "text": [
      "\n",
      "Processing iranian_label1_realC3_synthC2\n"
     ]
    },
    {
     "name": "stderr",
     "output_type": "stream",
     "text": [
      "Processing datasets:  72%|███████▏  | 143/200 [01:30<00:35,  1.63it/s]"
     ]
    },
    {
     "name": "stdout",
     "output_type": "stream",
     "text": [
      "\n",
      "Processing iranian_label1_realC3_synthC3\n"
     ]
    },
    {
     "name": "stderr",
     "output_type": "stream",
     "text": [
      "Processing datasets:  72%|███████▏  | 144/200 [01:30<00:27,  2.02it/s]"
     ]
    },
    {
     "name": "stdout",
     "output_type": "stream",
     "text": [
      "\n",
      "Processing iranian_label1_realC3_synthC4\n"
     ]
    },
    {
     "name": "stderr",
     "output_type": "stream",
     "text": [
      "Processing datasets:  72%|███████▎  | 145/200 [01:30<00:22,  2.46it/s]"
     ]
    },
    {
     "name": "stdout",
     "output_type": "stream",
     "text": [
      "\n",
      "Processing iranian_label1_realC4_synthC0\n"
     ]
    },
    {
     "name": "stderr",
     "output_type": "stream",
     "text": [
      "Processing datasets:  73%|███████▎  | 146/200 [01:30<00:19,  2.83it/s]"
     ]
    },
    {
     "name": "stdout",
     "output_type": "stream",
     "text": [
      "\n",
      "Processing iranian_label1_realC4_synthC1\n"
     ]
    },
    {
     "name": "stderr",
     "output_type": "stream",
     "text": [
      "Processing datasets:  74%|███████▎  | 147/200 [01:31<00:16,  3.21it/s]"
     ]
    },
    {
     "name": "stdout",
     "output_type": "stream",
     "text": [
      "\n",
      "Processing iranian_label1_realC4_synthC2\n"
     ]
    },
    {
     "name": "stderr",
     "output_type": "stream",
     "text": [
      "Processing datasets:  74%|███████▍  | 148/200 [01:31<00:14,  3.52it/s]"
     ]
    },
    {
     "name": "stdout",
     "output_type": "stream",
     "text": [
      "\n",
      "Processing iranian_label1_realC4_synthC3\n"
     ]
    },
    {
     "name": "stderr",
     "output_type": "stream",
     "text": [
      "Processing datasets:  74%|███████▍  | 149/200 [01:31<00:13,  3.80it/s]"
     ]
    },
    {
     "name": "stdout",
     "output_type": "stream",
     "text": [
      "\n",
      "Processing iranian_label1_realC4_synthC4\n"
     ]
    },
    {
     "name": "stderr",
     "output_type": "stream",
     "text": [
      "Processing datasets:  75%|███████▌  | 150/200 [01:31<00:12,  4.05it/s]"
     ]
    },
    {
     "name": "stdout",
     "output_type": "stream",
     "text": [
      "\n",
      "Processing telco_label0_realC0_synthC0\n"
     ]
    },
    {
     "name": "stderr",
     "output_type": "stream",
     "text": [
      "Processing datasets:  76%|███████▌  | 151/200 [01:33<00:31,  1.54it/s]"
     ]
    },
    {
     "name": "stdout",
     "output_type": "stream",
     "text": [
      "\n",
      "Processing telco_label0_realC0_synthC1\n"
     ]
    },
    {
     "name": "stderr",
     "output_type": "stream",
     "text": [
      "Processing datasets:  76%|███████▌  | 152/200 [02:04<07:51,  9.82s/it]"
     ]
    },
    {
     "name": "stdout",
     "output_type": "stream",
     "text": [
      "\n",
      "Processing telco_label0_realC0_synthC2\n"
     ]
    },
    {
     "name": "stderr",
     "output_type": "stream",
     "text": [
      "Processing datasets:  76%|███████▋  | 153/200 [02:06<05:44,  7.33s/it]"
     ]
    },
    {
     "name": "stdout",
     "output_type": "stream",
     "text": [
      "\n",
      "Processing telco_label0_realC0_synthC3\n"
     ]
    },
    {
     "name": "stderr",
     "output_type": "stream",
     "text": [
      "Processing datasets:  77%|███████▋  | 154/200 [02:37<11:13, 14.64s/it]"
     ]
    },
    {
     "name": "stdout",
     "output_type": "stream",
     "text": [
      "\n",
      "Processing telco_label0_realC0_synthC4\n"
     ]
    },
    {
     "name": "stderr",
     "output_type": "stream",
     "text": [
      "Processing datasets:  78%|███████▊  | 155/200 [02:39<08:00, 10.69s/it]"
     ]
    },
    {
     "name": "stdout",
     "output_type": "stream",
     "text": [
      "\n",
      "Processing telco_label0_realC1_synthC0\n"
     ]
    },
    {
     "name": "stderr",
     "output_type": "stream",
     "text": [
      "Processing datasets:  78%|███████▊  | 156/200 [02:39<05:34,  7.60s/it]"
     ]
    },
    {
     "name": "stdout",
     "output_type": "stream",
     "text": [
      "\n",
      "Processing telco_label0_realC1_synthC1\n"
     ]
    },
    {
     "name": "stderr",
     "output_type": "stream",
     "text": [
      "Processing datasets:  78%|███████▊  | 157/200 [02:41<04:08,  5.78s/it]"
     ]
    },
    {
     "name": "stdout",
     "output_type": "stream",
     "text": [
      "\n",
      "Processing telco_label0_realC1_synthC2\n"
     ]
    },
    {
     "name": "stderr",
     "output_type": "stream",
     "text": [
      "Processing datasets:  79%|███████▉  | 158/200 [02:41<02:54,  4.16s/it]"
     ]
    },
    {
     "name": "stdout",
     "output_type": "stream",
     "text": [
      "\n",
      "Processing telco_label0_realC1_synthC3\n"
     ]
    },
    {
     "name": "stderr",
     "output_type": "stream",
     "text": [
      "Processing datasets:  80%|███████▉  | 159/200 [02:43<02:19,  3.41s/it]"
     ]
    },
    {
     "name": "stdout",
     "output_type": "stream",
     "text": [
      "\n",
      "Processing telco_label0_realC1_synthC4\n"
     ]
    },
    {
     "name": "stderr",
     "output_type": "stream",
     "text": [
      "Processing datasets:  80%|████████  | 160/200 [02:43<01:39,  2.50s/it]"
     ]
    },
    {
     "name": "stdout",
     "output_type": "stream",
     "text": [
      "\n",
      "Processing telco_label0_realC2_synthC0\n"
     ]
    },
    {
     "name": "stderr",
     "output_type": "stream",
     "text": [
      "Processing datasets:  80%|████████  | 161/200 [02:43<01:12,  1.85s/it]"
     ]
    },
    {
     "name": "stdout",
     "output_type": "stream",
     "text": [
      "\n",
      "Processing telco_label0_realC2_synthC1\n"
     ]
    },
    {
     "name": "stderr",
     "output_type": "stream",
     "text": [
      "Processing datasets:  81%|████████  | 162/200 [02:45<01:06,  1.75s/it]"
     ]
    },
    {
     "name": "stdout",
     "output_type": "stream",
     "text": [
      "\n",
      "Processing telco_label0_realC2_synthC2\n"
     ]
    },
    {
     "name": "stderr",
     "output_type": "stream",
     "text": [
      "Processing datasets:  82%|████████▏ | 163/200 [02:45<00:49,  1.34s/it]"
     ]
    },
    {
     "name": "stdout",
     "output_type": "stream",
     "text": [
      "\n",
      "Processing telco_label0_realC2_synthC3\n"
     ]
    },
    {
     "name": "stderr",
     "output_type": "stream",
     "text": [
      "Processing datasets:  82%|████████▏ | 164/200 [02:47<00:51,  1.44s/it]"
     ]
    },
    {
     "name": "stdout",
     "output_type": "stream",
     "text": [
      "\n",
      "Processing telco_label0_realC2_synthC4\n"
     ]
    },
    {
     "name": "stderr",
     "output_type": "stream",
     "text": [
      "Processing datasets:  82%|████████▎ | 165/200 [02:47<00:39,  1.12s/it]"
     ]
    },
    {
     "name": "stdout",
     "output_type": "stream",
     "text": [
      "\n",
      "Processing telco_label0_realC3_synthC0\n"
     ]
    },
    {
     "name": "stderr",
     "output_type": "stream",
     "text": [
      "Processing datasets:  83%|████████▎ | 166/200 [02:49<00:41,  1.23s/it]"
     ]
    },
    {
     "name": "stdout",
     "output_type": "stream",
     "text": [
      "\n",
      "Processing telco_label0_realC3_synthC1\n"
     ]
    },
    {
     "name": "stderr",
     "output_type": "stream",
     "text": [
      "Processing datasets:  84%|████████▎ | 167/200 [03:00<02:20,  4.25s/it]"
     ]
    },
    {
     "name": "stdout",
     "output_type": "stream",
     "text": [
      "\n",
      "Processing telco_label0_realC3_synthC2\n"
     ]
    },
    {
     "name": "stderr",
     "output_type": "stream",
     "text": [
      "Processing datasets:  84%|████████▍ | 168/200 [03:02<01:49,  3.43s/it]"
     ]
    },
    {
     "name": "stdout",
     "output_type": "stream",
     "text": [
      "\n",
      "Processing telco_label0_realC3_synthC3\n"
     ]
    },
    {
     "name": "stderr",
     "output_type": "stream",
     "text": [
      "Processing datasets:  84%|████████▍ | 169/200 [03:03<01:29,  2.90s/it]"
     ]
    },
    {
     "name": "stdout",
     "output_type": "stream",
     "text": [
      "\n",
      "Processing telco_label0_realC3_synthC4\n"
     ]
    },
    {
     "name": "stderr",
     "output_type": "stream",
     "text": [
      "Processing datasets:  85%|████████▌ | 170/200 [03:05<01:14,  2.49s/it]"
     ]
    },
    {
     "name": "stdout",
     "output_type": "stream",
     "text": [
      "\n",
      "Processing telco_label0_realC4_synthC0\n"
     ]
    },
    {
     "name": "stderr",
     "output_type": "stream",
     "text": [
      "Processing datasets:  86%|████████▌ | 171/200 [03:05<00:53,  1.86s/it]"
     ]
    },
    {
     "name": "stdout",
     "output_type": "stream",
     "text": [
      "\n",
      "Processing telco_label0_realC4_synthC1\n"
     ]
    },
    {
     "name": "stderr",
     "output_type": "stream",
     "text": [
      "Processing datasets:  86%|████████▌ | 172/200 [03:07<00:50,  1.81s/it]"
     ]
    },
    {
     "name": "stdout",
     "output_type": "stream",
     "text": [
      "\n",
      "Processing telco_label0_realC4_synthC2\n"
     ]
    },
    {
     "name": "stderr",
     "output_type": "stream",
     "text": [
      "Processing datasets:  86%|████████▋ | 173/200 [03:07<00:37,  1.40s/it]"
     ]
    },
    {
     "name": "stdout",
     "output_type": "stream",
     "text": [
      "\n",
      "Processing telco_label0_realC4_synthC3\n"
     ]
    },
    {
     "name": "stderr",
     "output_type": "stream",
     "text": [
      "Processing datasets:  87%|████████▋ | 174/200 [03:09<00:37,  1.43s/it]"
     ]
    },
    {
     "name": "stdout",
     "output_type": "stream",
     "text": [
      "\n",
      "Processing telco_label0_realC4_synthC4\n"
     ]
    },
    {
     "name": "stderr",
     "output_type": "stream",
     "text": [
      "Processing datasets:  88%|████████▊ | 175/200 [03:09<00:27,  1.12s/it]"
     ]
    },
    {
     "name": "stdout",
     "output_type": "stream",
     "text": [
      "\n",
      "Processing telco_label1_realC0_synthC0\n"
     ]
    },
    {
     "name": "stderr",
     "output_type": "stream",
     "text": [
      "Processing datasets:  88%|████████▊ | 176/200 [03:11<00:29,  1.23s/it]"
     ]
    },
    {
     "name": "stdout",
     "output_type": "stream",
     "text": [
      "\n",
      "Processing telco_label1_realC0_synthC1\n"
     ]
    },
    {
     "name": "stderr",
     "output_type": "stream",
     "text": [
      "Processing datasets:  88%|████████▊ | 177/200 [03:16<00:53,  2.32s/it]"
     ]
    },
    {
     "name": "stdout",
     "output_type": "stream",
     "text": [
      "\n",
      "Processing telco_label1_realC0_synthC2\n"
     ]
    },
    {
     "name": "stderr",
     "output_type": "stream",
     "text": [
      "Processing datasets:  89%|████████▉ | 178/200 [03:17<00:45,  2.08s/it]"
     ]
    },
    {
     "name": "stdout",
     "output_type": "stream",
     "text": [
      "\n",
      "Processing telco_label1_realC0_synthC3\n"
     ]
    },
    {
     "name": "stderr",
     "output_type": "stream",
     "text": [
      "Processing datasets:  90%|████████▉ | 179/200 [03:19<00:40,  1.92s/it]"
     ]
    },
    {
     "name": "stdout",
     "output_type": "stream",
     "text": [
      "\n",
      "Processing telco_label1_realC0_synthC4\n"
     ]
    },
    {
     "name": "stderr",
     "output_type": "stream",
     "text": [
      "Processing datasets:  90%|█████████ | 180/200 [03:20<00:36,  1.80s/it]"
     ]
    },
    {
     "name": "stdout",
     "output_type": "stream",
     "text": [
      "\n",
      "Processing telco_label1_realC1_synthC0\n"
     ]
    },
    {
     "name": "stderr",
     "output_type": "stream",
     "text": [
      "Processing datasets:  90%|█████████ | 181/200 [03:21<00:26,  1.37s/it]"
     ]
    },
    {
     "name": "stdout",
     "output_type": "stream",
     "text": [
      "\n",
      "Processing telco_label1_realC1_synthC1\n"
     ]
    },
    {
     "name": "stderr",
     "output_type": "stream",
     "text": [
      "Processing datasets:  91%|█████████ | 182/200 [03:21<00:19,  1.06s/it]"
     ]
    },
    {
     "name": "stdout",
     "output_type": "stream",
     "text": [
      "\n",
      "Processing telco_label1_realC1_synthC2\n"
     ]
    },
    {
     "name": "stderr",
     "output_type": "stream",
     "text": [
      "Processing datasets:  92%|█████████▏| 183/200 [03:21<00:14,  1.17it/s]"
     ]
    },
    {
     "name": "stdout",
     "output_type": "stream",
     "text": [
      "\n",
      "Processing telco_label1_realC1_synthC3\n"
     ]
    },
    {
     "name": "stderr",
     "output_type": "stream",
     "text": [
      "Processing datasets:  92%|█████████▏| 184/200 [03:22<00:11,  1.41it/s]"
     ]
    },
    {
     "name": "stdout",
     "output_type": "stream",
     "text": [
      "\n",
      "Processing telco_label1_realC1_synthC4\n"
     ]
    },
    {
     "name": "stderr",
     "output_type": "stream",
     "text": [
      "Processing datasets:  92%|█████████▎| 185/200 [03:22<00:08,  1.67it/s]"
     ]
    },
    {
     "name": "stdout",
     "output_type": "stream",
     "text": [
      "\n",
      "Processing telco_label1_realC2_synthC0\n"
     ]
    },
    {
     "name": "stderr",
     "output_type": "stream",
     "text": [
      "Processing datasets:  93%|█████████▎| 186/200 [03:22<00:07,  1.86it/s]"
     ]
    },
    {
     "name": "stdout",
     "output_type": "stream",
     "text": [
      "\n",
      "Processing telco_label1_realC2_synthC1\n"
     ]
    },
    {
     "name": "stderr",
     "output_type": "stream",
     "text": [
      "Processing datasets:  94%|█████████▎| 187/200 [03:23<00:06,  2.12it/s]"
     ]
    },
    {
     "name": "stdout",
     "output_type": "stream",
     "text": [
      "\n",
      "Processing telco_label1_realC2_synthC2\n"
     ]
    },
    {
     "name": "stderr",
     "output_type": "stream",
     "text": [
      "Processing datasets:  94%|█████████▍| 188/200 [03:23<00:05,  2.22it/s]"
     ]
    },
    {
     "name": "stdout",
     "output_type": "stream",
     "text": [
      "\n",
      "Processing telco_label1_realC2_synthC3\n"
     ]
    },
    {
     "name": "stderr",
     "output_type": "stream",
     "text": [
      "Processing datasets:  94%|█████████▍| 189/200 [03:24<00:05,  2.18it/s]"
     ]
    },
    {
     "name": "stdout",
     "output_type": "stream",
     "text": [
      "\n",
      "Processing telco_label1_realC2_synthC4\n"
     ]
    },
    {
     "name": "stderr",
     "output_type": "stream",
     "text": [
      "Processing datasets:  95%|█████████▌| 190/200 [03:24<00:04,  2.33it/s]"
     ]
    },
    {
     "name": "stdout",
     "output_type": "stream",
     "text": [
      "\n",
      "Processing telco_label1_realC3_synthC0\n"
     ]
    },
    {
     "name": "stderr",
     "output_type": "stream",
     "text": [
      "Processing datasets:  96%|█████████▌| 191/200 [03:24<00:03,  2.39it/s]"
     ]
    },
    {
     "name": "stdout",
     "output_type": "stream",
     "text": [
      "\n",
      "Processing telco_label1_realC3_synthC1\n"
     ]
    },
    {
     "name": "stderr",
     "output_type": "stream",
     "text": [
      "Processing datasets:  96%|█████████▌| 192/200 [03:25<00:03,  2.52it/s]"
     ]
    },
    {
     "name": "stdout",
     "output_type": "stream",
     "text": [
      "\n",
      "Processing telco_label1_realC3_synthC2\n"
     ]
    },
    {
     "name": "stderr",
     "output_type": "stream",
     "text": [
      "Processing datasets:  96%|█████████▋| 193/200 [03:25<00:02,  2.48it/s]"
     ]
    },
    {
     "name": "stdout",
     "output_type": "stream",
     "text": [
      "\n",
      "Processing telco_label1_realC3_synthC3\n"
     ]
    },
    {
     "name": "stderr",
     "output_type": "stream",
     "text": [
      "Processing datasets:  97%|█████████▋| 194/200 [03:25<00:02,  2.64it/s]"
     ]
    },
    {
     "name": "stdout",
     "output_type": "stream",
     "text": [
      "\n",
      "Processing telco_label1_realC3_synthC4\n"
     ]
    },
    {
     "name": "stderr",
     "output_type": "stream",
     "text": [
      "Processing datasets:  98%|█████████▊| 195/200 [03:26<00:01,  2.71it/s]"
     ]
    },
    {
     "name": "stdout",
     "output_type": "stream",
     "text": [
      "\n",
      "Processing telco_label1_realC4_synthC0\n"
     ]
    },
    {
     "name": "stderr",
     "output_type": "stream",
     "text": [
      "Processing datasets:  98%|█████████▊| 196/200 [03:26<00:01,  2.54it/s]"
     ]
    },
    {
     "name": "stdout",
     "output_type": "stream",
     "text": [
      "\n",
      "Processing telco_label1_realC4_synthC1\n"
     ]
    },
    {
     "name": "stderr",
     "output_type": "stream",
     "text": [
      "Processing datasets:  98%|█████████▊| 197/200 [03:27<00:01,  2.55it/s]"
     ]
    },
    {
     "name": "stdout",
     "output_type": "stream",
     "text": [
      "\n",
      "Processing telco_label1_realC4_synthC2\n"
     ]
    },
    {
     "name": "stderr",
     "output_type": "stream",
     "text": [
      "Processing datasets:  99%|█████████▉| 198/200 [03:27<00:00,  2.69it/s]"
     ]
    },
    {
     "name": "stdout",
     "output_type": "stream",
     "text": [
      "\n",
      "Processing telco_label1_realC4_synthC3\n"
     ]
    },
    {
     "name": "stderr",
     "output_type": "stream",
     "text": [
      "Processing datasets: 100%|█████████▉| 199/200 [03:31<00:01,  1.39s/it]"
     ]
    },
    {
     "name": "stdout",
     "output_type": "stream",
     "text": [
      "\n",
      "Processing telco_label1_realC4_synthC4\n"
     ]
    },
    {
     "name": "stderr",
     "output_type": "stream",
     "text": [
      "Processing datasets: 100%|██████████| 200/200 [03:31<00:00,  1.06s/it]\n"
     ]
    }
   ],
   "source": [
    "n_iter=2\n",
    "\n",
    "# Dataset configuration mapping\n",
    "dataset_config = {\n",
    "    \"bank\": {\"n\": 0, \"cat_cols\": ['Gender'], \"cont_exclude\": []},\n",
    "    \"credit\": {\"n\": 1, \"cat_cols\": ['Gender'], \"cont_exclude\": []},\n",
    "    \"iranian\": {\"n\": 2, \"cat_cols\": [], \"cont_exclude\": []},\n",
    "    \"telco\": {\"n\": 3, \"cat_cols\": ['gender_Male'], \"cont_exclude\": ['gender_Male']}\n",
    "}\n",
    "\n",
    "global_results = {}\n",
    "\n",
    "for real_df, synth_df, dataset, label, real_cluster, synth_cluster in tqdm(all_combinations, desc=\"Processing datasets\"):\n",
    "    # Get dataset-specific configuration\n",
    "    config = dataset_config[dataset]\n",
    "    n = config[\"n\"]\n",
    "    \n",
    "    # Filter by current clusters\n",
    "    real_filtered = real_df[real_df[\"cluster_real\"] == real_cluster]\n",
    "    synth_filtered = synth_df[synth_df[\"cluster_synth\"] == synth_cluster]\n",
    "    \n",
    "    # Skip empty clusters\n",
    "    if len(real_filtered) == 0 or len(synth_filtered) == 0:\n",
    "        continue\n",
    "    \n",
    "    # Set categorical and continuous columns based on dataset\n",
    "    if n == 0 or n == 1:  # bank/credit\n",
    "        cat_cols = ['Gender']\n",
    "        cont_cols_to_bin = real_filtered.columns[[0]].tolist() + real_filtered.columns[2:-7].tolist()\n",
    "    elif n == 2:  # iranian\n",
    "        cat_cols = []\n",
    "        cont_cols_to_bin = real_filtered.columns[:-6].tolist()\n",
    "    else:  # telco\n",
    "        cat_cols = ['gender_Male']\n",
    "        cont_cols_to_bin = [i for i in real_filtered.columns[:-6] if i != 'gender_Male']\n",
    "    \n",
    "    print(f\"\\nProcessing {dataset}_label{label}_realC{real_cluster}_synthC{synth_cluster}\")\n",
    "    #print('cat cols:', cat_cols)\n",
    "    #print('cont_cols_to_bin:', cont_cols_to_bin)\n",
    "    \n",
    "\n",
    "    # Optimization function for this specific pair\n",
    "    def optimize_kl_divergence(_):\n",
    "        initial_parameters = generate_initial_parameters(num_features)\n",
    "        warnings.filterwarnings('ignore', category=UserWarning, module='scipy')\n",
    "        \n",
    "        result = minimize(\n",
    "            fun=lambda params: loss_kl_divergence(params, synth_filtered, real_filtered, cat_cols, cont_cols_to_bin),\n",
    "            x0=initial_parameters,\n",
    "            method='trust-constr',\n",
    "            bounds=bounds,\n",
    "            constraints=constraints,\n",
    "            options={'gtol': 1e-15, 'xtol': 1e-15}\n",
    "        )\n",
    "        return result.fun, result.x\n",
    "    \n",
    "    # Run parallel optimizations\n",
    "    results = Parallel(n_jobs=n_jobs)(delayed(optimize_kl_divergence)(i) for i in tqdm(range(n_iter), desc=f'Optimizations', leave=False))\n",
    "    \n",
    "    # Process results\n",
    "    kl_divergences, parameters = zip(*results)\n",
    "    kl_divergences = np.array(kl_divergences)\n",
    "    parameters = np.array(parameters)\n",
    "    \n",
    "    # Find best parameters for this combination\n",
    "    min_kl_index = np.argmin(kl_divergences)\n",
    "    best_parameters = parameters[min_kl_index]\n",
    "    \n",
    "    # Store results\n",
    "    key = f\"{dataset}_label{label}_realC{real_cluster}_synthC{synth_cluster}\"\n",
    "    global_results[key] = {\n",
    "        'best_parameters': best_parameters,\n",
    "        'min_kl_divergence': kl_divergences[min_kl_index],\n",
    "        'cluster_real': real_cluster,\n",
    "        'cluster__synth': synth_cluster,\n",
    "    }"
   ]
  },
  {
   "cell_type": "code",
   "execution_count": 46,
   "metadata": {},
   "outputs": [
    {
     "data": {
      "text/plain": [
       "{'bank_label0_realC0_synthC0': {'best_parameters': array([0.27655867, 0.31273486, 0.23432862, 0.17637785, 0.16621093,\n",
       "         0.28677993, 0.19946287, 0.34754627]),\n",
       "  'min_kl_divergence': 0.7978733761851037,\n",
       "  'cluster_real': 0,\n",
       "  'cluster__synth': 0},\n",
       " 'bank_label0_realC0_synthC1': {'best_parameters': array([0.31480002, 0.14070751, 0.26410374, 0.28038873, 0.19203726,\n",
       "         0.33679694, 0.1437317 , 0.32743409]),\n",
       "  'min_kl_divergence': 1.0727794756884386,\n",
       "  'cluster_real': 0,\n",
       "  'cluster__synth': 1},\n",
       " 'bank_label0_realC0_synthC2': {'best_parameters': array([0.29426214, 0.13881907, 0.34599179, 0.220927  , 0.36935156,\n",
       "         0.23849942, 0.13888606, 0.25326296]),\n",
       "  'min_kl_divergence': 0.16678848881823322,\n",
       "  'cluster_real': 0,\n",
       "  'cluster__synth': 2},\n",
       " 'bank_label0_realC0_synthC3': {'best_parameters': array([0.28992369, 0.36484276, 0.21198126, 0.13325229, 0.32169746,\n",
       "         0.3043755 , 0.1183885 , 0.25553855]),\n",
       "  'min_kl_divergence': 0.6696869768076622,\n",
       "  'cluster_real': 0,\n",
       "  'cluster__synth': 3},\n",
       " 'bank_label0_realC0_synthC4': {'best_parameters': array([0.36296453, 0.40581176, 0.03085177, 0.20037194, 0.27463152,\n",
       "         0.23798214, 0.33760967, 0.14977668]),\n",
       "  'min_kl_divergence': 1.877211432042365,\n",
       "  'cluster_real': 0,\n",
       "  'cluster__synth': 4},\n",
       " 'bank_label0_realC1_synthC0': {'best_parameters': array([0.32425145, 0.20810973, 0.21127025, 0.25636857, 0.20174379,\n",
       "         0.30420841, 0.09979571, 0.3942521 ]),\n",
       "  'min_kl_divergence': 0.4870916801598838,\n",
       "  'cluster_real': 1,\n",
       "  'cluster__synth': 0},\n",
       " 'bank_label0_realC1_synthC1': {'best_parameters': array([0.12248219, 0.20452451, 0.31900819, 0.35398511, 0.21084075,\n",
       "         0.23496443, 0.21738859, 0.33680623]),\n",
       "  'min_kl_divergence': 0.7541835499236822,\n",
       "  'cluster_real': 1,\n",
       "  'cluster__synth': 1},\n",
       " 'bank_label0_realC1_synthC2': {'best_parameters': array([0.15825239, 0.15672826, 0.413925  , 0.27109435, 0.45917958,\n",
       "         0.1482284 , 0.1289204 , 0.26367162]),\n",
       "  'min_kl_divergence': 1.938715233180746,\n",
       "  'cluster_real': 1,\n",
       "  'cluster__synth': 2},\n",
       " 'bank_label0_realC1_synthC3': {'best_parameters': array([0.28746575, 0.32302937, 0.24844802, 0.14105687, 0.14780135,\n",
       "         0.27710814, 0.20909803, 0.36599247]),\n",
       "  'min_kl_divergence': 1.2455816520933607,\n",
       "  'cluster_real': 1,\n",
       "  'cluster__synth': 3},\n",
       " 'bank_label0_realC1_synthC4': {'best_parameters': array([0.72099216, 0.04071485, 0.15496323, 0.08332976, 0.12123498,\n",
       "         0.3746573 , 0.46032087, 0.04378685]),\n",
       "  'min_kl_divergence': 0.15638526635456693,\n",
       "  'cluster_real': 1,\n",
       "  'cluster__synth': 4},\n",
       " 'bank_label0_realC2_synthC0': {'best_parameters': array([0.17201683, 0.43188822, 0.11986781, 0.27622715, 0.42800564,\n",
       "         0.09172977, 0.14720598, 0.33305861]),\n",
       "  'min_kl_divergence': 1.143786175404626,\n",
       "  'cluster_real': 2,\n",
       "  'cluster__synth': 0},\n",
       " 'bank_label0_realC2_synthC1': {'best_parameters': array([0.30803134, 0.22469401, 0.289251  , 0.17802365, 0.19610184,\n",
       "         0.17074351, 0.32755398, 0.30560067]),\n",
       "  'min_kl_divergence': 1.146564132407589,\n",
       "  'cluster_real': 2,\n",
       "  'cluster__synth': 1},\n",
       " 'bank_label0_realC2_synthC2': {'best_parameters': array([0.23882574, 0.22791597, 0.25977259, 0.2734857 , 0.28370841,\n",
       "         0.2130293 , 0.19047739, 0.31278489]),\n",
       "  'min_kl_divergence': 0.5938125932290563,\n",
       "  'cluster_real': 2,\n",
       "  'cluster__synth': 2},\n",
       " 'bank_label0_realC2_synthC3': {'best_parameters': array([0.30984657, 0.32928683, 0.27806096, 0.08280563, 0.16917818,\n",
       "         0.22558091, 0.3611522 , 0.24408871]),\n",
       "  'min_kl_divergence': 0.08244397695207684,\n",
       "  'cluster_real': 2,\n",
       "  'cluster__synth': 3},\n",
       " 'bank_label0_realC2_synthC4': {'best_parameters': array([0.1920131 , 0.313182  , 0.21770761, 0.27709729, 0.38027751,\n",
       "         0.3128333 , 0.17015545, 0.13673374]),\n",
       "  'min_kl_divergence': 1.1932282382129271,\n",
       "  'cluster_real': 2,\n",
       "  'cluster__synth': 4},\n",
       " 'bank_label0_realC3_synthC0': {'best_parameters': array([0.25817285, 0.29396865, 0.28314916, 0.16470934, 0.2688929 ,\n",
       "         0.18515257, 0.28961245, 0.25634208]),\n",
       "  'min_kl_divergence': 0.10475857453117776,\n",
       "  'cluster_real': 3,\n",
       "  'cluster__synth': 0},\n",
       " 'bank_label0_realC3_synthC1': {'best_parameters': array([0.1611729 , 0.33974088, 0.20124018, 0.29784604, 0.41413933,\n",
       "         0.22232307, 0.07093905, 0.29259855]),\n",
       "  'min_kl_divergence': 0.6878759753138267,\n",
       "  'cluster_real': 3,\n",
       "  'cluster__synth': 1},\n",
       " 'bank_label0_realC3_synthC2': {'best_parameters': array([0.20090959, 0.28325605, 0.17279395, 0.34304041, 0.28207444,\n",
       "         0.15938966, 0.2900287 , 0.2685072 ]),\n",
       "  'min_kl_divergence': 0.9741456870363979,\n",
       "  'cluster_real': 3,\n",
       "  'cluster__synth': 2},\n",
       " 'bank_label0_realC3_synthC3': {'best_parameters': array([0.31239505, 0.18749036, 0.21705127, 0.28306332, 0.22466277,\n",
       "         0.141143  , 0.39151649, 0.24267774]),\n",
       "  'min_kl_divergence': 2.0619771217667564,\n",
       "  'cluster_real': 3,\n",
       "  'cluster__synth': 3},\n",
       " 'bank_label0_realC3_synthC4': {'best_parameters': array([0.23025052, 0.22491422, 0.31624741, 0.22858786, 0.29619892,\n",
       "         0.19185328, 0.21921447, 0.29273333]),\n",
       "  'min_kl_divergence': 0.7468388206296097,\n",
       "  'cluster_real': 3,\n",
       "  'cluster__synth': 4},\n",
       " 'bank_label0_realC4_synthC0': {'best_parameters': array([0.16439794, 0.13614557, 0.4295735 , 0.269883  , 0.31054874,\n",
       "         0.13991312, 0.15868938, 0.39084876]),\n",
       "  'min_kl_divergence': 0.902442813455022,\n",
       "  'cluster_real': 4,\n",
       "  'cluster__synth': 0},\n",
       " 'bank_label0_realC4_synthC1': {'best_parameters': array([0.31502753, 0.22786892, 0.27335143, 0.18375212, 0.45554076,\n",
       "         0.32282403, 0.1489025 , 0.07273271]),\n",
       "  'min_kl_divergence': 0.16580906903839948,\n",
       "  'cluster_real': 4,\n",
       "  'cluster__synth': 1},\n",
       " 'bank_label0_realC4_synthC2': {'best_parameters': array([0.26950877, 0.19498   , 0.23712683, 0.29838439, 0.20132931,\n",
       "         0.23197362, 0.33716818, 0.22952888]),\n",
       "  'min_kl_divergence': 1.2479847704097558,\n",
       "  'cluster_real': 4,\n",
       "  'cluster__synth': 2},\n",
       " 'bank_label0_realC4_synthC3': {'best_parameters': array([0.18793567, 0.26605509, 0.27808351, 0.26792574, 0.1446796 ,\n",
       "         0.36626829, 0.27167598, 0.21737613]),\n",
       "  'min_kl_divergence': 0.6322821057863708,\n",
       "  'cluster_real': 4,\n",
       "  'cluster__synth': 3},\n",
       " 'bank_label0_realC4_synthC4': {'best_parameters': array([0.36886115, 0.24139256, 0.3292941 , 0.06045219, 0.30912583,\n",
       "         0.05236764, 0.33385073, 0.30465581]),\n",
       "  'min_kl_divergence': 0.7619109535870244,\n",
       "  'cluster_real': 4,\n",
       "  'cluster__synth': 4},\n",
       " 'bank_label1_realC0_synthC0': {'best_parameters': array([0.25704366, 0.31979051, 0.40305899, 0.02010683, 0.34657446,\n",
       "         0.28129671, 0.12886049, 0.24326834]),\n",
       "  'min_kl_divergence': 1.3397264861092868,\n",
       "  'cluster_real': 0,\n",
       "  'cluster__synth': 0},\n",
       " 'bank_label1_realC0_synthC1': {'best_parameters': array([0.28621536, 0.26107621, 0.17069821, 0.28201022, 0.31464189,\n",
       "         0.32052205, 0.09579179, 0.26904427]),\n",
       "  'min_kl_divergence': 0.1675141646565243,\n",
       "  'cluster_real': 0,\n",
       "  'cluster__synth': 1},\n",
       " 'bank_label1_realC0_synthC2': {'best_parameters': array([0.23798171, 0.30681417, 0.18417172, 0.2710324 , 0.26329319,\n",
       "         0.21896241, 0.25174833, 0.26599607]),\n",
       "  'min_kl_divergence': 1.3226220262429058,\n",
       "  'cluster_real': 0,\n",
       "  'cluster__synth': 2},\n",
       " 'bank_label1_realC0_synthC3': {'best_parameters': array([0.35756373, 0.16331738, 0.28085194, 0.19826696, 0.27421837,\n",
       "         0.33691348, 0.19999514, 0.18887301]),\n",
       "  'min_kl_divergence': 0.8800984049027967,\n",
       "  'cluster_real': 0,\n",
       "  'cluster__synth': 3},\n",
       " 'bank_label1_realC0_synthC4': {'best_parameters': array([0.71220848, 0.06020414, 0.16460216, 0.06298522, 0.30512874,\n",
       "         0.08292755, 0.28252108, 0.32942264]),\n",
       "  'min_kl_divergence': 0.7577811193438746,\n",
       "  'cluster_real': 0,\n",
       "  'cluster__synth': 4},\n",
       " 'bank_label1_realC1_synthC0': {'best_parameters': array([0.23706594, 0.20577581, 0.27203119, 0.28512707, 0.38393764,\n",
       "         0.20394612, 0.14793065, 0.26418559]),\n",
       "  'min_kl_divergence': 0.8063872265848309,\n",
       "  'cluster_real': 1,\n",
       "  'cluster__synth': 0},\n",
       " 'bank_label1_realC1_synthC1': {'best_parameters': array([0.39912919, 0.20394839, 0.17161282, 0.2253096 , 0.2725354 ,\n",
       "         0.21504394, 0.27640707, 0.23601359]),\n",
       "  'min_kl_divergence': 1.1174656315197826,\n",
       "  'cluster_real': 1,\n",
       "  'cluster__synth': 1},\n",
       " 'bank_label1_realC1_synthC2': {'best_parameters': array([0.31985328, 0.40446683, 0.21271017, 0.06296973, 0.20144052,\n",
       "         0.36278634, 0.33863201, 0.09714113]),\n",
       "  'min_kl_divergence': 1.9671258653516652,\n",
       "  'cluster_real': 1,\n",
       "  'cluster__synth': 2},\n",
       " 'bank_label1_realC1_synthC3': {'best_parameters': array([0.42827821, 0.14579768, 0.16163295, 0.26429116, 0.35489412,\n",
       "         0.26564243, 0.21558745, 0.163876  ]),\n",
       "  'min_kl_divergence': 1.1168875266122833,\n",
       "  'cluster_real': 1,\n",
       "  'cluster__synth': 3},\n",
       " 'bank_label1_realC1_synthC4': {'best_parameters': array([0.20489738, 0.2578525 , 0.31907473, 0.21817539, 0.26915729,\n",
       "         0.23318534, 0.30354156, 0.1941158 ]),\n",
       "  'min_kl_divergence': 0.1675740103775446,\n",
       "  'cluster_real': 1,\n",
       "  'cluster__synth': 4},\n",
       " 'bank_label1_realC2_synthC0': {'best_parameters': array([0.16916461, 0.50874754, 0.15654713, 0.16554071, 0.26203363,\n",
       "         0.20167643, 0.18626316, 0.35002679]),\n",
       "  'min_kl_divergence': 1.50860432439365,\n",
       "  'cluster_real': 2,\n",
       "  'cluster__synth': 0},\n",
       " 'bank_label1_realC2_synthC1': {'best_parameters': array([0.18275187, 0.2847731 , 0.27771912, 0.25475591, 0.23766572,\n",
       "         0.3265815 , 0.27660454, 0.15914824]),\n",
       "  'min_kl_divergence': 0.5663029384998044,\n",
       "  'cluster_real': 2,\n",
       "  'cluster__synth': 1},\n",
       " 'bank_label1_realC2_synthC2': {'best_parameters': array([0.13824274, 0.3407475 , 0.24075634, 0.28025342, 0.34016158,\n",
       "         0.3522172 , 0.16156456, 0.14605666]),\n",
       "  'min_kl_divergence': 0.7586305551369539,\n",
       "  'cluster_real': 2,\n",
       "  'cluster__synth': 2},\n",
       " 'bank_label1_realC2_synthC3': {'best_parameters': array([0.25454732, 0.21091165, 0.38458923, 0.1499518 , 0.23509599,\n",
       "         0.40249938, 0.20789992, 0.1545047 ]),\n",
       "  'min_kl_divergence': 0.13213337647005216,\n",
       "  'cluster_real': 2,\n",
       "  'cluster__synth': 3},\n",
       " 'bank_label1_realC2_synthC4': {'best_parameters': array([0.30634875, 0.14368929, 0.25761463, 0.29234733, 0.34000989,\n",
       "         0.21647542, 0.15480617, 0.28870852]),\n",
       "  'min_kl_divergence': 1.2401898254453876,\n",
       "  'cluster_real': 2,\n",
       "  'cluster__synth': 4},\n",
       " 'bank_label1_realC3_synthC0': {'best_parameters': array([0.37992787, 0.30811423, 0.1669628 , 0.1449951 , 0.27182702,\n",
       "         0.32726807, 0.19365728, 0.20724763]),\n",
       "  'min_kl_divergence': 0.30098066217619013,\n",
       "  'cluster_real': 3,\n",
       "  'cluster__synth': 0},\n",
       " 'bank_label1_realC3_synthC1': {'best_parameters': array([0.3075196 , 0.15577991, 0.22997347, 0.30672702, 0.30370056,\n",
       "         0.18552786, 0.34623097, 0.16454061]),\n",
       "  'min_kl_divergence': 1.76988996200997,\n",
       "  'cluster_real': 3,\n",
       "  'cluster__synth': 1},\n",
       " 'bank_label1_realC3_synthC2': {'best_parameters': array([0.26570197, 0.21884532, 0.26233665, 0.25311607, 0.28197123,\n",
       "         0.23513946, 0.23065485, 0.25223446]),\n",
       "  'min_kl_divergence': 0.9667294642283114,\n",
       "  'cluster_real': 3,\n",
       "  'cluster__synth': 2},\n",
       " 'bank_label1_realC3_synthC3': {'best_parameters': array([0.21577725, 0.25897866, 0.30729613, 0.21794797, 0.07911932,\n",
       "         0.29837752, 0.27020385, 0.35229931]),\n",
       "  'min_kl_divergence': 2.06750633200321,\n",
       "  'cluster_real': 3,\n",
       "  'cluster__synth': 3},\n",
       " 'bank_label1_realC3_synthC4': {'best_parameters': array([0.37406629, 0.09722365, 0.3073001 , 0.22140996, 0.08474824,\n",
       "         0.36615685, 0.27589974, 0.27319517]),\n",
       "  'min_kl_divergence': 0.6457013296180266,\n",
       "  'cluster_real': 3,\n",
       "  'cluster__synth': 4},\n",
       " 'bank_label1_realC4_synthC0': {'best_parameters': array([0.23074398, 0.28258973, 0.37840731, 0.10825897, 0.24749193,\n",
       "         0.31758134, 0.13632834, 0.29859838]),\n",
       "  'min_kl_divergence': 1.0927578873665145,\n",
       "  'cluster_real': 4,\n",
       "  'cluster__synth': 0},\n",
       " 'bank_label1_realC4_synthC1': {'best_parameters': array([0.2556125 , 0.36053309, 0.11785584, 0.26599857, 0.24481491,\n",
       "         0.16218293, 0.30456052, 0.28844164]),\n",
       "  'min_kl_divergence': 1.1481229268362771,\n",
       "  'cluster_real': 4,\n",
       "  'cluster__synth': 1},\n",
       " 'bank_label1_realC4_synthC2': {'best_parameters': array([0.37999538, 0.24254296, 0.1755312 , 0.20193046, 0.2350105 ,\n",
       "         0.28191634, 0.17929454, 0.30377862]),\n",
       "  'min_kl_divergence': 0.29999669135150697,\n",
       "  'cluster_real': 4,\n",
       "  'cluster__synth': 2},\n",
       " 'bank_label1_realC4_synthC3': {'best_parameters': array([0.27057979, 0.30770179, 0.1688126 , 0.25290582, 0.3583882 ,\n",
       "         0.14918566, 0.1842461 , 0.30818004]),\n",
       "  'min_kl_divergence': 1.1650464643339462,\n",
       "  'cluster_real': 4,\n",
       "  'cluster__synth': 3},\n",
       " 'bank_label1_realC4_synthC4': {'best_parameters': array([0.25856637, 0.25306946, 0.33389513, 0.15446904, 0.23639869,\n",
       "         0.34582797, 0.13843861, 0.27933473]),\n",
       "  'min_kl_divergence': 1.7403002896656958,\n",
       "  'cluster_real': 4,\n",
       "  'cluster__synth': 4},\n",
       " 'credit_label0_realC0_synthC0': {'best_parameters': array([0.20059672, 0.34395309, 0.228065  , 0.22738519, 0.18814535,\n",
       "         0.42245193, 0.16260766, 0.22679507]),\n",
       "  'min_kl_divergence': 0.3196720787963769,\n",
       "  'cluster_real': 0,\n",
       "  'cluster__synth': 0},\n",
       " 'credit_label0_realC0_synthC1': {'best_parameters': array([0.26322411, 0.25123455, 0.27069685, 0.21484449, 0.22406643,\n",
       "         0.17157923, 0.21431266, 0.39004168]),\n",
       "  'min_kl_divergence': 0.6575413580322028,\n",
       "  'cluster_real': 0,\n",
       "  'cluster__synth': 1},\n",
       " 'credit_label0_realC0_synthC2': {'best_parameters': array([0.20950717, 0.34332584, 0.28399393, 0.16317306, 0.14357583,\n",
       "         0.45833685, 0.06885872, 0.3292286 ]),\n",
       "  'min_kl_divergence': 0.8033736857608976,\n",
       "  'cluster_real': 0,\n",
       "  'cluster__synth': 2},\n",
       " 'credit_label0_realC0_synthC3': {'best_parameters': array([0.31351298, 0.08154351, 0.30249704, 0.30244646, 0.47975642,\n",
       "         0.12252717, 0.38394092, 0.01377549]),\n",
       "  'min_kl_divergence': 1.0083003821672678,\n",
       "  'cluster_real': 0,\n",
       "  'cluster__synth': 3},\n",
       " 'credit_label0_realC0_synthC4': {'best_parameters': array([0.30893212, 0.28086116, 0.22811598, 0.18209073, 0.21398778,\n",
       "         0.31438134, 0.22561457, 0.24601631]),\n",
       "  'min_kl_divergence': 0.11241641206119832,\n",
       "  'cluster_real': 0,\n",
       "  'cluster__synth': 4},\n",
       " 'credit_label0_realC1_synthC0': {'best_parameters': array([0.14192411, 0.37248859, 0.14364849, 0.34193881, 0.30169889,\n",
       "         0.23432699, 0.22707405, 0.23690007]),\n",
       "  'min_kl_divergence': 1.3075318791003594,\n",
       "  'cluster_real': 1,\n",
       "  'cluster__synth': 0},\n",
       " 'credit_label0_realC1_synthC1': {'best_parameters': array([0.08624425, 0.61209747, 0.12701935, 0.17463894, 0.23368423,\n",
       "         0.11857536, 0.34543478, 0.30230563]),\n",
       "  'min_kl_divergence': 0.7659302191963275,\n",
       "  'cluster_real': 1,\n",
       "  'cluster__synth': 1},\n",
       " 'credit_label0_realC1_synthC2': {'best_parameters': array([0.26767702, 0.34318354, 0.31498155, 0.07415789, 0.13688935,\n",
       "         0.30586876, 0.12360584, 0.43363605]),\n",
       "  'min_kl_divergence': 0.76659413667636,\n",
       "  'cluster_real': 1,\n",
       "  'cluster__synth': 2},\n",
       " 'credit_label0_realC1_synthC3': {'best_parameters': array([0.23809096, 0.18483265, 0.33548816, 0.24158822, 0.14212815,\n",
       "         0.39037424, 0.31738277, 0.15011484]),\n",
       "  'min_kl_divergence': 0.24724799951182805,\n",
       "  'cluster_real': 1,\n",
       "  'cluster__synth': 3},\n",
       " 'credit_label0_realC1_synthC4': {'best_parameters': array([0.32606163, 0.38273822, 0.1011693 , 0.19003085, 0.36664712,\n",
       "         0.14762971, 0.12605995, 0.35966322]),\n",
       "  'min_kl_divergence': 0.6786955076575593,\n",
       "  'cluster_real': 1,\n",
       "  'cluster__synth': 4},\n",
       " 'credit_label0_realC2_synthC0': {'best_parameters': array([0.18028414, 0.29282409, 0.254168  , 0.27272377, 0.22474162,\n",
       "         0.22109924, 0.26332311, 0.29083603]),\n",
       "  'min_kl_divergence': 0.8673615582337995,\n",
       "  'cluster_real': 2,\n",
       "  'cluster__synth': 0},\n",
       " 'credit_label0_realC2_synthC1': {'best_parameters': array([0.34532633, 0.17969933, 0.27038832, 0.20458603, 0.27412258,\n",
       "         0.1906967 , 0.27073337, 0.26444735]),\n",
       "  'min_kl_divergence': 0.21171398741661845,\n",
       "  'cluster_real': 2,\n",
       "  'cluster__synth': 1},\n",
       " 'credit_label0_realC2_synthC2': {'best_parameters': array([0.26629959, 0.18651268, 0.2647449 , 0.28244283, 0.13769069,\n",
       "         0.49821167, 0.1518016 , 0.21229605]),\n",
       "  'min_kl_divergence': 0.5572189592503144,\n",
       "  'cluster_real': 2,\n",
       "  'cluster__synth': 2},\n",
       " 'credit_label0_realC2_synthC3': {'best_parameters': array([0.14640809, 0.3888512 , 0.13412073, 0.33061998, 0.23148313,\n",
       "         0.22225437, 0.25298268, 0.29327982]),\n",
       "  'min_kl_divergence': 0.49417137223583424,\n",
       "  'cluster_real': 2,\n",
       "  'cluster__synth': 3},\n",
       " 'credit_label0_realC2_synthC4': {'best_parameters': array([0.15079893, 0.36005321, 0.31998416, 0.1691637 , 0.25621544,\n",
       "         0.31815876, 0.19916656, 0.22645924]),\n",
       "  'min_kl_divergence': 0.40448481899873007,\n",
       "  'cluster_real': 2,\n",
       "  'cluster__synth': 4},\n",
       " 'credit_label0_realC3_synthC0': {'best_parameters': array([0.29094043, 0.17372083, 0.22295327, 0.31238547, 0.33531458,\n",
       "         0.14425525, 0.16936927, 0.3510609 ]),\n",
       "  'min_kl_divergence': 0.7141162785174298,\n",
       "  'cluster_real': 3,\n",
       "  'cluster__synth': 0},\n",
       " 'credit_label0_realC3_synthC1': {'best_parameters': array([0.23908959, 0.23403445, 0.24964496, 0.277231  , 0.27879035,\n",
       "         0.27835313, 0.19305938, 0.24979714]),\n",
       "  'min_kl_divergence': 1.0747624303980532,\n",
       "  'cluster_real': 3,\n",
       "  'cluster__synth': 1},\n",
       " 'credit_label0_realC3_synthC2': {'best_parameters': array([0.3229919 , 0.15009686, 0.17658379, 0.35032744, 0.18833225,\n",
       "         0.29031818, 0.22836846, 0.29298111]),\n",
       "  'min_kl_divergence': 0.2595374966969778,\n",
       "  'cluster_real': 3,\n",
       "  'cluster__synth': 2},\n",
       " 'credit_label0_realC3_synthC3': {'best_parameters': array([0.31010178, 0.1943833 , 0.28333487, 0.21218005, 0.20919442,\n",
       "         0.41770004, 0.06754536, 0.30556017]),\n",
       "  'min_kl_divergence': 0.8440768005608589,\n",
       "  'cluster_real': 3,\n",
       "  'cluster__synth': 3},\n",
       " 'credit_label0_realC3_synthC4': {'best_parameters': array([0.24021774, 0.33603754, 0.19869929, 0.22504543, 0.250816  ,\n",
       "         0.25979616, 0.27067078, 0.21871706]),\n",
       "  'min_kl_divergence': 0.5358491920792211,\n",
       "  'cluster_real': 3,\n",
       "  'cluster__synth': 4},\n",
       " 'credit_label0_realC4_synthC0': {'best_parameters': array([0.29879325, 0.21711724, 0.37270747, 0.11138204, 0.11322204,\n",
       "         0.40238524, 0.34386872, 0.140524  ]),\n",
       "  'min_kl_divergence': 0.05520630445940717,\n",
       "  'cluster_real': 4,\n",
       "  'cluster__synth': 0},\n",
       " 'credit_label0_realC4_synthC1': {'best_parameters': array([0.19482029, 0.31130307, 0.20908349, 0.28479315, 0.28098611,\n",
       "         0.29509428, 0.1709361 , 0.25298351]),\n",
       "  'min_kl_divergence': 0.8896564236436244,\n",
       "  'cluster_real': 4,\n",
       "  'cluster__synth': 1},\n",
       " 'credit_label0_realC4_synthC2': {'best_parameters': array([0.23354832, 0.29370986, 0.20272953, 0.27001228, 0.58078299,\n",
       "         0.12856956, 0.21679228, 0.07385517]),\n",
       "  'min_kl_divergence': 0.5190788894880541,\n",
       "  'cluster_real': 4,\n",
       "  'cluster__synth': 2},\n",
       " 'credit_label0_realC4_synthC3': {'best_parameters': array([0.15720385, 0.26104275, 0.39526357, 0.18648983, 0.31025811,\n",
       "         0.17225334, 0.25902565, 0.2584629 ]),\n",
       "  'min_kl_divergence': 0.7583268791162029,\n",
       "  'cluster_real': 4,\n",
       "  'cluster__synth': 3},\n",
       " 'credit_label0_realC4_synthC4': {'best_parameters': array([0.27763273, 0.19622167, 0.22826009, 0.29788551, 0.26423662,\n",
       "         0.20752796, 0.29170351, 0.23653191]),\n",
       "  'min_kl_divergence': 0.401707652132377,\n",
       "  'cluster_real': 4,\n",
       "  'cluster__synth': 4},\n",
       " 'credit_label1_realC0_synthC0': {'best_parameters': array([0.39645695, 0.15256247, 0.18281089, 0.26816969, 0.28115436,\n",
       "         0.30325788, 0.19854247, 0.21704529]),\n",
       "  'min_kl_divergence': 0.5575265648641532,\n",
       "  'cluster_real': 0,\n",
       "  'cluster__synth': 0},\n",
       " 'credit_label1_realC0_synthC1': {'best_parameters': array([0.2867865 , 0.04368659, 0.40341478, 0.26611212, 0.39363481,\n",
       "         0.20320186, 0.07024428, 0.33291906]),\n",
       "  'min_kl_divergence': 0.5097784816530565,\n",
       "  'cluster_real': 0,\n",
       "  'cluster__synth': 1},\n",
       " 'credit_label1_realC0_synthC2': {'best_parameters': array([0.32341204, 0.17104117, 0.10426142, 0.40128537, 0.26036074,\n",
       "         0.20653565, 0.13503436, 0.39806925]),\n",
       "  'min_kl_divergence': 0.43582031128397525,\n",
       "  'cluster_real': 0,\n",
       "  'cluster__synth': 2},\n",
       " 'credit_label1_realC0_synthC3': {'best_parameters': array([0.20979532, 0.14182794, 0.12938902, 0.51898772, 0.60339728,\n",
       "         0.13962879, 0.13273148, 0.12424245]),\n",
       "  'min_kl_divergence': 0.6929308183173005,\n",
       "  'cluster_real': 0,\n",
       "  'cluster__synth': 3},\n",
       " 'credit_label1_realC0_synthC4': {'best_parameters': array([0.24753757, 0.35558537, 0.22280563, 0.17407144, 0.34293597,\n",
       "         0.12335344, 0.24823561, 0.28547498]),\n",
       "  'min_kl_divergence': 0.20373920666321615,\n",
       "  'cluster_real': 0,\n",
       "  'cluster__synth': 4},\n",
       " 'credit_label1_realC1_synthC0': {'best_parameters': array([0.18556456, 0.17567862, 0.18210786, 0.45664897, 0.27647384,\n",
       "         0.20805781, 0.24193547, 0.27353287]),\n",
       "  'min_kl_divergence': 1.5410560914079614,\n",
       "  'cluster_real': 1,\n",
       "  'cluster__synth': 0},\n",
       " 'credit_label1_realC1_synthC1': {'best_parameters': array([0.26372874, 0.39224335, 0.04932293, 0.29470497, 0.30816142,\n",
       "         0.31768767, 0.23231908, 0.14183183]),\n",
       "  'min_kl_divergence': 0.4063711248690544,\n",
       "  'cluster_real': 1,\n",
       "  'cluster__synth': 1},\n",
       " 'credit_label1_realC1_synthC2': {'best_parameters': array([0.25765704, 0.19037916, 0.26879178, 0.28317202, 0.31659665,\n",
       "         0.30598334, 0.17139778, 0.20602223]),\n",
       "  'min_kl_divergence': 0.9274101879329844,\n",
       "  'cluster_real': 1,\n",
       "  'cluster__synth': 2},\n",
       " 'credit_label1_realC1_synthC3': {'best_parameters': array([0.32581529, 0.18106594, 0.3695883 , 0.12353046, 0.22495273,\n",
       "         0.46242379, 0.10691428, 0.2057092 ]),\n",
       "  'min_kl_divergence': 1.3030384207568908,\n",
       "  'cluster_real': 1,\n",
       "  'cluster__synth': 3},\n",
       " 'credit_label1_realC1_synthC4': {'best_parameters': array([0.3812829 , 0.10047684, 0.15773815, 0.36050211, 0.20280259,\n",
       "         0.19475767, 0.17566302, 0.42677672]),\n",
       "  'min_kl_divergence': 1.1372941950329942,\n",
       "  'cluster_real': 1,\n",
       "  'cluster__synth': 4},\n",
       " 'credit_label1_realC2_synthC0': {'best_parameters': array([0.37203436, 0.04458403, 0.19482174, 0.38855986, 0.39701387,\n",
       "         0.08636982, 0.08042717, 0.43618914]),\n",
       "  'min_kl_divergence': 0.20331199191199623,\n",
       "  'cluster_real': 2,\n",
       "  'cluster__synth': 0},\n",
       " 'credit_label1_realC2_synthC1': {'best_parameters': array([0.21144546, 0.30967769, 0.28699996, 0.1918769 , 0.27479503,\n",
       "         0.25606835, 0.18650328, 0.28263334]),\n",
       "  'min_kl_divergence': 0.759388527802192,\n",
       "  'cluster_real': 2,\n",
       "  'cluster__synth': 1},\n",
       " 'credit_label1_realC2_synthC2': {'best_parameters': array([0.15416661, 0.17054251, 0.2699851 , 0.40530577, 0.21880037,\n",
       "         0.17618091, 0.25064362, 0.35437509]),\n",
       "  'min_kl_divergence': 0.6109933531189443,\n",
       "  'cluster_real': 2,\n",
       "  'cluster__synth': 2},\n",
       " 'credit_label1_realC2_synthC3': {'best_parameters': array([0.23691811, 0.2867925 , 0.24987197, 0.22641742, 0.23886163,\n",
       "         0.15786873, 0.33658814, 0.2666815 ]),\n",
       "  'min_kl_divergence': 0.9347676159326854,\n",
       "  'cluster_real': 2,\n",
       "  'cluster__synth': 3},\n",
       " 'credit_label1_realC2_synthC4': {'best_parameters': array([0.39061255, 0.09489988, 0.39356868, 0.1209189 , 0.08365686,\n",
       "         0.27833589, 0.29239101, 0.34561624]),\n",
       "  'min_kl_divergence': 0.5219782701588764,\n",
       "  'cluster_real': 2,\n",
       "  'cluster__synth': 4},\n",
       " 'credit_label1_realC3_synthC0': {'best_parameters': array([0.41495802, 0.14051641, 0.2603557 , 0.18416987, 0.29398345,\n",
       "         0.19979855, 0.2039379 , 0.3022801 ]),\n",
       "  'min_kl_divergence': 0.8720826194254088,\n",
       "  'cluster_real': 3,\n",
       "  'cluster__synth': 0},\n",
       " 'credit_label1_realC3_synthC1': {'best_parameters': array([0.48327105, 0.24687655, 0.21866688, 0.05118552, 0.44004046,\n",
       "         0.44907554, 0.07012887, 0.04075513]),\n",
       "  'min_kl_divergence': 1.2550861698615268,\n",
       "  'cluster_real': 3,\n",
       "  'cluster__synth': 1},\n",
       " 'credit_label1_realC3_synthC2': {'best_parameters': array([0.19750321, 0.34099047, 0.24238963, 0.21911669, 0.29484412,\n",
       "         0.37330288, 0.17369293, 0.15816007]),\n",
       "  'min_kl_divergence': 1.2070008165534287,\n",
       "  'cluster_real': 3,\n",
       "  'cluster__synth': 2},\n",
       " 'credit_label1_realC3_synthC3': {'best_parameters': array([0.14790878, 0.24623691, 0.36322356, 0.24263075, 0.35358132,\n",
       "         0.15803859, 0.18699064, 0.30138945]),\n",
       "  'min_kl_divergence': 0.30689241541962325,\n",
       "  'cluster_real': 3,\n",
       "  'cluster__synth': 3},\n",
       " 'credit_label1_realC3_synthC4': {'best_parameters': array([0.29535578, 0.13080034, 0.46028589, 0.113558  , 0.47731003,\n",
       "         0.27702973, 0.19625724, 0.049403  ]),\n",
       "  'min_kl_divergence': 0.8132280037090078,\n",
       "  'cluster_real': 3,\n",
       "  'cluster__synth': 4},\n",
       " 'credit_label1_realC4_synthC0': {'best_parameters': array([0.13721178, 0.46037864, 0.14779675, 0.25461283, 0.38653787,\n",
       "         0.17641602, 0.24427573, 0.19277038]),\n",
       "  'min_kl_divergence': 1.2175538937874493,\n",
       "  'cluster_real': 4,\n",
       "  'cluster__synth': 0},\n",
       " 'credit_label1_realC4_synthC1': {'best_parameters': array([0.21400689, 0.285865  , 0.28424947, 0.21587863, 0.26836011,\n",
       "         0.24996463, 0.23515734, 0.24651792]),\n",
       "  'min_kl_divergence': 0.43972521475661663,\n",
       "  'cluster_real': 4,\n",
       "  'cluster__synth': 1},\n",
       " 'credit_label1_realC4_synthC2': {'best_parameters': array([0.34269596, 0.13915578, 0.34295664, 0.17519162, 0.40121581,\n",
       "         0.13471916, 0.31043815, 0.15362688]),\n",
       "  'min_kl_divergence': 0.3219703727211904,\n",
       "  'cluster_real': 4,\n",
       "  'cluster__synth': 2},\n",
       " 'credit_label1_realC4_synthC3': {'best_parameters': array([0.16392798, 0.29647571, 0.28545401, 0.2541423 , 0.17835021,\n",
       "         0.20887182, 0.14407818, 0.46869979]),\n",
       "  'min_kl_divergence': 1.061203587141501,\n",
       "  'cluster_real': 4,\n",
       "  'cluster__synth': 3},\n",
       " 'credit_label1_realC4_synthC4': {'best_parameters': array([0.46389547, 0.2052683 , 0.22527741, 0.10555882, 0.06211308,\n",
       "         0.02156427, 0.67966037, 0.23666228]),\n",
       "  'min_kl_divergence': 0.7561638715746284,\n",
       "  'cluster_real': 4,\n",
       "  'cluster__synth': 4},\n",
       " 'iranian_label0_realC0_synthC0': {'best_parameters': array([0.14190143, 0.30924151, 0.25388141, 0.29497565, 0.236313  ,\n",
       "         0.26933893, 0.26050384, 0.23384423]),\n",
       "  'min_kl_divergence': 0.35285628967444754,\n",
       "  'cluster_real': 0,\n",
       "  'cluster__synth': 0},\n",
       " 'iranian_label0_realC0_synthC1': {'best_parameters': array([0.23976968, 0.22517853, 0.35204597, 0.18300581, 0.18843611,\n",
       "         0.44990249, 0.16426517, 0.19739623]),\n",
       "  'min_kl_divergence': 2.2093167924190062,\n",
       "  'cluster_real': 0,\n",
       "  'cluster__synth': 1},\n",
       " 'iranian_label0_realC0_synthC2': {'best_parameters': array([0.11561196, 0.49818983, 0.20359421, 0.18260401, 0.21716471,\n",
       "         0.22060876, 0.28835366, 0.27387287]),\n",
       "  'min_kl_divergence': 2.583697260749246,\n",
       "  'cluster_real': 0,\n",
       "  'cluster__synth': 2},\n",
       " 'iranian_label0_realC0_synthC3': {'best_parameters': array([0.35528875, 0.39813641, 0.05250463, 0.19407022, 0.20436531,\n",
       "         0.37401335, 0.09144184, 0.33017951]),\n",
       "  'min_kl_divergence': 0.7646483671655532,\n",
       "  'cluster_real': 0,\n",
       "  'cluster__synth': 3},\n",
       " 'iranian_label0_realC0_synthC4': {'best_parameters': array([0.17999997, 0.42325444, 0.14959743, 0.24714817, 0.28800569,\n",
       "         0.1482125 , 0.22134832, 0.34243349]),\n",
       "  'min_kl_divergence': 1.1744035669253496,\n",
       "  'cluster_real': 0,\n",
       "  'cluster__synth': 4},\n",
       " 'iranian_label0_realC1_synthC0': {'best_parameters': array([0.31144055, 0.17245822, 0.31039935, 0.20570189, 0.34019542,\n",
       "         0.11361396, 0.24473202, 0.3014586 ]),\n",
       "  'min_kl_divergence': 0.9217451815094462,\n",
       "  'cluster_real': 1,\n",
       "  'cluster__synth': 0},\n",
       " 'iranian_label0_realC1_synthC1': {'best_parameters': array([0.46907773, 0.10700263, 0.07851106, 0.34540858, 0.49094382,\n",
       "         0.08866678, 0.21502885, 0.20536055]),\n",
       "  'min_kl_divergence': 0.44744425501920365,\n",
       "  'cluster_real': 1,\n",
       "  'cluster__synth': 1},\n",
       " 'iranian_label0_realC1_synthC2': {'best_parameters': array([0.33140421, 0.15614616, 0.13179486, 0.38065477, 0.14901279,\n",
       "         0.12286505, 0.60183851, 0.12628365]),\n",
       "  'min_kl_divergence': 0.9928539117074723,\n",
       "  'cluster_real': 1,\n",
       "  'cluster__synth': 2},\n",
       " 'iranian_label0_realC1_synthC3': {'best_parameters': array([0.32030405, 0.07238497, 0.28996376, 0.31734721, 0.12085649,\n",
       "         0.09162784, 0.10673249, 0.68078318]),\n",
       "  'min_kl_divergence': 0.801017156489775,\n",
       "  'cluster_real': 1,\n",
       "  'cluster__synth': 3},\n",
       " 'iranian_label0_realC1_synthC4': {'best_parameters': array([0.12488046, 0.39818599, 0.13003479, 0.34689876, 0.30355387,\n",
       "         0.30318158, 0.16857473, 0.22468982]),\n",
       "  'min_kl_divergence': 0.7336309132704876,\n",
       "  'cluster_real': 1,\n",
       "  'cluster__synth': 4},\n",
       " 'iranian_label0_realC2_synthC0': {'best_parameters': array([0.1371691 , 0.15581734, 0.24317526, 0.4638383 , 0.14700081,\n",
       "         0.35648771, 0.25818711, 0.23832437]),\n",
       "  'min_kl_divergence': 0.9645517637063573,\n",
       "  'cluster_real': 2,\n",
       "  'cluster__synth': 0},\n",
       " 'iranian_label0_realC2_synthC1': {'best_parameters': array([0.19123968, 0.28375147, 0.21827552, 0.30673334, 0.2632533 ,\n",
       "         0.14882016, 0.407049  , 0.18087753]),\n",
       "  'min_kl_divergence': 0.9273890411455541,\n",
       "  'cluster_real': 2,\n",
       "  'cluster__synth': 1},\n",
       " 'iranian_label0_realC2_synthC2': {'best_parameters': array([0.28549047, 0.48408362, 0.11705431, 0.1133716 , 0.16392114,\n",
       "         0.15653866, 0.33436227, 0.34517792]),\n",
       "  'min_kl_divergence': 0.8401061083000619,\n",
       "  'cluster_real': 2,\n",
       "  'cluster__synth': 2},\n",
       " 'iranian_label0_realC2_synthC3': {'best_parameters': array([0.31089167, 0.30344445, 0.19234795, 0.19331593, 0.25344699,\n",
       "         0.29081176, 0.15613759, 0.29960366]),\n",
       "  'min_kl_divergence': 0.6215276496803526,\n",
       "  'cluster_real': 2,\n",
       "  'cluster__synth': 3},\n",
       " 'iranian_label0_realC2_synthC4': {'best_parameters': array([0.39133087, 0.2145477 , 0.19747043, 0.19665101, 0.33732996,\n",
       "         0.21543399, 0.20837167, 0.23886437]),\n",
       "  'min_kl_divergence': 0.5881816449047269,\n",
       "  'cluster_real': 2,\n",
       "  'cluster__synth': 4},\n",
       " 'iranian_label0_realC3_synthC0': {'best_parameters': array([0.28699366, 0.06136574, 0.06024755, 0.59139306, 0.27534654,\n",
       "         0.12007847, 0.07646223, 0.52811276]),\n",
       "  'min_kl_divergence': 1.2726533310561945,\n",
       "  'cluster_real': 3,\n",
       "  'cluster__synth': 0},\n",
       " 'iranian_label0_realC3_synthC1': {'best_parameters': array([0.40717999, 0.04878651, 0.13758407, 0.40644943, 0.35843197,\n",
       "         0.36448473, 0.25459329, 0.02249002]),\n",
       "  'min_kl_divergence': 1.003523716613565,\n",
       "  'cluster_real': 3,\n",
       "  'cluster__synth': 1},\n",
       " 'iranian_label0_realC3_synthC2': {'best_parameters': array([0.29876285, 0.2536794 , 0.22228565, 0.2252721 , 0.29142251,\n",
       "         0.17181235, 0.2318861 , 0.30487904]),\n",
       "  'min_kl_divergence': 1.1177282368993373,\n",
       "  'cluster_real': 3,\n",
       "  'cluster__synth': 2},\n",
       " 'iranian_label0_realC3_synthC3': {'best_parameters': array([0.05552557, 0.35958803, 0.13715242, 0.44773398, 0.27320175,\n",
       "         0.28890899, 0.10387439, 0.33401487]),\n",
       "  'min_kl_divergence': 0.8816270778994871,\n",
       "  'cluster_real': 3,\n",
       "  'cluster__synth': 3},\n",
       " 'iranian_label0_realC3_synthC4': {'best_parameters': array([0.20659744, 0.07551762, 0.41375362, 0.30413132, 0.36732745,\n",
       "         0.32230609, 0.09053069, 0.21983577]),\n",
       "  'min_kl_divergence': 1.1320881624881063,\n",
       "  'cluster_real': 3,\n",
       "  'cluster__synth': 4},\n",
       " 'iranian_label0_realC4_synthC0': {'best_parameters': array([0.5379109 , 0.20264333, 0.12917145, 0.13027432, 0.13408945,\n",
       "         0.13605252, 0.34996509, 0.37989295]),\n",
       "  'min_kl_divergence': 0.5376684784969117,\n",
       "  'cluster_real': 4,\n",
       "  'cluster__synth': 0},\n",
       " 'iranian_label0_realC4_synthC1': {'best_parameters': array([0.16173029, 0.19000034, 0.28485197, 0.3634174 , 0.08183396,\n",
       "         0.19975117, 0.06015024, 0.65826464]),\n",
       "  'min_kl_divergence': 1.7028118707084303,\n",
       "  'cluster_real': 4,\n",
       "  'cluster__synth': 1},\n",
       " 'iranian_label0_realC4_synthC2': {'best_parameters': array([0.19576813, 0.39291047, 0.03266708, 0.37865432, 0.3162227 ,\n",
       "         0.32246917, 0.30372703, 0.05758111]),\n",
       "  'min_kl_divergence': 1.5659174792033117,\n",
       "  'cluster_real': 4,\n",
       "  'cluster__synth': 2},\n",
       " 'iranian_label0_realC4_synthC3': {'best_parameters': array([0.29004911, 0.20684584, 0.29852751, 0.20457754, 0.18409625,\n",
       "         0.49468279, 0.13935984, 0.18186112]),\n",
       "  'min_kl_divergence': 0.4519186738533723,\n",
       "  'cluster_real': 4,\n",
       "  'cluster__synth': 3},\n",
       " 'iranian_label0_realC4_synthC4': {'best_parameters': array([0.44338712, 0.12698041, 0.17227228, 0.25736018, 0.28197075,\n",
       "         0.11444716, 0.3287251 , 0.27485699]),\n",
       "  'min_kl_divergence': 0.9405909181546005,\n",
       "  'cluster_real': 4,\n",
       "  'cluster__synth': 4},\n",
       " 'iranian_label1_realC0_synthC0': {'best_parameters': array([0.10077338, 0.32039399, 0.41236328, 0.16646936, 0.26480476,\n",
       "         0.1271014 , 0.27861849, 0.32947535]),\n",
       "  'min_kl_divergence': 0.7611829843908865,\n",
       "  'cluster_real': 0,\n",
       "  'cluster__synth': 0},\n",
       " 'iranian_label1_realC0_synthC1': {'best_parameters': array([0.16404119, 0.39834528, 0.32511183, 0.1125017 , 0.10867202,\n",
       "         0.1943511 , 0.02290565, 0.67407122]),\n",
       "  'min_kl_divergence': 0.9903490964263445,\n",
       "  'cluster_real': 0,\n",
       "  'cluster__synth': 1},\n",
       " 'iranian_label1_realC0_synthC2': {'best_parameters': array([0.27941015, 0.35235023, 0.09094345, 0.27729616, 0.23179117,\n",
       "         0.3348866 , 0.19824631, 0.23507592]),\n",
       "  'min_kl_divergence': 1.072953659005116,\n",
       "  'cluster_real': 0,\n",
       "  'cluster__synth': 2},\n",
       " 'iranian_label1_realC0_synthC3': {'best_parameters': array([0.21681883, 0.32443499, 0.17928364, 0.27946254, 0.18132252,\n",
       "         0.2905187 , 0.1901151 , 0.33804368]),\n",
       "  'min_kl_divergence': 0.520934431772481,\n",
       "  'cluster_real': 0,\n",
       "  'cluster__synth': 3},\n",
       " 'iranian_label1_realC0_synthC4': {'best_parameters': array([0.22068992, 0.25782174, 0.36291671, 0.15857163, 0.28355702,\n",
       "         0.27970788, 0.25345963, 0.18327548]),\n",
       "  'min_kl_divergence': 0.7899614207432432,\n",
       "  'cluster_real': 0,\n",
       "  'cluster__synth': 4},\n",
       " 'iranian_label1_realC1_synthC0': {'best_parameters': array([0.32343186, 0.20718585, 0.20949332, 0.25988897, 0.19607929,\n",
       "         0.29186914, 0.19921482, 0.31283675]),\n",
       "  'min_kl_divergence': 1.4436721813194786,\n",
       "  'cluster_real': 1,\n",
       "  'cluster__synth': 0},\n",
       " 'iranian_label1_realC1_synthC1': {'best_parameters': array([0.26300998, 0.16400576, 0.39668096, 0.1763033 , 0.16502588,\n",
       "         0.16788254, 0.26792413, 0.39916746]),\n",
       "  'min_kl_divergence': 1.3143289912321074,\n",
       "  'cluster_real': 1,\n",
       "  'cluster__synth': 1},\n",
       " 'iranian_label1_realC1_synthC2': {'best_parameters': array([0.11147691, 0.03991077, 0.52168042, 0.32693191, 0.09475453,\n",
       "         0.25504711, 0.34124514, 0.30895323]),\n",
       "  'min_kl_divergence': 0.7645179829312221,\n",
       "  'cluster_real': 1,\n",
       "  'cluster__synth': 2},\n",
       " 'iranian_label1_realC1_synthC3': {'best_parameters': array([0.28608602, 0.21606791, 0.18726019, 0.31058588, 0.30888813,\n",
       "         0.14274603, 0.22255226, 0.32581358]),\n",
       "  'min_kl_divergence': 2.168289143057044,\n",
       "  'cluster_real': 1,\n",
       "  'cluster__synth': 3},\n",
       " 'iranian_label1_realC1_synthC4': {'best_parameters': array([0.0641932 , 0.35975799, 0.22241618, 0.35363263, 0.05087147,\n",
       "         0.0344184 , 0.16725257, 0.74745755]),\n",
       "  'min_kl_divergence': 1.471168883442049,\n",
       "  'cluster_real': 1,\n",
       "  'cluster__synth': 4},\n",
       " 'iranian_label1_realC2_synthC0': {'best_parameters': array([0.17388922, 0.15760376, 0.34191785, 0.32658917, 0.34839813,\n",
       "         0.15175921, 0.27819924, 0.22164342]),\n",
       "  'min_kl_divergence': 4.201351679601354,\n",
       "  'cluster_real': 2,\n",
       "  'cluster__synth': 0},\n",
       " 'iranian_label1_realC2_synthC1': {'best_parameters': array([0.40488073, 0.25704758, 0.29354202, 0.04452966, 0.43436348,\n",
       "         0.40013945, 0.03405527, 0.1314418 ]),\n",
       "  'min_kl_divergence': 2.515592547006026,\n",
       "  'cluster_real': 2,\n",
       "  'cluster__synth': 1},\n",
       " 'iranian_label1_realC2_synthC2': {'best_parameters': array([0.27431788, 0.54036691, 0.09388536, 0.09142985, 0.48438327,\n",
       "         0.01142497, 0.20936753, 0.29482424]),\n",
       "  'min_kl_divergence': 2.6629458902515433,\n",
       "  'cluster_real': 2,\n",
       "  'cluster__synth': 2},\n",
       " 'iranian_label1_realC2_synthC3': {'best_parameters': array([0.18978115, 0.32573102, 0.31700161, 0.16748622, 0.10923991,\n",
       "         0.47357457, 0.12058979, 0.29659573]),\n",
       "  'min_kl_divergence': 3.02665229855724,\n",
       "  'cluster_real': 2,\n",
       "  'cluster__synth': 3},\n",
       " 'iranian_label1_realC2_synthC4': {'best_parameters': array([0.21122647, 0.30210291, 0.20096888, 0.28570174, 0.31834884,\n",
       "         0.19679153, 0.25397453, 0.2308851 ]),\n",
       "  'min_kl_divergence': 2.2780295244643183,\n",
       "  'cluster_real': 2,\n",
       "  'cluster__synth': 4},\n",
       " 'iranian_label1_realC3_synthC0': {'best_parameters': array([0.19815948, 0.05091669, 0.35725717, 0.39366667, 0.17724439,\n",
       "         0.32399248, 0.18235194, 0.3164112 ]),\n",
       "  'min_kl_divergence': 0.8085907067360025,\n",
       "  'cluster_real': 3,\n",
       "  'cluster__synth': 0},\n",
       " 'iranian_label1_realC3_synthC1': {'best_parameters': array([0.14056195, 0.28915047, 0.25292199, 0.31736559, 0.18725487,\n",
       "         0.36005581, 0.06359418, 0.38909514]),\n",
       "  'min_kl_divergence': 0.990731417324786,\n",
       "  'cluster_real': 3,\n",
       "  'cluster__synth': 1},\n",
       " 'iranian_label1_realC3_synthC2': {'best_parameters': array([0.08134547, 0.24158389, 0.24611709, 0.43095356, 0.08108579,\n",
       "         0.22947295, 0.42173689, 0.26770436]),\n",
       "  'min_kl_divergence': 2.0058767357328926,\n",
       "  'cluster_real': 3,\n",
       "  'cluster__synth': 2},\n",
       " 'iranian_label1_realC3_synthC3': {'best_parameters': array([0.15964585, 0.34201863, 0.27559455, 0.22274097, 0.2285194 ,\n",
       "         0.18793983, 0.16699315, 0.41654763]),\n",
       "  'min_kl_divergence': 1.0378971153554999,\n",
       "  'cluster_real': 3,\n",
       "  'cluster__synth': 3},\n",
       " 'iranian_label1_realC3_synthC4': {'best_parameters': array([0.32558931, 0.13806924, 0.16695513, 0.36938633, 0.31182378,\n",
       "         0.21997926, 0.23384486, 0.23435211]),\n",
       "  'min_kl_divergence': 1.7353398201342771,\n",
       "  'cluster_real': 3,\n",
       "  'cluster__synth': 4},\n",
       " 'iranian_label1_realC4_synthC0': {'best_parameters': array([0.23520537, 0.03919573, 0.51141488, 0.21418401, 0.33539772,\n",
       "         0.09934841, 0.14490884, 0.42034503]),\n",
       "  'min_kl_divergence': 0.5078760947806303,\n",
       "  'cluster_real': 4,\n",
       "  'cluster__synth': 0},\n",
       " 'iranian_label1_realC4_synthC1': {'best_parameters': array([0.38256954, 0.31257753, 0.24108164, 0.06377128, 0.15252035,\n",
       "         0.25409624, 0.10902244, 0.48436097]),\n",
       "  'min_kl_divergence': 0.6530440574520553,\n",
       "  'cluster_real': 4,\n",
       "  'cluster__synth': 1},\n",
       " 'iranian_label1_realC4_synthC2': {'best_parameters': array([0.45400318, 0.04833241, 0.18372775, 0.31393666, 0.3232443 ,\n",
       "         0.19941877, 0.24832618, 0.22901075]),\n",
       "  'min_kl_divergence': 0.5371746184503141,\n",
       "  'cluster_real': 4,\n",
       "  'cluster__synth': 2},\n",
       " 'iranian_label1_realC4_synthC3': {'best_parameters': array([0.34462762, 0.11250442, 0.18592451, 0.35694345, 0.24064692,\n",
       "         0.34934499, 0.23694257, 0.17306552]),\n",
       "  'min_kl_divergence': 1.9200248642839184,\n",
       "  'cluster_real': 4,\n",
       "  'cluster__synth': 3},\n",
       " 'iranian_label1_realC4_synthC4': {'best_parameters': array([0.25426498, 0.30289328, 0.29306044, 0.1497813 , 0.1654196 ,\n",
       "         0.22233215, 0.25126243, 0.36098582]),\n",
       "  'min_kl_divergence': 1.7492692459081727,\n",
       "  'cluster_real': 4,\n",
       "  'cluster__synth': 4},\n",
       " 'telco_label0_realC0_synthC0': {'best_parameters': array([0.14579841, 0.21040623, 0.29806467, 0.3457307 , 0.43930516,\n",
       "         0.38026629, 0.02149753, 0.15893102]),\n",
       "  'min_kl_divergence': 0.46394909264068634,\n",
       "  'cluster_real': 0,\n",
       "  'cluster__synth': 0},\n",
       " 'telco_label0_realC0_synthC1': {'best_parameters': array([0.18399453, 0.3027626 , 0.26609592, 0.24714695, 0.23021606,\n",
       "         0.13791154, 0.18141064, 0.45046176]),\n",
       "  'min_kl_divergence': 0.0827565551638876,\n",
       "  'cluster_real': 0,\n",
       "  'cluster__synth': 1},\n",
       " 'telco_label0_realC0_synthC2': {'best_parameters': array([0.2094105 , 0.17290564, 0.33487362, 0.28281025, 0.21592694,\n",
       "         0.15135635, 0.14806558, 0.48465113]),\n",
       "  'min_kl_divergence': 0.23568479345454973,\n",
       "  'cluster_real': 0,\n",
       "  'cluster__synth': 2},\n",
       " 'telco_label0_realC0_synthC3': {'best_parameters': array([0.06445154, 0.36822652, 0.19156217, 0.37575976, 0.45997291,\n",
       "         0.23492633, 0.11643475, 0.18866601]),\n",
       "  'min_kl_divergence': 0.11405404170449214,\n",
       "  'cluster_real': 0,\n",
       "  'cluster__synth': 3},\n",
       " 'telco_label0_realC0_synthC4': {'best_parameters': array([0.39274334, 0.13165458, 0.30960052, 0.16600156, 0.15978679,\n",
       "         0.25167833, 0.2062899 , 0.38224498]),\n",
       "  'min_kl_divergence': 0.5200338846831277,\n",
       "  'cluster_real': 0,\n",
       "  'cluster__synth': 4},\n",
       " 'telco_label0_realC1_synthC0': {'best_parameters': array([0.34740553, 0.12532703, 0.23530633, 0.29196111, 0.25246736,\n",
       "         0.25156106, 0.27964968, 0.21632191]),\n",
       "  'min_kl_divergence': 0.19365602446405414,\n",
       "  'cluster_real': 1,\n",
       "  'cluster__synth': 0},\n",
       " 'telco_label0_realC1_synthC1': {'best_parameters': array([0.31456468, 0.00068794, 0.39392078, 0.2908266 , 0.32566229,\n",
       "         0.31250488, 0.11921255, 0.24262028]),\n",
       "  'min_kl_divergence': 0.26662105605163927,\n",
       "  'cluster_real': 1,\n",
       "  'cluster__synth': 1},\n",
       " 'telco_label0_realC1_synthC2': {'best_parameters': array([0.2137269 , 0.26710244, 0.32455315, 0.19461751, 0.1940122 ,\n",
       "         0.28962431, 0.16914102, 0.34722248]),\n",
       "  'min_kl_divergence': 0.16194139723992576,\n",
       "  'cluster_real': 1,\n",
       "  'cluster__synth': 2},\n",
       " 'telco_label0_realC1_synthC3': {'best_parameters': array([6.05992533e-01, 1.81582711e-01, 2.12359814e-01, 6.49413571e-05,\n",
       "         4.00886112e-01, 1.06206145e-01, 1.52909822e-01, 3.39997921e-01]),\n",
       "  'min_kl_divergence': 0.3641240511391497,\n",
       "  'cluster_real': 1,\n",
       "  'cluster__synth': 3},\n",
       " 'telco_label0_realC1_synthC4': {'best_parameters': array([0.14098715, 0.15142318, 0.31700873, 0.39058094, 0.13928262,\n",
       "         0.20228809, 0.27159516, 0.38683414]),\n",
       "  'min_kl_divergence': 0.09222556035564396,\n",
       "  'cluster_real': 1,\n",
       "  'cluster__synth': 4},\n",
       " 'telco_label0_realC2_synthC0': {'best_parameters': array([0.23618214, 0.1458449 , 0.261725  , 0.35624796, 0.41077458,\n",
       "         0.14766362, 0.13355532, 0.30800648]),\n",
       "  'min_kl_divergence': 0.09472128200143608,\n",
       "  'cluster_real': 2,\n",
       "  'cluster__synth': 0},\n",
       " 'telco_label0_realC2_synthC1': {'best_parameters': array([0.50241071, 0.07884326, 0.07853149, 0.34021454, 0.02406973,\n",
       "         0.22296208, 0.53334304, 0.21962515]),\n",
       "  'min_kl_divergence': 0.7884322153957454,\n",
       "  'cluster_real': 2,\n",
       "  'cluster__synth': 1},\n",
       " 'telco_label0_realC2_synthC2': {'best_parameters': array([0.19492699, 0.31028927, 0.28907383, 0.20570991, 0.24608253,\n",
       "         0.34521895, 0.16352558, 0.24517293]),\n",
       "  'min_kl_divergence': 0.37691335857490166,\n",
       "  'cluster_real': 2,\n",
       "  'cluster__synth': 2},\n",
       " 'telco_label0_realC2_synthC3': {'best_parameters': array([0.33414432, 0.15673672, 0.09892947, 0.41018949, 0.23598378,\n",
       "         0.30161737, 0.14759379, 0.31480506]),\n",
       "  'min_kl_divergence': 0.6131838460531657,\n",
       "  'cluster_real': 2,\n",
       "  'cluster__synth': 3},\n",
       " 'telco_label0_realC2_synthC4': {'best_parameters': array([0.28340366, 0.16774908, 0.239648  , 0.30919926, 0.19100558,\n",
       "         0.26899375, 0.28904228, 0.2509584 ]),\n",
       "  'min_kl_divergence': 0.1427538597535898,\n",
       "  'cluster_real': 2,\n",
       "  'cluster__synth': 4},\n",
       " 'telco_label0_realC3_synthC0': {'best_parameters': array([0.45938661, 0.02640337, 0.34305472, 0.1711553 , 0.10476588,\n",
       "         0.40664994, 0.06363769, 0.42494649]),\n",
       "  'min_kl_divergence': 0.8311474435473146,\n",
       "  'cluster_real': 3,\n",
       "  'cluster__synth': 0},\n",
       " 'telco_label0_realC3_synthC1': {'best_parameters': array([0.19940912, 0.44417812, 0.12580132, 0.23061144, 0.40147295,\n",
       "         0.11942545, 0.29222333, 0.18687827]),\n",
       "  'min_kl_divergence': 0.2286483286350576,\n",
       "  'cluster_real': 3,\n",
       "  'cluster__synth': 1},\n",
       " 'telco_label0_realC3_synthC2': {'best_parameters': array([0.10826244, 0.06982344, 0.69774182, 0.1241723 , 0.46062099,\n",
       "         0.19618795, 0.09607592, 0.24711514]),\n",
       "  'min_kl_divergence': 0.5129718193768832,\n",
       "  'cluster_real': 3,\n",
       "  'cluster__synth': 2},\n",
       " 'telco_label0_realC3_synthC3': {'best_parameters': array([0.03357691, 0.353704  , 0.46075519, 0.1519639 , 0.1839538 ,\n",
       "         0.08960204, 0.54487143, 0.18157274]),\n",
       "  'min_kl_divergence': 0.13678642719337333,\n",
       "  'cluster_real': 3,\n",
       "  'cluster__synth': 3},\n",
       " 'telco_label0_realC3_synthC4': {'best_parameters': array([0.39386243, 0.2261407 , 0.1981628 , 0.18183407, 0.14723117,\n",
       "         0.23675965, 0.31968751, 0.29632167]),\n",
       "  'min_kl_divergence': 1.0787531305075575,\n",
       "  'cluster_real': 3,\n",
       "  'cluster__synth': 4},\n",
       " 'telco_label0_realC4_synthC0': {'best_parameters': array([0.23458542, 0.30496138, 0.30144154, 0.15901166, 0.48506646,\n",
       "         0.13932264, 0.1459643 , 0.2296466 ]),\n",
       "  'min_kl_divergence': 0.4702094414755263,\n",
       "  'cluster_real': 4,\n",
       "  'cluster__synth': 0},\n",
       " 'telco_label0_realC4_synthC1': {'best_parameters': array([0.27385295, 0.13797094, 0.15573559, 0.43244052, 0.24179278,\n",
       "         0.30034485, 0.24556672, 0.21229565]),\n",
       "  'min_kl_divergence': 0.1716479685043876,\n",
       "  'cluster_real': 4,\n",
       "  'cluster__synth': 1},\n",
       " 'telco_label0_realC4_synthC2': {'best_parameters': array([0.16151937, 0.55085275, 0.14786067, 0.13976721, 0.4310852 ,\n",
       "         0.24133943, 0.31405884, 0.01351653]),\n",
       "  'min_kl_divergence': 0.12524891739558003,\n",
       "  'cluster_real': 4,\n",
       "  'cluster__synth': 2},\n",
       " 'telco_label0_realC4_synthC3': {'best_parameters': array([0.32057514, 0.19348268, 0.16557696, 0.32036522, 0.39543885,\n",
       "         0.13676378, 0.14644322, 0.32135415]),\n",
       "  'min_kl_divergence': 0.23777816624559997,\n",
       "  'cluster_real': 4,\n",
       "  'cluster__synth': 3},\n",
       " 'telco_label0_realC4_synthC4': {'best_parameters': array([0.11602092, 0.40810439, 0.02291861, 0.45295608, 0.23062698,\n",
       "         0.26772136, 0.24906542, 0.25258624]),\n",
       "  'min_kl_divergence': 0.31735872749520383,\n",
       "  'cluster_real': 4,\n",
       "  'cluster__synth': 4},\n",
       " 'telco_label1_realC0_synthC0': {'best_parameters': array([0.38491762, 0.200182  , 0.15076137, 0.26413901, 0.18045887,\n",
       "         0.16774954, 0.2609181 , 0.39087348]),\n",
       "  'min_kl_divergence': 0.07052167497646553,\n",
       "  'cluster_real': 0,\n",
       "  'cluster__synth': 0},\n",
       " 'telco_label1_realC0_synthC1': {'best_parameters': array([0.29502346, 0.09936777, 0.4588434 , 0.14676537, 0.21962612,\n",
       "         0.17961676, 0.24558732, 0.3551698 ]),\n",
       "  'min_kl_divergence': 0.7123101135766374,\n",
       "  'cluster_real': 0,\n",
       "  'cluster__synth': 1},\n",
       " 'telco_label1_realC0_synthC2': {'best_parameters': array([0.37906527, 0.20933056, 0.35314406, 0.05846011, 0.56127463,\n",
       "         0.02751492, 0.08254305, 0.3286674 ]),\n",
       "  'min_kl_divergence': 0.33745801172085993,\n",
       "  'cluster_real': 0,\n",
       "  'cluster__synth': 2},\n",
       " 'telco_label1_realC0_synthC3': {'best_parameters': array([0.21939101, 0.21283585, 0.26086379, 0.30690936, 0.27908076,\n",
       "         0.29805118, 0.20105125, 0.22181681]),\n",
       "  'min_kl_divergence': 1.0399229022260499,\n",
       "  'cluster_real': 0,\n",
       "  'cluster__synth': 3},\n",
       " 'telco_label1_realC0_synthC4': {'best_parameters': array([0.44237516, 0.04463494, 0.32464194, 0.18834796, 0.15928169,\n",
       "         0.28183307, 0.26853389, 0.29035136]),\n",
       "  'min_kl_divergence': 0.27709253637178216,\n",
       "  'cluster_real': 0,\n",
       "  'cluster__synth': 4},\n",
       " 'telco_label1_realC1_synthC0': {'best_parameters': array([0.23303571, 0.19197719, 0.31635294, 0.25863416, 0.19142133,\n",
       "         0.2415281 , 0.21759568, 0.34945489]),\n",
       "  'min_kl_divergence': 0.7088235266268802,\n",
       "  'cluster_real': 1,\n",
       "  'cluster__synth': 0},\n",
       " 'telco_label1_realC1_synthC1': {'best_parameters': array([0.16840259, 0.35698281, 0.19291572, 0.28169889, 0.13756312,\n",
       "         0.28292839, 0.15143959, 0.4280689 ]),\n",
       "  'min_kl_divergence': 0.1721175810903742,\n",
       "  'cluster_real': 1,\n",
       "  'cluster__synth': 1},\n",
       " 'telco_label1_realC1_synthC2': {'best_parameters': array([0.44732033, 0.16454519, 0.06155762, 0.32657686, 0.38019343,\n",
       "         0.08046318, 0.08833392, 0.45100946]),\n",
       "  'min_kl_divergence': 0.3294327686165338,\n",
       "  'cluster_real': 1,\n",
       "  'cluster__synth': 2},\n",
       " 'telco_label1_realC1_synthC3': {'best_parameters': array([0.33013055, 0.26990267, 0.08010781, 0.31985897, 0.16045827,\n",
       "         0.14378702, 0.34658126, 0.34917345]),\n",
       "  'min_kl_divergence': 0.35083956889023976,\n",
       "  'cluster_real': 1,\n",
       "  'cluster__synth': 3},\n",
       " 'telco_label1_realC1_synthC4': {'best_parameters': array([0.20526788, 0.18395056, 0.22874715, 0.3820344 , 0.31918598,\n",
       "         0.19942656, 0.2077628 , 0.27362466]),\n",
       "  'min_kl_divergence': 0.4204651111955388,\n",
       "  'cluster_real': 1,\n",
       "  'cluster__synth': 4},\n",
       " 'telco_label1_realC2_synthC0': {'best_parameters': array([0.3099199 , 0.3241521 , 0.13370351, 0.23222449, 0.3737219 ,\n",
       "         0.05027813, 0.18694756, 0.38905242]),\n",
       "  'min_kl_divergence': 0.3418040428135978,\n",
       "  'cluster_real': 2,\n",
       "  'cluster__synth': 0},\n",
       " 'telco_label1_realC2_synthC1': {'best_parameters': array([0.29431726, 0.11582367, 0.23864824, 0.35121083, 0.42672613,\n",
       "         0.1886187 , 0.27344133, 0.11121383]),\n",
       "  'min_kl_divergence': 0.2804920947820324,\n",
       "  'cluster_real': 2,\n",
       "  'cluster__synth': 1},\n",
       " 'telco_label1_realC2_synthC2': {'best_parameters': array([6.07422764e-01, 3.74536848e-06, 2.89533437e-01, 1.03040054e-01,\n",
       "         3.72433870e-01, 1.82459705e-01, 8.21270323e-02, 3.62979393e-01]),\n",
       "  'min_kl_divergence': 0.14359682681043665,\n",
       "  'cluster_real': 2,\n",
       "  'cluster__synth': 2},\n",
       " 'telco_label1_realC2_synthC3': {'best_parameters': array([0.30571603, 0.33292496, 0.03837644, 0.32298257, 0.37232977,\n",
       "         0.2224887 , 0.03924184, 0.3659397 ]),\n",
       "  'min_kl_divergence': 0.3278600102214592,\n",
       "  'cluster_real': 2,\n",
       "  'cluster__synth': 3},\n",
       " 'telco_label1_realC2_synthC4': {'best_parameters': array([0.35527688, 0.15433571, 0.18209671, 0.3082907 , 0.21665514,\n",
       "         0.15228936, 0.2249368 , 0.40611871]),\n",
       "  'min_kl_divergence': 0.24821808016532984,\n",
       "  'cluster_real': 2,\n",
       "  'cluster__synth': 4},\n",
       " 'telco_label1_realC3_synthC0': {'best_parameters': array([0.07140855, 0.49839675, 0.28116954, 0.14902516, 0.24330579,\n",
       "         0.34043093, 0.14927637, 0.26698691]),\n",
       "  'min_kl_divergence': 0.2933651569938098,\n",
       "  'cluster_real': 3,\n",
       "  'cluster__synth': 0},\n",
       " 'telco_label1_realC3_synthC1': {'best_parameters': array([0.08846328, 0.33269455, 0.42347013, 0.15537203, 0.28476175,\n",
       "         0.31623413, 0.19387127, 0.20513285]),\n",
       "  'min_kl_divergence': 0.6578943338372614,\n",
       "  'cluster_real': 3,\n",
       "  'cluster__synth': 1},\n",
       " 'telco_label1_realC3_synthC2': {'best_parameters': array([0.14190894, 0.21328395, 0.41793494, 0.22687217, 0.28623035,\n",
       "         0.1602598 , 0.2767657 , 0.27674414]),\n",
       "  'min_kl_divergence': 0.24365224012939868,\n",
       "  'cluster_real': 3,\n",
       "  'cluster__synth': 2},\n",
       " 'telco_label1_realC3_synthC3': {'best_parameters': array([0.25158984, 0.17317265, 0.32194081, 0.2532967 , 0.16661548,\n",
       "         0.22523318, 0.35042296, 0.25772838]),\n",
       "  'min_kl_divergence': 0.760984979254526,\n",
       "  'cluster_real': 3,\n",
       "  'cluster__synth': 3},\n",
       " 'telco_label1_realC3_synthC4': {'best_parameters': array([0.27217616, 0.25791505, 0.32727574, 0.14263305, 0.46316486,\n",
       "         0.25122368, 0.02443269, 0.26117876]),\n",
       "  'min_kl_divergence': 0.09913137830491542,\n",
       "  'cluster_real': 3,\n",
       "  'cluster__synth': 4},\n",
       " 'telco_label1_realC4_synthC0': {'best_parameters': array([0.31288274, 0.19417137, 0.31463732, 0.17830857, 0.14108887,\n",
       "         0.32944715, 0.30239186, 0.22707211]),\n",
       "  'min_kl_divergence': 1.6501463088111585,\n",
       "  'cluster_real': 4,\n",
       "  'cluster__synth': 0},\n",
       " 'telco_label1_realC4_synthC1': {'best_parameters': array([0.13647355, 0.36794932, 0.15778865, 0.33778848, 0.31456342,\n",
       "         0.24719675, 0.27882398, 0.15941586]),\n",
       "  'min_kl_divergence': 1.1254094942350792,\n",
       "  'cluster_real': 4,\n",
       "  'cluster__synth': 1},\n",
       " 'telco_label1_realC4_synthC2': {'best_parameters': array([0.20712969, 0.27356793, 0.34480423, 0.17449814, 0.40134244,\n",
       "         0.15965468, 0.2277421 , 0.21126077]),\n",
       "  'min_kl_divergence': 0.8087980502881841,\n",
       "  'cluster_real': 4,\n",
       "  'cluster__synth': 2},\n",
       " 'telco_label1_realC4_synthC3': {'best_parameters': array([0.25390581, 0.27569092, 0.25780472, 0.21259854, 0.43439023,\n",
       "         0.12855816, 0.30556351, 0.13148811]),\n",
       "  'min_kl_divergence': 0.39594070352752936,\n",
       "  'cluster_real': 4,\n",
       "  'cluster__synth': 3},\n",
       " 'telco_label1_realC4_synthC4': {'best_parameters': array([0.27026796, 0.305788  , 0.23695936, 0.18698469, 0.1782059 ,\n",
       "         0.19005464, 0.15422378, 0.47751568]),\n",
       "  'min_kl_divergence': 1.2092655636585532,\n",
       "  'cluster_real': 4,\n",
       "  'cluster__synth': 4}}"
      ]
     },
     "execution_count": 46,
     "metadata": {},
     "output_type": "execute_result"
    }
   ],
   "source": [
    "global_results"
   ]
  },
  {
   "cell_type": "code",
   "execution_count": 47,
   "metadata": {},
   "outputs": [],
   "source": [
    "with open('global_results.pkl', 'wb') as f:\n",
    "        pickle.dump(global_results, f)"
   ]
  },
  {
   "cell_type": "code",
   "execution_count": 48,
   "metadata": {},
   "outputs": [],
   "source": [
    "with open('global_results.pkl', 'rb') as f:\n",
    "            pickle.load(f)"
   ]
  },
  {
   "cell_type": "code",
   "execution_count": null,
   "metadata": {},
   "outputs": [
    {
     "data": {
      "text/plain": [
       "array([0.27182702, 0.32726807, 0.19365728, 0.20724763])"
      ]
     },
     "execution_count": 49,
     "metadata": {},
     "output_type": "execute_result"
    }
   ],
   "source": [
    "# Example\n",
    "global_results[\"bank_label1_realC3_synthC0\"][\"best_parameters\"][4:]"
   ]
  },
  {
   "cell_type": "code",
   "execution_count": 282,
   "metadata": {},
   "outputs": [
    {
     "data": {
      "text/html": [
       "<div>\n",
       "<style scoped>\n",
       "    .dataframe tbody tr th:only-of-type {\n",
       "        vertical-align: middle;\n",
       "    }\n",
       "\n",
       "    .dataframe tbody tr th {\n",
       "        vertical-align: top;\n",
       "    }\n",
       "\n",
       "    .dataframe thead th {\n",
       "        text-align: right;\n",
       "    }\n",
       "</style>\n",
       "<table border=\"1\" class=\"dataframe\">\n",
       "  <thead>\n",
       "    <tr style=\"text-align: right;\">\n",
       "      <th></th>\n",
       "      <th>CreditScore</th>\n",
       "      <th>Gender</th>\n",
       "      <th>Age</th>\n",
       "      <th>Tenure</th>\n",
       "      <th>Balance</th>\n",
       "      <th>NumOfProducts</th>\n",
       "      <th>HasCrCard</th>\n",
       "      <th>IsActiveMember</th>\n",
       "      <th>EstimatedSalary</th>\n",
       "      <th>Geography_encoded</th>\n",
       "      <th>Sparsity</th>\n",
       "      <th>Pausibility_Normalized</th>\n",
       "      <th>AVG_Proximity</th>\n",
       "      <th>Diversity_Normalized</th>\n",
       "      <th>source</th>\n",
       "      <th>Opp_Diversity_Normalized</th>\n",
       "      <th>cluster_real</th>\n",
       "      <th>Linear Combination</th>\n",
       "    </tr>\n",
       "  </thead>\n",
       "  <tbody>\n",
       "    <tr>\n",
       "      <th>22</th>\n",
       "      <td>510</td>\n",
       "      <td>1</td>\n",
       "      <td>38</td>\n",
       "      <td>4</td>\n",
       "      <td>0</td>\n",
       "      <td>1</td>\n",
       "      <td>1</td>\n",
       "      <td>0</td>\n",
       "      <td>0</td>\n",
       "      <td>0.0000</td>\n",
       "      <td>0.2</td>\n",
       "      <td>0.006168</td>\n",
       "      <td>0.366378</td>\n",
       "      <td>0.385018</td>\n",
       "      <td>CP-ILS</td>\n",
       "      <td>0.614982</td>\n",
       "      <td>3</td>\n",
       "      <td>0.228227</td>\n",
       "    </tr>\n",
       "    <tr>\n",
       "      <th>22</th>\n",
       "      <td>350</td>\n",
       "      <td>1</td>\n",
       "      <td>38</td>\n",
       "      <td>4</td>\n",
       "      <td>0</td>\n",
       "      <td>1</td>\n",
       "      <td>1</td>\n",
       "      <td>0</td>\n",
       "      <td>1</td>\n",
       "      <td>0.0000</td>\n",
       "      <td>0.3</td>\n",
       "      <td>0.008256</td>\n",
       "      <td>0.366540</td>\n",
       "      <td>0.385018</td>\n",
       "      <td>CP-ILS</td>\n",
       "      <td>0.614982</td>\n",
       "      <td>3</td>\n",
       "      <td>0.266890</td>\n",
       "    </tr>\n",
       "    <tr>\n",
       "      <th>22</th>\n",
       "      <td>619</td>\n",
       "      <td>1</td>\n",
       "      <td>38</td>\n",
       "      <td>1</td>\n",
       "      <td>0</td>\n",
       "      <td>1</td>\n",
       "      <td>1</td>\n",
       "      <td>0</td>\n",
       "      <td>112442</td>\n",
       "      <td>0.2477</td>\n",
       "      <td>0.3</td>\n",
       "      <td>0.002539</td>\n",
       "      <td>0.020051</td>\n",
       "      <td>0.148051</td>\n",
       "      <td>DiCE</td>\n",
       "      <td>0.851949</td>\n",
       "      <td>3</td>\n",
       "      <td>0.241637</td>\n",
       "    </tr>\n",
       "    <tr>\n",
       "      <th>22</th>\n",
       "      <td>726</td>\n",
       "      <td>1</td>\n",
       "      <td>48</td>\n",
       "      <td>4</td>\n",
       "      <td>0</td>\n",
       "      <td>1</td>\n",
       "      <td>1</td>\n",
       "      <td>0</td>\n",
       "      <td>114020</td>\n",
       "      <td>0.2477</td>\n",
       "      <td>0.3</td>\n",
       "      <td>0.014032</td>\n",
       "      <td>0.015307</td>\n",
       "      <td>0.148051</td>\n",
       "      <td>DiCE</td>\n",
       "      <td>0.851949</td>\n",
       "      <td>3</td>\n",
       "      <td>0.244386</td>\n",
       "    </tr>\n",
       "    <tr>\n",
       "      <th>22</th>\n",
       "      <td>510</td>\n",
       "      <td>1</td>\n",
       "      <td>38</td>\n",
       "      <td>4</td>\n",
       "      <td>0</td>\n",
       "      <td>4</td>\n",
       "      <td>1</td>\n",
       "      <td>0</td>\n",
       "      <td>1</td>\n",
       "      <td>0.0000</td>\n",
       "      <td>0.3</td>\n",
       "      <td>0.006141</td>\n",
       "      <td>0.366378</td>\n",
       "      <td>0.385018</td>\n",
       "      <td>CP-ILS</td>\n",
       "      <td>0.614982</td>\n",
       "      <td>3</td>\n",
       "      <td>0.266211</td>\n",
       "    </tr>\n",
       "  </tbody>\n",
       "</table>\n",
       "</div>"
      ],
      "text/plain": [
       "    CreditScore  Gender  Age  Tenure  Balance  NumOfProducts  HasCrCard  \\\n",
       "22          510       1   38       4        0              1          1   \n",
       "22          350       1   38       4        0              1          1   \n",
       "22          619       1   38       1        0              1          1   \n",
       "22          726       1   48       4        0              1          1   \n",
       "22          510       1   38       4        0              4          1   \n",
       "\n",
       "    IsActiveMember  EstimatedSalary  Geography_encoded  Sparsity  \\\n",
       "22               0                0             0.0000       0.2   \n",
       "22               0                1             0.0000       0.3   \n",
       "22               0           112442             0.2477       0.3   \n",
       "22               0           114020             0.2477       0.3   \n",
       "22               0                1             0.0000       0.3   \n",
       "\n",
       "    Pausibility_Normalized  AVG_Proximity  Diversity_Normalized  source  \\\n",
       "22                0.006168       0.366378              0.385018  CP-ILS   \n",
       "22                0.008256       0.366540              0.385018  CP-ILS   \n",
       "22                0.002539       0.020051              0.148051    DiCE   \n",
       "22                0.014032       0.015307              0.148051    DiCE   \n",
       "22                0.006141       0.366378              0.385018  CP-ILS   \n",
       "\n",
       "    Opp_Diversity_Normalized  cluster_real  Linear Combination  \n",
       "22                  0.614982             3            0.228227  \n",
       "22                  0.614982             3            0.266890  \n",
       "22                  0.851949             3            0.241637  \n",
       "22                  0.851949             3            0.244386  \n",
       "22                  0.614982             3            0.266211  "
      ]
     },
     "execution_count": 282,
     "metadata": {},
     "output_type": "execute_result"
    }
   ],
   "source": [
    "linear_selection(ensemble_df_bank_real_1[ensemble_df_bank_real_1['cluster_real']==3], global_results[\"bank_label1_realC3_synthC0\"][\"best_parameters\"][:4]).head()"
   ]
  },
  {
   "cell_type": "code",
   "execution_count": null,
   "metadata": {},
   "outputs": [
    {
     "data": {
      "text/plain": [
       "(7725, 17)"
      ]
     },
     "execution_count": 284,
     "metadata": {},
     "output_type": "execute_result"
    }
   ],
   "source": [
    "# E.g.: shape of CFs basket before linear selection for cluster 0\n",
    "ensemble_df_bank_real_0[ensemble_df_bank_real_0['cluster_real']==3].shape"
   ]
  },
  {
   "cell_type": "markdown",
   "metadata": {},
   "source": [
    "### Apply minimized weights to all combinations"
   ]
  },
  {
   "cell_type": "code",
   "execution_count": 336,
   "metadata": {},
   "outputs": [
    {
     "name": "stderr",
     "output_type": "stream",
     "text": [
      "Applying linear selection: 100%|██████████| 200/200 [00:02<00:00, 93.85it/s] \n"
     ]
    }
   ],
   "source": [
    "def apply_linear_selection(global_results, ensemble_dfs):\n",
    "    \"\"\"Applies linear_selection to all combinations in global_results\"\"\"\n",
    "    results = {}\n",
    "    \n",
    "    for key in tqdm(global_results.keys(), desc=\"Applying linear selection\"):\n",
    "        \n",
    "        # Parse the key to get components\n",
    "        parts = key.split('_')\n",
    "        dataset = parts[0]\n",
    "        label = parts[1].replace('label', '')\n",
    "        real_cluster = int(parts[2].replace('realC', ''))\n",
    "        synth_cluster = int(parts[3].replace('synthC', ''))\n",
    "        \n",
    "        # Get the corresponding ensemble DataFrames\n",
    "        real_ensemble = ensemble_dfs[f\"ensemble_{dataset}_real_{label}\"]\n",
    "        synth_ensemble = ensemble_dfs[f\"ensemble_{dataset}_synth_{label}\"]\n",
    "        \n",
    "        # Filter by clusters\n",
    "        real_filtered = real_ensemble[real_ensemble['cluster_real'] == real_cluster]\n",
    "        synth_filtered = synth_ensemble[synth_ensemble['cluster_synth'] == synth_cluster]\n",
    "        \n",
    "        # Split parameters (first 4 for real, rest for synthetic)\n",
    "        params = global_results[key]['best_parameters']\n",
    "        real_params = params[:4]\n",
    "        synth_params = params[4:]\n",
    "        \n",
    "        # Apply linear selection\n",
    "        #real_result = linear_selection(real_filtered, real_params)\n",
    "        #synth_result = linear_selection(synth_filtered, synth_params)\n",
    "\n",
    "        real_result = pseudo_hierarchical_selection(real_filtered, cf_measures, real_params, 5)\n",
    "        synth_result = pseudo_hierarchical_selection(synth_filtered, cf_measures, synth_params, 5)\n",
    "        \n",
    "        # Store results\n",
    "        results[key] = {\n",
    "            'real_selection': real_result,\n",
    "            'synth_selection': synth_result,\n",
    "            #'real_samples': len(real_filtered),\n",
    "            #'synth_samples': len(synth_filtered),\n",
    "            'parameters': params\n",
    "        }\n",
    "        \n",
    "    return results\n",
    "\n",
    "\n",
    "\n",
    "ensemble_dfs = {\n",
    "    \"ensemble_bank_real_0\": ensemble_df_bank_real_0,\n",
    "    \"ensemble_bank_real_1\": ensemble_df_bank_real_1,\n",
    "    \"ensemble_bank_synth_0\": ensemble_df_bank_synth_0,\n",
    "    \"ensemble_bank_synth_1\": ensemble_df_bank_synth_1,\n",
    "    \n",
    "    \"ensemble_credit_real_0\": ensemble_df_credit_real_0,\n",
    "    \"ensemble_credit_real_1\": ensemble_df_credit_real_1,\n",
    "    \"ensemble_credit_synth_0\": ensemble_df_credit_synth_0,\n",
    "    \"ensemble_credit_synth_1\": ensemble_df_credit_synth_1,\n",
    "    \n",
    "    \"ensemble_iranian_real_0\": ensemble_df_iranian_real_0,\n",
    "    \"ensemble_iranian_real_1\": ensemble_df_iranian_real_1,\n",
    "    \"ensemble_iranian_synth_0\": ensemble_df_iranian_synth_0,\n",
    "    \"ensemble_iranian_synth_1\": ensemble_df_iranian_synth_1,\n",
    "    \n",
    "    \"ensemble_telco_real_0\": ensemble_df_telco_real_0,\n",
    "    \"ensemble_telco_real_1\": ensemble_df_telco_real_1,\n",
    "    \"ensemble_telco_synth_0\": ensemble_df_telco_synth_0,\n",
    "    \"ensemble_telco_synth_1\": ensemble_df_telco_synth_1\n",
    "}\n",
    "\n",
    "\n",
    "# Apply to all combinations\n",
    "selection_results = apply_linear_selection(global_results, ensemble_dfs)"
   ]
  },
  {
   "cell_type": "code",
   "execution_count": 337,
   "metadata": {},
   "outputs": [],
   "source": [
    "datasets_v2 = {\n",
    "    # Bank\n",
    "    \"bank_label0_real\": df_bank_real_0,\n",
    "    \"bank_label1_real\": df_bank_real_1,\n",
    "    \"bank_label0_synth\": df_bank_synth_0,\n",
    "    \"bank_label1_synth\": df_bank_synth_1,\n",
    "\n",
    "    \"credit_label0_real\": df_credit_real_0,\n",
    "    \"credit_label1_real\": df_credit_real_1,\n",
    "    \"credit_label0_synth\": df_credit_synth_0,\n",
    "    \"credit_label1_synth\": df_credit_synth_1,\n",
    "\n",
    "    \"iranian_label0_real\": df_iranian_real_0,\n",
    "    \"iranian_label1_real\": df_iranian_real_1,\n",
    "    \"iranian_label0_synth\": df_iranian_synth_0,\n",
    "    \"iranian_label1_synth\": df_iranian_synth_1,\n",
    "\n",
    "    \"telco_label0_real\": df_telco_real_0,\n",
    "    \"telco_label1_real\": df_telco_real_1,\n",
    "    \"telco_label0_synth\": df_telco_synth_0,\n",
    "    \"telco_label1_synth\": df_telco_synth_1,\n",
    "}\n"
   ]
  },
  {
   "cell_type": "code",
   "execution_count": 338,
   "metadata": {},
   "outputs": [],
   "source": [
    "# Debug\n",
    "ii = 'bank_label0_realC0_synthC0'\n",
    "ens_real = selection_results[ii]['real_selection'].iloc[:,:-8]\n",
    "df_real = datasets_v2[ii[:-10]]\n",
    "df_real = df_real[df_real['cluster']==int(ii[-9:-8])].iloc[:,:-1]\n",
    "df_real = df_real.loc[ens_real.index]"
   ]
  },
  {
   "cell_type": "code",
   "execution_count": 339,
   "metadata": {},
   "outputs": [
    {
     "data": {
      "text/html": [
       "<div>\n",
       "<style scoped>\n",
       "    .dataframe tbody tr th:only-of-type {\n",
       "        vertical-align: middle;\n",
       "    }\n",
       "\n",
       "    .dataframe tbody tr th {\n",
       "        vertical-align: top;\n",
       "    }\n",
       "\n",
       "    .dataframe thead th {\n",
       "        text-align: right;\n",
       "    }\n",
       "</style>\n",
       "<table border=\"1\" class=\"dataframe\">\n",
       "  <thead>\n",
       "    <tr style=\"text-align: right;\">\n",
       "      <th></th>\n",
       "      <th>CreditScore</th>\n",
       "      <th>Gender</th>\n",
       "      <th>Age</th>\n",
       "      <th>Tenure</th>\n",
       "      <th>Balance</th>\n",
       "      <th>NumOfProducts</th>\n",
       "      <th>HasCrCard</th>\n",
       "      <th>IsActiveMember</th>\n",
       "      <th>EstimatedSalary</th>\n",
       "    </tr>\n",
       "  </thead>\n",
       "  <tbody>\n",
       "    <tr>\n",
       "      <th>6265</th>\n",
       "      <td>850</td>\n",
       "      <td>0</td>\n",
       "      <td>18</td>\n",
       "      <td>6</td>\n",
       "      <td>238387</td>\n",
       "      <td>4</td>\n",
       "      <td>1</td>\n",
       "      <td>0</td>\n",
       "      <td>1</td>\n",
       "    </tr>\n",
       "    <tr>\n",
       "      <th>3981</th>\n",
       "      <td>850</td>\n",
       "      <td>1</td>\n",
       "      <td>44</td>\n",
       "      <td>1</td>\n",
       "      <td>238387</td>\n",
       "      <td>1</td>\n",
       "      <td>0</td>\n",
       "      <td>0</td>\n",
       "      <td>1</td>\n",
       "    </tr>\n",
       "    <tr>\n",
       "      <th>7541</th>\n",
       "      <td>850</td>\n",
       "      <td>0</td>\n",
       "      <td>45</td>\n",
       "      <td>4</td>\n",
       "      <td>238387</td>\n",
       "      <td>1</td>\n",
       "      <td>1</td>\n",
       "      <td>0</td>\n",
       "      <td>1</td>\n",
       "    </tr>\n",
       "    <tr>\n",
       "      <th>3644</th>\n",
       "      <td>850</td>\n",
       "      <td>1</td>\n",
       "      <td>44</td>\n",
       "      <td>3</td>\n",
       "      <td>238387</td>\n",
       "      <td>1</td>\n",
       "      <td>1</td>\n",
       "      <td>0</td>\n",
       "      <td>1</td>\n",
       "    </tr>\n",
       "    <tr>\n",
       "      <th>7392</th>\n",
       "      <td>846</td>\n",
       "      <td>0</td>\n",
       "      <td>67</td>\n",
       "      <td>9</td>\n",
       "      <td>238387</td>\n",
       "      <td>2</td>\n",
       "      <td>1</td>\n",
       "      <td>0</td>\n",
       "      <td>1</td>\n",
       "    </tr>\n",
       "    <tr>\n",
       "      <th>...</th>\n",
       "      <td>...</td>\n",
       "      <td>...</td>\n",
       "      <td>...</td>\n",
       "      <td>...</td>\n",
       "      <td>...</td>\n",
       "      <td>...</td>\n",
       "      <td>...</td>\n",
       "      <td>...</td>\n",
       "      <td>...</td>\n",
       "    </tr>\n",
       "    <tr>\n",
       "      <th>2516</th>\n",
       "      <td>814</td>\n",
       "      <td>1</td>\n",
       "      <td>36</td>\n",
       "      <td>6</td>\n",
       "      <td>0</td>\n",
       "      <td>4</td>\n",
       "      <td>1</td>\n",
       "      <td>1</td>\n",
       "      <td>0</td>\n",
       "    </tr>\n",
       "    <tr>\n",
       "      <th>863</th>\n",
       "      <td>350</td>\n",
       "      <td>0</td>\n",
       "      <td>52</td>\n",
       "      <td>0</td>\n",
       "      <td>0</td>\n",
       "      <td>1</td>\n",
       "      <td>0</td>\n",
       "      <td>1</td>\n",
       "      <td>11</td>\n",
       "    </tr>\n",
       "    <tr>\n",
       "      <th>6720</th>\n",
       "      <td>490</td>\n",
       "      <td>0</td>\n",
       "      <td>29</td>\n",
       "      <td>6</td>\n",
       "      <td>75520</td>\n",
       "      <td>2</td>\n",
       "      <td>0</td>\n",
       "      <td>0</td>\n",
       "      <td>46753</td>\n",
       "    </tr>\n",
       "    <tr>\n",
       "      <th>6578</th>\n",
       "      <td>635</td>\n",
       "      <td>1</td>\n",
       "      <td>30</td>\n",
       "      <td>0</td>\n",
       "      <td>67962</td>\n",
       "      <td>2</td>\n",
       "      <td>1</td>\n",
       "      <td>0</td>\n",
       "      <td>135538</td>\n",
       "    </tr>\n",
       "    <tr>\n",
       "      <th>1925</th>\n",
       "      <td>635</td>\n",
       "      <td>0</td>\n",
       "      <td>30</td>\n",
       "      <td>0</td>\n",
       "      <td>68002</td>\n",
       "      <td>2</td>\n",
       "      <td>1</td>\n",
       "      <td>0</td>\n",
       "      <td>135439</td>\n",
       "    </tr>\n",
       "  </tbody>\n",
       "</table>\n",
       "<p>1700 rows × 9 columns</p>\n",
       "</div>"
      ],
      "text/plain": [
       "      CreditScore  Gender  Age  Tenure  Balance  NumOfProducts  HasCrCard  \\\n",
       "6265          850       0   18       6   238387              4          1   \n",
       "3981          850       1   44       1   238387              1          0   \n",
       "7541          850       0   45       4   238387              1          1   \n",
       "3644          850       1   44       3   238387              1          1   \n",
       "7392          846       0   67       9   238387              2          1   \n",
       "...           ...     ...  ...     ...      ...            ...        ...   \n",
       "2516          814       1   36       6        0              4          1   \n",
       "863           350       0   52       0        0              1          0   \n",
       "6720          490       0   29       6    75520              2          0   \n",
       "6578          635       1   30       0    67962              2          1   \n",
       "1925          635       0   30       0    68002              2          1   \n",
       "\n",
       "      IsActiveMember  EstimatedSalary  \n",
       "6265               0                1  \n",
       "3981               0                1  \n",
       "7541               0                1  \n",
       "3644               0                1  \n",
       "7392               0                1  \n",
       "...              ...              ...  \n",
       "2516               1                0  \n",
       "863                1               11  \n",
       "6720               0            46753  \n",
       "6578               0           135538  \n",
       "1925               0           135439  \n",
       "\n",
       "[1700 rows x 9 columns]"
      ]
     },
     "execution_count": 339,
     "metadata": {},
     "output_type": "execute_result"
    }
   ],
   "source": [
    "selection_results[ii]['real_selection'].iloc[:,:-8]"
   ]
  },
  {
   "cell_type": "code",
   "execution_count": 340,
   "metadata": {},
   "outputs": [
    {
     "data": {
      "text/html": [
       "<div>\n",
       "<style scoped>\n",
       "    .dataframe tbody tr th:only-of-type {\n",
       "        vertical-align: middle;\n",
       "    }\n",
       "\n",
       "    .dataframe tbody tr th {\n",
       "        vertical-align: top;\n",
       "    }\n",
       "\n",
       "    .dataframe thead th {\n",
       "        text-align: right;\n",
       "    }\n",
       "</style>\n",
       "<table border=\"1\" class=\"dataframe\">\n",
       "  <thead>\n",
       "    <tr style=\"text-align: right;\">\n",
       "      <th></th>\n",
       "      <th>CreditScore</th>\n",
       "      <th>Gender</th>\n",
       "      <th>Age</th>\n",
       "      <th>Tenure</th>\n",
       "      <th>Balance</th>\n",
       "      <th>NumOfProducts</th>\n",
       "      <th>HasCrCard</th>\n",
       "      <th>IsActiveMember</th>\n",
       "      <th>EstimatedSalary</th>\n",
       "      <th>Geography_encoded</th>\n",
       "    </tr>\n",
       "  </thead>\n",
       "  <tbody>\n",
       "    <tr>\n",
       "      <th>6</th>\n",
       "      <td>822</td>\n",
       "      <td>0</td>\n",
       "      <td>50</td>\n",
       "      <td>7</td>\n",
       "      <td>0</td>\n",
       "      <td>2</td>\n",
       "      <td>1</td>\n",
       "      <td>1</td>\n",
       "      <td>10062</td>\n",
       "      <td>0.5014</td>\n",
       "    </tr>\n",
       "    <tr>\n",
       "      <th>8</th>\n",
       "      <td>501</td>\n",
       "      <td>0</td>\n",
       "      <td>44</td>\n",
       "      <td>4</td>\n",
       "      <td>142051</td>\n",
       "      <td>2</td>\n",
       "      <td>0</td>\n",
       "      <td>1</td>\n",
       "      <td>74940</td>\n",
       "      <td>0.5014</td>\n",
       "    </tr>\n",
       "    <tr>\n",
       "      <th>9</th>\n",
       "      <td>684</td>\n",
       "      <td>0</td>\n",
       "      <td>27</td>\n",
       "      <td>2</td>\n",
       "      <td>134603</td>\n",
       "      <td>1</td>\n",
       "      <td>1</td>\n",
       "      <td>1</td>\n",
       "      <td>71725</td>\n",
       "      <td>0.5014</td>\n",
       "    </tr>\n",
       "    <tr>\n",
       "      <th>13</th>\n",
       "      <td>549</td>\n",
       "      <td>1</td>\n",
       "      <td>25</td>\n",
       "      <td>5</td>\n",
       "      <td>0</td>\n",
       "      <td>2</td>\n",
       "      <td>0</td>\n",
       "      <td>0</td>\n",
       "      <td>190857</td>\n",
       "      <td>0.5014</td>\n",
       "    </tr>\n",
       "    <tr>\n",
       "      <th>21</th>\n",
       "      <td>636</td>\n",
       "      <td>1</td>\n",
       "      <td>32</td>\n",
       "      <td>8</td>\n",
       "      <td>0</td>\n",
       "      <td>2</td>\n",
       "      <td>1</td>\n",
       "      <td>0</td>\n",
       "      <td>138555</td>\n",
       "      <td>0.2477</td>\n",
       "    </tr>\n",
       "    <tr>\n",
       "      <th>...</th>\n",
       "      <td>...</td>\n",
       "      <td>...</td>\n",
       "      <td>...</td>\n",
       "      <td>...</td>\n",
       "      <td>...</td>\n",
       "      <td>...</td>\n",
       "      <td>...</td>\n",
       "      <td>...</td>\n",
       "      <td>...</td>\n",
       "      <td>...</td>\n",
       "    </tr>\n",
       "    <tr>\n",
       "      <th>9961</th>\n",
       "      <td>573</td>\n",
       "      <td>0</td>\n",
       "      <td>44</td>\n",
       "      <td>9</td>\n",
       "      <td>0</td>\n",
       "      <td>2</td>\n",
       "      <td>1</td>\n",
       "      <td>0</td>\n",
       "      <td>107124</td>\n",
       "      <td>0.2477</td>\n",
       "    </tr>\n",
       "    <tr>\n",
       "      <th>9965</th>\n",
       "      <td>627</td>\n",
       "      <td>1</td>\n",
       "      <td>33</td>\n",
       "      <td>4</td>\n",
       "      <td>83199</td>\n",
       "      <td>1</td>\n",
       "      <td>0</td>\n",
       "      <td>0</td>\n",
       "      <td>159334</td>\n",
       "      <td>0.2509</td>\n",
       "    </tr>\n",
       "    <tr>\n",
       "      <th>9977</th>\n",
       "      <td>683</td>\n",
       "      <td>1</td>\n",
       "      <td>32</td>\n",
       "      <td>9</td>\n",
       "      <td>0</td>\n",
       "      <td>2</td>\n",
       "      <td>1</td>\n",
       "      <td>1</td>\n",
       "      <td>24991</td>\n",
       "      <td>0.5014</td>\n",
       "    </tr>\n",
       "    <tr>\n",
       "      <th>9979</th>\n",
       "      <td>677</td>\n",
       "      <td>1</td>\n",
       "      <td>58</td>\n",
       "      <td>1</td>\n",
       "      <td>90022</td>\n",
       "      <td>1</td>\n",
       "      <td>0</td>\n",
       "      <td>1</td>\n",
       "      <td>2988</td>\n",
       "      <td>0.5014</td>\n",
       "    </tr>\n",
       "    <tr>\n",
       "      <th>9985</th>\n",
       "      <td>659</td>\n",
       "      <td>0</td>\n",
       "      <td>36</td>\n",
       "      <td>6</td>\n",
       "      <td>123841</td>\n",
       "      <td>2</td>\n",
       "      <td>1</td>\n",
       "      <td>0</td>\n",
       "      <td>96833</td>\n",
       "      <td>0.5014</td>\n",
       "    </tr>\n",
       "  </tbody>\n",
       "</table>\n",
       "<p>1593 rows × 10 columns</p>\n",
       "</div>"
      ],
      "text/plain": [
       "      CreditScore  Gender  Age  Tenure  Balance  NumOfProducts  HasCrCard  \\\n",
       "6             822       0   50       7        0              2          1   \n",
       "8             501       0   44       4   142051              2          0   \n",
       "9             684       0   27       2   134603              1          1   \n",
       "13            549       1   25       5        0              2          0   \n",
       "21            636       1   32       8        0              2          1   \n",
       "...           ...     ...  ...     ...      ...            ...        ...   \n",
       "9961          573       0   44       9        0              2          1   \n",
       "9965          627       1   33       4    83199              1          0   \n",
       "9977          683       1   32       9        0              2          1   \n",
       "9979          677       1   58       1    90022              1          0   \n",
       "9985          659       0   36       6   123841              2          1   \n",
       "\n",
       "      IsActiveMember  EstimatedSalary  Geography_encoded  \n",
       "6                  1            10062             0.5014  \n",
       "8                  1            74940             0.5014  \n",
       "9                  1            71725             0.5014  \n",
       "13                 0           190857             0.5014  \n",
       "21                 0           138555             0.2477  \n",
       "...              ...              ...                ...  \n",
       "9961               0           107124             0.2477  \n",
       "9965               0           159334             0.2509  \n",
       "9977               1            24991             0.5014  \n",
       "9979               1             2988             0.5014  \n",
       "9985               0            96833             0.5014  \n",
       "\n",
       "[1593 rows x 10 columns]"
      ]
     },
     "execution_count": 340,
     "metadata": {},
     "output_type": "execute_result"
    }
   ],
   "source": [
    "datasets_v2[ii[:-10]].iloc[:,:-1]"
   ]
  },
  {
   "cell_type": "code",
   "execution_count": 343,
   "metadata": {},
   "outputs": [
    {
     "name": "stdout",
     "output_type": "stream",
     "text": [
      "bank_label0_realC0_synthC0\n",
      "(1700, 10)\n",
      "(1593, 10)\n",
      "bank_label0_realC0_synthC1\n",
      "(1700, 10)\n",
      "(1593, 10)\n",
      "bank_label0_realC0_synthC2\n",
      "(1700, 10)\n",
      "(1593, 10)\n",
      "bank_label0_realC0_synthC3\n",
      "(1700, 10)\n",
      "(1593, 10)\n",
      "bank_label0_realC0_synthC4\n",
      "(1700, 10)\n",
      "(1593, 10)\n",
      "bank_label0_realC1_synthC0\n",
      "(1620, 10)\n",
      "(1593, 10)\n",
      "bank_label0_realC1_synthC1\n",
      "(1620, 10)\n",
      "(1593, 10)\n",
      "bank_label0_realC1_synthC2\n",
      "(1620, 10)\n",
      "(1593, 10)\n",
      "bank_label0_realC1_synthC3\n",
      "(1620, 10)\n",
      "(1593, 10)\n",
      "bank_label0_realC1_synthC4\n",
      "(1620, 10)\n",
      "(1593, 10)\n",
      "bank_label0_realC2_synthC0\n",
      "(1700, 10)\n",
      "(1593, 10)\n",
      "bank_label0_realC2_synthC1\n",
      "(1700, 10)\n",
      "(1593, 10)\n",
      "bank_label0_realC2_synthC2\n",
      "(1700, 10)\n",
      "(1593, 10)\n",
      "bank_label0_realC2_synthC3\n",
      "(1700, 10)\n",
      "(1593, 10)\n",
      "bank_label0_realC2_synthC4\n",
      "(1700, 10)\n",
      "(1593, 10)\n",
      "bank_label0_realC3_synthC0\n",
      "(1490, 10)\n",
      "(1593, 10)\n",
      "bank_label0_realC3_synthC1\n",
      "(1490, 10)\n",
      "(1593, 10)\n",
      "bank_label0_realC3_synthC2\n",
      "(1490, 10)\n",
      "(1593, 10)\n",
      "bank_label0_realC3_synthC3\n",
      "(1490, 10)\n",
      "(1593, 10)\n",
      "bank_label0_realC3_synthC4\n",
      "(1490, 10)\n",
      "(1593, 10)\n",
      "bank_label0_realC4_synthC0\n",
      "(1455, 10)\n",
      "(1593, 10)\n",
      "bank_label0_realC4_synthC1\n",
      "(1455, 10)\n",
      "(1593, 10)\n",
      "bank_label0_realC4_synthC2\n",
      "(1455, 10)\n",
      "(1593, 10)\n",
      "bank_label0_realC4_synthC3\n",
      "(1455, 10)\n",
      "(1593, 10)\n",
      "bank_label0_realC4_synthC4\n",
      "(1455, 10)\n",
      "(1593, 10)\n",
      "bank_label1_realC0_synthC0\n",
      "(380, 10)\n",
      "(407, 10)\n",
      "bank_label1_realC0_synthC1\n",
      "(380, 10)\n",
      "(407, 10)\n",
      "bank_label1_realC0_synthC2\n",
      "(380, 10)\n",
      "(407, 10)\n",
      "bank_label1_realC0_synthC3\n",
      "(380, 10)\n",
      "(407, 10)\n",
      "bank_label1_realC0_synthC4\n",
      "(380, 10)\n",
      "(407, 10)\n",
      "bank_label1_realC1_synthC0\n",
      "(515, 10)\n",
      "(407, 10)\n",
      "bank_label1_realC1_synthC1\n",
      "(515, 10)\n",
      "(407, 10)\n",
      "bank_label1_realC1_synthC2\n",
      "(515, 10)\n",
      "(407, 10)\n",
      "bank_label1_realC1_synthC3\n",
      "(515, 10)\n",
      "(407, 10)\n",
      "bank_label1_realC1_synthC4\n",
      "(515, 10)\n",
      "(407, 10)\n",
      "bank_label1_realC2_synthC0\n",
      "(540, 10)\n",
      "(407, 10)\n",
      "bank_label1_realC2_synthC1\n",
      "(540, 10)\n",
      "(407, 10)\n",
      "bank_label1_realC2_synthC2\n",
      "(540, 10)\n",
      "(407, 10)\n",
      "bank_label1_realC2_synthC3\n",
      "(540, 10)\n",
      "(407, 10)\n",
      "bank_label1_realC2_synthC4\n",
      "(540, 10)\n",
      "(407, 10)\n",
      "bank_label1_realC3_synthC0\n",
      "(270, 10)\n",
      "(407, 10)\n",
      "bank_label1_realC3_synthC1\n",
      "(270, 10)\n",
      "(407, 10)\n",
      "bank_label1_realC3_synthC2\n",
      "(270, 10)\n",
      "(407, 10)\n",
      "bank_label1_realC3_synthC3\n",
      "(270, 10)\n",
      "(407, 10)\n",
      "bank_label1_realC3_synthC4\n",
      "(270, 10)\n",
      "(407, 10)\n",
      "bank_label1_realC4_synthC0\n",
      "(330, 10)\n",
      "(407, 10)\n",
      "bank_label1_realC4_synthC1\n",
      "(330, 10)\n",
      "(407, 10)\n",
      "bank_label1_realC4_synthC2\n",
      "(330, 10)\n",
      "(407, 10)\n",
      "bank_label1_realC4_synthC3\n",
      "(330, 10)\n",
      "(407, 10)\n",
      "bank_label1_realC4_synthC4\n",
      "(330, 10)\n",
      "(407, 10)\n",
      "credit_label0_realC0_synthC0\n",
      "(1635, 17)\n",
      "(1701, 17)\n",
      "credit_label0_realC0_synthC1\n",
      "(1635, 17)\n",
      "(1701, 17)\n",
      "credit_label0_realC0_synthC2\n",
      "(1635, 17)\n",
      "(1701, 17)\n",
      "credit_label0_realC0_synthC3\n",
      "(1635, 17)\n",
      "(1701, 17)\n",
      "credit_label0_realC0_synthC4\n",
      "(1635, 17)\n",
      "(1701, 17)\n",
      "credit_label0_realC1_synthC0\n",
      "(720, 17)\n",
      "(1701, 17)\n",
      "credit_label0_realC1_synthC1\n",
      "(720, 17)\n",
      "(1701, 17)\n",
      "credit_label0_realC1_synthC2\n",
      "(720, 17)\n",
      "(1701, 17)\n",
      "credit_label0_realC1_synthC3\n",
      "(720, 17)\n",
      "(1701, 17)\n",
      "credit_label0_realC1_synthC4\n",
      "(720, 17)\n",
      "(1701, 17)\n",
      "credit_label0_realC2_synthC0\n",
      "(845, 17)\n",
      "(1701, 17)\n",
      "credit_label0_realC2_synthC1\n",
      "(845, 17)\n",
      "(1701, 17)\n",
      "credit_label0_realC2_synthC2\n",
      "(845, 17)\n",
      "(1701, 17)\n",
      "credit_label0_realC2_synthC3\n",
      "(845, 17)\n",
      "(1701, 17)\n",
      "credit_label0_realC2_synthC4\n",
      "(845, 17)\n",
      "(1701, 17)\n",
      "credit_label0_realC3_synthC0\n",
      "(530, 17)\n",
      "(1701, 17)\n",
      "credit_label0_realC3_synthC1\n",
      "(530, 17)\n",
      "(1701, 17)\n",
      "credit_label0_realC3_synthC2\n",
      "(530, 17)\n",
      "(1701, 17)\n",
      "credit_label0_realC3_synthC3\n",
      "(530, 17)\n",
      "(1701, 17)\n",
      "credit_label0_realC3_synthC4\n",
      "(530, 17)\n",
      "(1701, 17)\n",
      "credit_label0_realC4_synthC0\n",
      "(4775, 17)\n",
      "(1701, 17)\n",
      "credit_label0_realC4_synthC1\n",
      "(4775, 17)\n",
      "(1701, 17)\n",
      "credit_label0_realC4_synthC2\n",
      "(4775, 17)\n",
      "(1701, 17)\n",
      "credit_label0_realC4_synthC3\n",
      "(4775, 17)\n",
      "(1701, 17)\n",
      "credit_label0_realC4_synthC4\n",
      "(4775, 17)\n",
      "(1701, 17)\n",
      "credit_label1_realC0_synthC0\n",
      "(270, 17)\n",
      "(325, 17)\n",
      "credit_label1_realC0_synthC1\n",
      "(270, 17)\n",
      "(325, 17)\n",
      "credit_label1_realC0_synthC2\n",
      "(270, 17)\n",
      "(325, 17)\n",
      "credit_label1_realC0_synthC3\n",
      "(270, 17)\n",
      "(325, 17)\n",
      "credit_label1_realC0_synthC4\n",
      "(270, 17)\n",
      "(325, 17)\n",
      "credit_label1_realC1_synthC0\n",
      "(145, 17)\n",
      "(325, 17)\n",
      "credit_label1_realC1_synthC1\n",
      "(145, 17)\n",
      "(325, 17)\n",
      "credit_label1_realC1_synthC2\n",
      "(145, 17)\n",
      "(325, 17)\n",
      "credit_label1_realC1_synthC3\n",
      "(145, 17)\n",
      "(325, 17)\n",
      "credit_label1_realC1_synthC4\n",
      "(145, 17)\n",
      "(325, 17)\n",
      "credit_label1_realC2_synthC0\n",
      "(950, 17)\n",
      "(325, 17)\n",
      "credit_label1_realC2_synthC1\n",
      "(950, 17)\n",
      "(325, 17)\n",
      "credit_label1_realC2_synthC2\n",
      "(950, 17)\n",
      "(325, 17)\n",
      "credit_label1_realC2_synthC3\n",
      "(950, 17)\n",
      "(325, 17)\n",
      "credit_label1_realC2_synthC4\n",
      "(950, 17)\n",
      "(325, 17)\n",
      "credit_label1_realC3_synthC0\n",
      "(165, 17)\n",
      "(325, 17)\n",
      "credit_label1_realC3_synthC1\n",
      "(165, 17)\n",
      "(325, 17)\n",
      "credit_label1_realC3_synthC2\n",
      "(165, 17)\n",
      "(325, 17)\n",
      "credit_label1_realC3_synthC3\n",
      "(165, 17)\n",
      "(325, 17)\n",
      "credit_label1_realC3_synthC4\n",
      "(165, 17)\n",
      "(325, 17)\n",
      "credit_label1_realC4_synthC0\n",
      "(95, 17)\n",
      "(325, 17)\n",
      "credit_label1_realC4_synthC1\n",
      "(95, 17)\n",
      "(325, 17)\n",
      "credit_label1_realC4_synthC2\n",
      "(95, 17)\n",
      "(325, 17)\n",
      "credit_label1_realC4_synthC3\n",
      "(95, 17)\n",
      "(325, 17)\n",
      "credit_label1_realC4_synthC4\n",
      "(95, 17)\n",
      "(325, 17)\n",
      "iranian_label0_realC0_synthC0\n",
      "(800, 13)\n",
      "(531, 13)\n",
      "iranian_label0_realC0_synthC1\n",
      "(800, 13)\n",
      "(531, 13)\n",
      "iranian_label0_realC0_synthC2\n",
      "(800, 13)\n",
      "(531, 13)\n",
      "iranian_label0_realC0_synthC3\n",
      "(800, 13)\n",
      "(531, 13)\n",
      "iranian_label0_realC0_synthC4\n",
      "(800, 13)\n",
      "(531, 13)\n",
      "iranian_label0_realC1_synthC0\n",
      "(250, 13)\n",
      "(531, 13)\n",
      "iranian_label0_realC1_synthC1\n",
      "(250, 13)\n",
      "(531, 13)\n",
      "iranian_label0_realC1_synthC2\n",
      "(250, 13)\n",
      "(531, 13)\n",
      "iranian_label0_realC1_synthC3\n",
      "(250, 13)\n",
      "(531, 13)\n",
      "iranian_label0_realC1_synthC4\n",
      "(250, 13)\n",
      "(531, 13)\n",
      "iranian_label0_realC2_synthC0\n",
      "(495, 13)\n",
      "(531, 13)\n",
      "iranian_label0_realC2_synthC1\n",
      "(495, 13)\n",
      "(531, 13)\n",
      "iranian_label0_realC2_synthC2\n",
      "(495, 13)\n",
      "(531, 13)\n",
      "iranian_label0_realC2_synthC3\n",
      "(495, 13)\n",
      "(531, 13)\n",
      "iranian_label0_realC2_synthC4\n",
      "(495, 13)\n",
      "(531, 13)\n",
      "iranian_label0_realC3_synthC0\n",
      "(275, 13)\n",
      "(531, 13)\n",
      "iranian_label0_realC3_synthC1\n",
      "(275, 13)\n",
      "(531, 13)\n",
      "iranian_label0_realC3_synthC2\n",
      "(275, 13)\n",
      "(531, 13)\n",
      "iranian_label0_realC3_synthC3\n",
      "(275, 13)\n",
      "(531, 13)\n",
      "iranian_label0_realC3_synthC4\n",
      "(275, 13)\n",
      "(531, 13)\n",
      "iranian_label0_realC4_synthC0\n",
      "(835, 13)\n",
      "(531, 13)\n",
      "iranian_label0_realC4_synthC1\n",
      "(835, 13)\n",
      "(531, 13)\n",
      "iranian_label0_realC4_synthC2\n",
      "(835, 13)\n",
      "(531, 13)\n",
      "iranian_label0_realC4_synthC3\n",
      "(835, 13)\n",
      "(531, 13)\n",
      "iranian_label0_realC4_synthC4\n",
      "(835, 13)\n",
      "(531, 13)\n",
      "iranian_label1_realC0_synthC0\n",
      "(105, 13)\n",
      "(99, 13)\n",
      "iranian_label1_realC0_synthC1\n",
      "(105, 13)\n",
      "(99, 13)\n",
      "iranian_label1_realC0_synthC2\n",
      "(105, 13)\n",
      "(99, 13)\n",
      "iranian_label1_realC0_synthC3\n",
      "(105, 13)\n",
      "(99, 13)\n",
      "iranian_label1_realC0_synthC4\n",
      "(105, 13)\n",
      "(99, 13)\n",
      "iranian_label1_realC1_synthC0\n",
      "(165, 13)\n",
      "(99, 13)\n",
      "iranian_label1_realC1_synthC1\n",
      "(165, 13)\n",
      "(99, 13)\n",
      "iranian_label1_realC1_synthC2\n",
      "(165, 13)\n",
      "(99, 13)\n",
      "iranian_label1_realC1_synthC3\n",
      "(165, 13)\n",
      "(99, 13)\n",
      "iranian_label1_realC1_synthC4\n",
      "(165, 13)\n",
      "(99, 13)\n",
      "iranian_label1_realC2_synthC0\n",
      "(55, 13)\n",
      "(99, 13)\n",
      "iranian_label1_realC2_synthC1\n",
      "(55, 13)\n",
      "(99, 13)\n",
      "iranian_label1_realC2_synthC2\n",
      "(55, 13)\n",
      "(99, 13)\n",
      "iranian_label1_realC2_synthC3\n",
      "(55, 13)\n",
      "(99, 13)\n",
      "iranian_label1_realC2_synthC4\n",
      "(55, 13)\n",
      "(99, 13)\n",
      "iranian_label1_realC3_synthC0\n",
      "(60, 13)\n",
      "(99, 13)\n",
      "iranian_label1_realC3_synthC1\n",
      "(60, 13)\n",
      "(99, 13)\n",
      "iranian_label1_realC3_synthC2\n",
      "(60, 13)\n",
      "(99, 13)\n",
      "iranian_label1_realC3_synthC3\n",
      "(60, 13)\n",
      "(99, 13)\n",
      "iranian_label1_realC3_synthC4\n",
      "(60, 13)\n",
      "(99, 13)\n",
      "iranian_label1_realC4_synthC0\n",
      "(110, 13)\n",
      "(99, 13)\n",
      "iranian_label1_realC4_synthC1\n",
      "(110, 13)\n",
      "(99, 13)\n",
      "iranian_label1_realC4_synthC2\n",
      "(110, 13)\n",
      "(99, 13)\n",
      "iranian_label1_realC4_synthC3\n",
      "(110, 13)\n",
      "(99, 13)\n",
      "iranian_label1_realC4_synthC4\n",
      "(110, 13)\n",
      "(99, 13)\n",
      "telco_label0_realC0_synthC0\n",
      "(1320, 23)\n",
      "(1035, 23)\n",
      "telco_label0_realC0_synthC1\n",
      "(1320, 23)\n",
      "(1035, 23)\n",
      "telco_label0_realC0_synthC2\n",
      "(1320, 23)\n",
      "(1035, 23)\n",
      "telco_label0_realC0_synthC3\n",
      "(1320, 23)\n",
      "(1035, 23)\n",
      "telco_label0_realC0_synthC4\n",
      "(1320, 23)\n",
      "(1035, 23)\n",
      "telco_label0_realC1_synthC0\n",
      "(845, 23)\n",
      "(1035, 23)\n",
      "telco_label0_realC1_synthC1\n",
      "(845, 23)\n",
      "(1035, 23)\n",
      "telco_label0_realC1_synthC2\n",
      "(845, 23)\n",
      "(1035, 23)\n",
      "telco_label0_realC1_synthC3\n",
      "(845, 23)\n",
      "(1035, 23)\n",
      "telco_label0_realC1_synthC4\n",
      "(845, 23)\n",
      "(1035, 23)\n",
      "telco_label0_realC2_synthC0\n",
      "(610, 23)\n",
      "(1035, 23)\n",
      "telco_label0_realC2_synthC1\n",
      "(610, 23)\n",
      "(1035, 23)\n",
      "telco_label0_realC2_synthC2\n",
      "(610, 23)\n",
      "(1035, 23)\n",
      "telco_label0_realC2_synthC3\n",
      "(610, 23)\n",
      "(1035, 23)\n",
      "telco_label0_realC2_synthC4\n",
      "(610, 23)\n",
      "(1035, 23)\n",
      "telco_label0_realC3_synthC0\n",
      "(1690, 23)\n",
      "(1035, 23)\n",
      "telco_label0_realC3_synthC1\n",
      "(1690, 23)\n",
      "(1035, 23)\n",
      "telco_label0_realC3_synthC2\n",
      "(1690, 23)\n",
      "(1035, 23)\n",
      "telco_label0_realC3_synthC3\n",
      "(1690, 23)\n",
      "(1035, 23)\n",
      "telco_label0_realC3_synthC4\n",
      "(1690, 23)\n",
      "(1035, 23)\n",
      "telco_label0_realC4_synthC0\n",
      "(710, 23)\n",
      "(1035, 23)\n",
      "telco_label0_realC4_synthC1\n",
      "(710, 23)\n",
      "(1035, 23)\n",
      "telco_label0_realC4_synthC2\n",
      "(710, 23)\n",
      "(1035, 23)\n",
      "telco_label0_realC4_synthC3\n",
      "(710, 23)\n",
      "(1035, 23)\n",
      "telco_label0_realC4_synthC4\n",
      "(710, 23)\n",
      "(1035, 23)\n",
      "telco_label1_realC0_synthC0\n",
      "(1035, 23)\n",
      "(374, 23)\n",
      "telco_label1_realC0_synthC1\n",
      "(1035, 23)\n",
      "(374, 23)\n",
      "telco_label1_realC0_synthC2\n",
      "(1035, 23)\n",
      "(374, 23)\n",
      "telco_label1_realC0_synthC3\n",
      "(1035, 23)\n",
      "(374, 23)\n",
      "telco_label1_realC0_synthC4\n",
      "(1035, 23)\n",
      "(374, 23)\n",
      "telco_label1_realC1_synthC0\n",
      "(110, 23)\n",
      "(374, 23)\n",
      "telco_label1_realC1_synthC1\n",
      "(110, 23)\n",
      "(374, 23)\n",
      "telco_label1_realC1_synthC2\n",
      "(110, 23)\n",
      "(374, 23)\n",
      "telco_label1_realC1_synthC3\n",
      "(110, 23)\n",
      "(374, 23)\n",
      "telco_label1_realC1_synthC4\n",
      "(110, 23)\n",
      "(374, 23)\n",
      "telco_label1_realC2_synthC0\n",
      "(280, 23)\n",
      "(374, 23)\n",
      "telco_label1_realC2_synthC1\n",
      "(280, 23)\n",
      "(374, 23)\n",
      "telco_label1_realC2_synthC2\n",
      "(280, 23)\n",
      "(374, 23)\n",
      "telco_label1_realC2_synthC3\n",
      "(280, 23)\n",
      "(374, 23)\n",
      "telco_label1_realC2_synthC4\n",
      "(280, 23)\n",
      "(374, 23)\n",
      "telco_label1_realC3_synthC0\n",
      "(355, 23)\n",
      "(374, 23)\n",
      "telco_label1_realC3_synthC1\n",
      "(355, 23)\n",
      "(374, 23)\n",
      "telco_label1_realC3_synthC2\n",
      "(355, 23)\n",
      "(374, 23)\n",
      "telco_label1_realC3_synthC3\n",
      "(355, 23)\n",
      "(374, 23)\n",
      "telco_label1_realC3_synthC4\n",
      "(355, 23)\n",
      "(374, 23)\n",
      "telco_label1_realC4_synthC0\n",
      "(90, 23)\n",
      "(374, 23)\n",
      "telco_label1_realC4_synthC1\n",
      "(90, 23)\n",
      "(374, 23)\n",
      "telco_label1_realC4_synthC2\n",
      "(90, 23)\n",
      "(374, 23)\n",
      "telco_label1_realC4_synthC3\n",
      "(90, 23)\n",
      "(374, 23)\n",
      "telco_label1_realC4_synthC4\n",
      "(90, 23)\n",
      "(374, 23)\n"
     ]
    }
   ],
   "source": [
    "ens_diffs = []\n",
    "\n",
    "for i in selection_results:\n",
    "    print(i)\n",
    "    ens_real = selection_results[i]['real_selection'].iloc[:,:-7]\n",
    "    ens_synth = selection_results[i]['synth_selection'].iloc[:,:-7]\n",
    "    df_real = datasets_v2[i[:-10]].iloc[:,:-1]\n",
    "\n",
    "    print(ens_real.shape)\n",
    "    print(df_real.shape)\n",
    "    \n",
    "    df_synth = datasets_v2[i[:-14] + i[-7:-2]].iloc[:,:-1]\n",
    "    real_diff = ens_real-df_real\n",
    "    synth_diff = ens_synth-df_synth\n",
    "    dist = np.mean([euclidean(row1, row2) for row1, row2 in zip(real_diff.dropna().values, synth_diff.dropna().values)])\n",
    "    ens_diffs.append((i, dist))\n",
    "    "
   ]
  },
  {
   "cell_type": "code",
   "execution_count": 345,
   "metadata": {},
   "outputs": [
    {
     "name": "stdout",
     "output_type": "stream",
     "text": [
      "bank_label0_realC0_synthC0\n",
      "(1700, 10)\n",
      "(1700, 10)\n",
      "(2315, 10)\n",
      "(2315, 10)\n",
      "bank_label0_realC0_synthC1\n",
      "(1700, 10)\n",
      "(1700, 10)\n",
      "(1090, 10)\n",
      "(1090, 10)\n",
      "bank_label0_realC0_synthC2\n",
      "(1700, 10)\n",
      "(1700, 10)\n",
      "(1210, 10)\n",
      "(1210, 10)\n",
      "bank_label0_realC0_synthC3\n",
      "(1700, 10)\n",
      "(1700, 10)\n",
      "(910, 10)\n",
      "(910, 10)\n",
      "bank_label0_realC0_synthC4\n",
      "(1700, 10)\n",
      "(1700, 10)\n",
      "(1560, 10)\n",
      "(1560, 10)\n",
      "bank_label0_realC1_synthC0\n",
      "(1620, 10)\n",
      "(1620, 10)\n",
      "(2315, 10)\n",
      "(2315, 10)\n",
      "bank_label0_realC1_synthC1\n",
      "(1620, 10)\n",
      "(1620, 10)\n",
      "(1090, 10)\n",
      "(1090, 10)\n",
      "bank_label0_realC1_synthC2\n",
      "(1620, 10)\n",
      "(1620, 10)\n",
      "(1210, 10)\n",
      "(1210, 10)\n",
      "bank_label0_realC1_synthC3\n",
      "(1620, 10)\n",
      "(1620, 10)\n",
      "(910, 10)\n",
      "(910, 10)\n",
      "bank_label0_realC1_synthC4\n",
      "(1620, 10)\n",
      "(1620, 10)\n",
      "(1560, 10)\n",
      "(1560, 10)\n",
      "bank_label0_realC2_synthC0\n",
      "(1700, 10)\n",
      "(1700, 10)\n",
      "(2315, 10)\n",
      "(2315, 10)\n",
      "bank_label0_realC2_synthC1\n",
      "(1700, 10)\n",
      "(1700, 10)\n",
      "(1090, 10)\n",
      "(1090, 10)\n",
      "bank_label0_realC2_synthC2\n",
      "(1700, 10)\n",
      "(1700, 10)\n",
      "(1210, 10)\n",
      "(1210, 10)\n",
      "bank_label0_realC2_synthC3\n",
      "(1700, 10)\n",
      "(1700, 10)\n",
      "(910, 10)\n",
      "(910, 10)\n",
      "bank_label0_realC2_synthC4\n",
      "(1700, 10)\n",
      "(1700, 10)\n",
      "(1560, 10)\n",
      "(1560, 10)\n",
      "bank_label0_realC3_synthC0\n",
      "(1490, 10)\n",
      "(1490, 10)\n",
      "(2315, 10)\n",
      "(2315, 10)\n",
      "bank_label0_realC3_synthC1\n",
      "(1490, 10)\n",
      "(1490, 10)\n",
      "(1090, 10)\n",
      "(1090, 10)\n",
      "bank_label0_realC3_synthC2\n",
      "(1490, 10)\n",
      "(1490, 10)\n",
      "(1210, 10)\n",
      "(1210, 10)\n",
      "bank_label0_realC3_synthC3\n",
      "(1490, 10)\n",
      "(1490, 10)\n",
      "(910, 10)\n",
      "(910, 10)\n",
      "bank_label0_realC3_synthC4\n",
      "(1490, 10)\n",
      "(1490, 10)\n",
      "(1560, 10)\n",
      "(1560, 10)\n",
      "bank_label0_realC4_synthC0\n",
      "(1455, 10)\n",
      "(1455, 10)\n",
      "(2315, 10)\n",
      "(2315, 10)\n",
      "bank_label0_realC4_synthC1\n",
      "(1455, 10)\n",
      "(1455, 10)\n",
      "(1090, 10)\n",
      "(1090, 10)\n",
      "bank_label0_realC4_synthC2\n",
      "(1455, 10)\n",
      "(1455, 10)\n",
      "(1210, 10)\n",
      "(1210, 10)\n",
      "bank_label0_realC4_synthC3\n",
      "(1455, 10)\n",
      "(1455, 10)\n",
      "(910, 10)\n",
      "(910, 10)\n",
      "bank_label0_realC4_synthC4\n",
      "(1455, 10)\n",
      "(1455, 10)\n",
      "(1560, 10)\n",
      "(1560, 10)\n",
      "bank_label1_realC0_synthC0\n",
      "(380, 10)\n",
      "(380, 10)\n",
      "(280, 10)\n",
      "(280, 10)\n",
      "bank_label1_realC0_synthC1\n",
      "(380, 10)\n",
      "(380, 10)\n",
      "(550, 10)\n",
      "(550, 10)\n",
      "bank_label1_realC0_synthC2\n",
      "(380, 10)\n",
      "(380, 10)\n",
      "(475, 10)\n",
      "(475, 10)\n",
      "bank_label1_realC0_synthC3\n",
      "(380, 10)\n",
      "(380, 10)\n",
      "(1070, 10)\n",
      "(1070, 10)\n",
      "bank_label1_realC0_synthC4\n",
      "(380, 10)\n",
      "(380, 10)\n",
      "(540, 10)\n",
      "(540, 10)\n",
      "bank_label1_realC1_synthC0\n",
      "(515, 10)\n",
      "(515, 10)\n",
      "(280, 10)\n",
      "(280, 10)\n",
      "bank_label1_realC1_synthC1\n",
      "(515, 10)\n",
      "(515, 10)\n",
      "(550, 10)\n",
      "(550, 10)\n",
      "bank_label1_realC1_synthC2\n",
      "(515, 10)\n",
      "(515, 10)\n",
      "(475, 10)\n",
      "(475, 10)\n",
      "bank_label1_realC1_synthC3\n",
      "(515, 10)\n",
      "(515, 10)\n",
      "(1070, 10)\n",
      "(1070, 10)\n",
      "bank_label1_realC1_synthC4\n",
      "(515, 10)\n",
      "(515, 10)\n",
      "(540, 10)\n",
      "(540, 10)\n",
      "bank_label1_realC2_synthC0\n",
      "(540, 10)\n",
      "(540, 10)\n",
      "(280, 10)\n",
      "(280, 10)\n",
      "bank_label1_realC2_synthC1\n",
      "(540, 10)\n",
      "(540, 10)\n",
      "(550, 10)\n",
      "(550, 10)\n",
      "bank_label1_realC2_synthC2\n",
      "(540, 10)\n",
      "(540, 10)\n",
      "(475, 10)\n",
      "(475, 10)\n",
      "bank_label1_realC2_synthC3\n",
      "(540, 10)\n",
      "(540, 10)\n",
      "(1070, 10)\n",
      "(1070, 10)\n",
      "bank_label1_realC2_synthC4\n",
      "(540, 10)\n",
      "(540, 10)\n",
      "(540, 10)\n",
      "(540, 10)\n",
      "bank_label1_realC3_synthC0\n",
      "(270, 10)\n",
      "(270, 10)\n",
      "(280, 10)\n",
      "(280, 10)\n",
      "bank_label1_realC3_synthC1\n",
      "(270, 10)\n",
      "(270, 10)\n",
      "(550, 10)\n",
      "(550, 10)\n",
      "bank_label1_realC3_synthC2\n",
      "(270, 10)\n",
      "(270, 10)\n",
      "(475, 10)\n",
      "(475, 10)\n",
      "bank_label1_realC3_synthC3\n",
      "(270, 10)\n",
      "(270, 10)\n",
      "(1070, 10)\n",
      "(1070, 10)\n",
      "bank_label1_realC3_synthC4\n",
      "(270, 10)\n",
      "(270, 10)\n",
      "(540, 10)\n",
      "(540, 10)\n",
      "bank_label1_realC4_synthC0\n",
      "(330, 10)\n",
      "(330, 10)\n",
      "(280, 10)\n",
      "(280, 10)\n",
      "bank_label1_realC4_synthC1\n",
      "(330, 10)\n",
      "(330, 10)\n",
      "(550, 10)\n",
      "(550, 10)\n",
      "bank_label1_realC4_synthC2\n",
      "(330, 10)\n",
      "(330, 10)\n",
      "(475, 10)\n",
      "(475, 10)\n",
      "bank_label1_realC4_synthC3\n",
      "(330, 10)\n",
      "(330, 10)\n",
      "(1070, 10)\n",
      "(1070, 10)\n",
      "bank_label1_realC4_synthC4\n",
      "(330, 10)\n",
      "(330, 10)\n",
      "(540, 10)\n",
      "(540, 10)\n",
      "credit_label0_realC0_synthC0\n",
      "(1635, 17)\n",
      "(1635, 17)\n",
      "(3980, 17)\n",
      "(3980, 17)\n",
      "credit_label0_realC0_synthC1\n",
      "(1635, 17)\n",
      "(1635, 17)\n",
      "(555, 17)\n",
      "(555, 17)\n",
      "credit_label0_realC0_synthC2\n",
      "(1635, 17)\n",
      "(1635, 17)\n",
      "(870, 17)\n",
      "(870, 17)\n",
      "credit_label0_realC0_synthC3\n",
      "(1635, 17)\n",
      "(1635, 17)\n",
      "(215, 17)\n",
      "(215, 17)\n",
      "credit_label0_realC0_synthC4\n",
      "(1635, 17)\n",
      "(1635, 17)\n",
      "(1250, 17)\n",
      "(1250, 17)\n",
      "credit_label0_realC1_synthC0\n",
      "(720, 17)\n",
      "(720, 17)\n",
      "(3980, 17)\n",
      "(3980, 17)\n",
      "credit_label0_realC1_synthC1\n",
      "(720, 17)\n",
      "(720, 17)\n",
      "(555, 17)\n",
      "(555, 17)\n",
      "credit_label0_realC1_synthC2\n",
      "(720, 17)\n",
      "(720, 17)\n",
      "(870, 17)\n",
      "(870, 17)\n",
      "credit_label0_realC1_synthC3\n",
      "(720, 17)\n",
      "(720, 17)\n",
      "(215, 17)\n",
      "(215, 17)\n",
      "credit_label0_realC1_synthC4\n",
      "(720, 17)\n",
      "(720, 17)\n",
      "(1250, 17)\n",
      "(1250, 17)\n",
      "credit_label0_realC2_synthC0\n",
      "(845, 17)\n",
      "(845, 17)\n",
      "(3980, 17)\n",
      "(3980, 17)\n",
      "credit_label0_realC2_synthC1\n",
      "(845, 17)\n",
      "(845, 17)\n",
      "(555, 17)\n",
      "(555, 17)\n",
      "credit_label0_realC2_synthC2\n",
      "(845, 17)\n",
      "(845, 17)\n",
      "(870, 17)\n",
      "(870, 17)\n",
      "credit_label0_realC2_synthC3\n",
      "(845, 17)\n",
      "(845, 17)\n",
      "(215, 17)\n",
      "(215, 17)\n",
      "credit_label0_realC2_synthC4\n",
      "(845, 17)\n",
      "(845, 17)\n",
      "(1250, 17)\n",
      "(1250, 17)\n",
      "credit_label0_realC3_synthC0\n",
      "(530, 17)\n",
      "(530, 17)\n",
      "(3980, 17)\n",
      "(3980, 17)\n",
      "credit_label0_realC3_synthC1\n",
      "(530, 17)\n",
      "(530, 17)\n",
      "(555, 17)\n",
      "(555, 17)\n",
      "credit_label0_realC3_synthC2\n",
      "(530, 17)\n",
      "(530, 17)\n",
      "(870, 17)\n",
      "(870, 17)\n",
      "credit_label0_realC3_synthC3\n",
      "(530, 17)\n",
      "(530, 17)\n",
      "(215, 17)\n",
      "(215, 17)\n",
      "credit_label0_realC3_synthC4\n",
      "(530, 17)\n",
      "(530, 17)\n",
      "(1250, 17)\n",
      "(1250, 17)\n",
      "credit_label0_realC4_synthC0\n",
      "(4775, 17)\n",
      "(4775, 17)\n",
      "(3980, 17)\n",
      "(3980, 17)\n",
      "credit_label0_realC4_synthC1\n",
      "(4775, 17)\n",
      "(4775, 17)\n",
      "(555, 17)\n",
      "(555, 17)\n",
      "credit_label0_realC4_synthC2\n",
      "(4775, 17)\n",
      "(4775, 17)\n",
      "(870, 17)\n",
      "(870, 17)\n",
      "credit_label0_realC4_synthC3\n",
      "(4775, 17)\n",
      "(4775, 17)\n",
      "(215, 17)\n",
      "(215, 17)\n",
      "credit_label0_realC4_synthC4\n",
      "(4775, 17)\n",
      "(4775, 17)\n",
      "(1250, 17)\n",
      "(1250, 17)\n",
      "credit_label1_realC0_synthC0\n",
      "(270, 17)\n",
      "(270, 17)\n",
      "(1305, 17)\n",
      "(1305, 17)\n",
      "credit_label1_realC0_synthC1\n",
      "(270, 17)\n",
      "(270, 17)\n",
      "(315, 17)\n",
      "(315, 17)\n",
      "credit_label1_realC0_synthC2\n",
      "(270, 17)\n",
      "(270, 17)\n",
      "(425, 17)\n",
      "(425, 17)\n",
      "credit_label1_realC0_synthC3\n",
      "(270, 17)\n",
      "(270, 17)\n",
      "(585, 17)\n",
      "(585, 17)\n",
      "credit_label1_realC0_synthC4\n",
      "(270, 17)\n",
      "(270, 17)\n",
      "(630, 17)\n",
      "(630, 17)\n",
      "credit_label1_realC1_synthC0\n",
      "(145, 17)\n",
      "(145, 17)\n",
      "(1305, 17)\n",
      "(1305, 17)\n",
      "credit_label1_realC1_synthC1\n",
      "(145, 17)\n",
      "(145, 17)\n",
      "(315, 17)\n",
      "(315, 17)\n",
      "credit_label1_realC1_synthC2\n",
      "(145, 17)\n",
      "(145, 17)\n",
      "(425, 17)\n",
      "(425, 17)\n",
      "credit_label1_realC1_synthC3\n",
      "(145, 17)\n",
      "(145, 17)\n",
      "(585, 17)\n",
      "(585, 17)\n",
      "credit_label1_realC1_synthC4\n",
      "(145, 17)\n",
      "(145, 17)\n",
      "(630, 17)\n",
      "(630, 17)\n",
      "credit_label1_realC2_synthC0\n",
      "(950, 17)\n",
      "(950, 17)\n",
      "(1305, 17)\n",
      "(1305, 17)\n",
      "credit_label1_realC2_synthC1\n",
      "(950, 17)\n",
      "(950, 17)\n",
      "(315, 17)\n",
      "(315, 17)\n",
      "credit_label1_realC2_synthC2\n",
      "(950, 17)\n",
      "(950, 17)\n",
      "(425, 17)\n",
      "(425, 17)\n",
      "credit_label1_realC2_synthC3\n",
      "(950, 17)\n",
      "(950, 17)\n",
      "(585, 17)\n",
      "(585, 17)\n",
      "credit_label1_realC2_synthC4\n",
      "(950, 17)\n",
      "(950, 17)\n",
      "(630, 17)\n",
      "(630, 17)\n",
      "credit_label1_realC3_synthC0\n",
      "(165, 17)\n",
      "(165, 17)\n",
      "(1305, 17)\n",
      "(1305, 17)\n",
      "credit_label1_realC3_synthC1\n",
      "(165, 17)\n",
      "(165, 17)\n",
      "(315, 17)\n",
      "(315, 17)\n",
      "credit_label1_realC3_synthC2\n",
      "(165, 17)\n",
      "(165, 17)\n",
      "(425, 17)\n",
      "(425, 17)\n",
      "credit_label1_realC3_synthC3\n",
      "(165, 17)\n",
      "(165, 17)\n",
      "(585, 17)\n",
      "(585, 17)\n",
      "credit_label1_realC3_synthC4\n",
      "(165, 17)\n",
      "(165, 17)\n",
      "(630, 17)\n",
      "(630, 17)\n",
      "credit_label1_realC4_synthC0\n",
      "(95, 17)\n",
      "(95, 17)\n",
      "(1305, 17)\n",
      "(1305, 17)\n",
      "credit_label1_realC4_synthC1\n",
      "(95, 17)\n",
      "(95, 17)\n",
      "(315, 17)\n",
      "(315, 17)\n",
      "credit_label1_realC4_synthC2\n",
      "(95, 17)\n",
      "(95, 17)\n",
      "(425, 17)\n",
      "(425, 17)\n",
      "credit_label1_realC4_synthC3\n",
      "(95, 17)\n",
      "(95, 17)\n",
      "(585, 17)\n",
      "(585, 17)\n",
      "credit_label1_realC4_synthC4\n",
      "(95, 17)\n",
      "(95, 17)\n",
      "(630, 17)\n",
      "(630, 17)\n",
      "iranian_label0_realC0_synthC0\n",
      "(800, 13)\n",
      "(800, 13)\n",
      "(855, 13)\n",
      "(855, 13)\n",
      "iranian_label0_realC0_synthC1\n",
      "(800, 13)\n",
      "(800, 13)\n",
      "(230, 13)\n",
      "(230, 13)\n",
      "iranian_label0_realC0_synthC2\n",
      "(800, 13)\n",
      "(800, 13)\n",
      "(275, 13)\n",
      "(275, 13)\n",
      "iranian_label0_realC0_synthC3\n",
      "(800, 13)\n",
      "(800, 13)\n",
      "(590, 13)\n",
      "(590, 13)\n",
      "iranian_label0_realC0_synthC4\n",
      "(800, 13)\n",
      "(800, 13)\n",
      "(455, 13)\n",
      "(455, 13)\n",
      "iranian_label0_realC1_synthC0\n",
      "(250, 13)\n",
      "(250, 13)\n",
      "(855, 13)\n",
      "(855, 13)\n",
      "iranian_label0_realC1_synthC1\n",
      "(250, 13)\n",
      "(250, 13)\n",
      "(230, 13)\n",
      "(230, 13)\n",
      "iranian_label0_realC1_synthC2\n",
      "(250, 13)\n",
      "(250, 13)\n",
      "(275, 13)\n",
      "(275, 13)\n",
      "iranian_label0_realC1_synthC3\n",
      "(250, 13)\n",
      "(250, 13)\n",
      "(590, 13)\n",
      "(590, 13)\n",
      "iranian_label0_realC1_synthC4\n",
      "(250, 13)\n",
      "(250, 13)\n",
      "(455, 13)\n",
      "(455, 13)\n",
      "iranian_label0_realC2_synthC0\n",
      "(495, 13)\n",
      "(495, 13)\n",
      "(855, 13)\n",
      "(855, 13)\n",
      "iranian_label0_realC2_synthC1\n",
      "(495, 13)\n",
      "(495, 13)\n",
      "(230, 13)\n",
      "(230, 13)\n",
      "iranian_label0_realC2_synthC2\n",
      "(495, 13)\n",
      "(495, 13)\n",
      "(275, 13)\n",
      "(275, 13)\n",
      "iranian_label0_realC2_synthC3\n",
      "(495, 13)\n",
      "(495, 13)\n",
      "(590, 13)\n",
      "(590, 13)\n",
      "iranian_label0_realC2_synthC4\n",
      "(495, 13)\n",
      "(495, 13)\n",
      "(455, 13)\n",
      "(455, 13)\n",
      "iranian_label0_realC3_synthC0\n",
      "(275, 13)\n",
      "(275, 13)\n",
      "(855, 13)\n",
      "(855, 13)\n",
      "iranian_label0_realC3_synthC1\n",
      "(275, 13)\n",
      "(275, 13)\n",
      "(230, 13)\n",
      "(230, 13)\n",
      "iranian_label0_realC3_synthC2\n",
      "(275, 13)\n",
      "(275, 13)\n",
      "(275, 13)\n",
      "(275, 13)\n",
      "iranian_label0_realC3_synthC3\n",
      "(275, 13)\n",
      "(275, 13)\n",
      "(590, 13)\n",
      "(590, 13)\n",
      "iranian_label0_realC3_synthC4\n",
      "(275, 13)\n",
      "(275, 13)\n",
      "(455, 13)\n",
      "(455, 13)\n",
      "iranian_label0_realC4_synthC0\n",
      "(835, 13)\n",
      "(835, 13)\n",
      "(855, 13)\n",
      "(855, 13)\n",
      "iranian_label0_realC4_synthC1\n",
      "(835, 13)\n",
      "(835, 13)\n",
      "(230, 13)\n",
      "(230, 13)\n",
      "iranian_label0_realC4_synthC2\n",
      "(835, 13)\n",
      "(835, 13)\n",
      "(275, 13)\n",
      "(275, 13)\n",
      "iranian_label0_realC4_synthC3\n",
      "(835, 13)\n",
      "(835, 13)\n",
      "(590, 13)\n",
      "(590, 13)\n",
      "iranian_label0_realC4_synthC4\n",
      "(835, 13)\n",
      "(835, 13)\n",
      "(455, 13)\n",
      "(455, 13)\n",
      "iranian_label1_realC0_synthC0\n",
      "(105, 13)\n",
      "(105, 13)\n",
      "(210, 13)\n",
      "(210, 13)\n",
      "iranian_label1_realC0_synthC1\n",
      "(105, 13)\n",
      "(105, 13)\n",
      "(10, 13)\n",
      "(10, 13)\n",
      "iranian_label1_realC0_synthC2\n",
      "(105, 13)\n",
      "(105, 13)\n",
      "(430, 13)\n",
      "(430, 13)\n",
      "iranian_label1_realC0_synthC3\n",
      "(105, 13)\n",
      "(105, 13)\n",
      "(75, 13)\n",
      "(75, 13)\n",
      "iranian_label1_realC0_synthC4\n",
      "(105, 13)\n",
      "(105, 13)\n",
      "(20, 13)\n",
      "(20, 13)\n",
      "iranian_label1_realC1_synthC0\n",
      "(165, 13)\n",
      "(165, 13)\n",
      "(210, 13)\n",
      "(210, 13)\n",
      "iranian_label1_realC1_synthC1\n",
      "(165, 13)\n",
      "(165, 13)\n",
      "(10, 13)\n",
      "(10, 13)\n",
      "iranian_label1_realC1_synthC2\n",
      "(165, 13)\n",
      "(165, 13)\n",
      "(430, 13)\n",
      "(430, 13)\n",
      "iranian_label1_realC1_synthC3\n",
      "(165, 13)\n",
      "(165, 13)\n",
      "(75, 13)\n",
      "(75, 13)\n",
      "iranian_label1_realC1_synthC4\n",
      "(165, 13)\n",
      "(165, 13)\n",
      "(20, 13)\n",
      "(20, 13)\n",
      "iranian_label1_realC2_synthC0\n",
      "(55, 13)\n",
      "(55, 13)\n",
      "(210, 13)\n",
      "(210, 13)\n",
      "iranian_label1_realC2_synthC1\n",
      "(55, 13)\n",
      "(55, 13)\n",
      "(10, 13)\n",
      "(10, 13)\n",
      "iranian_label1_realC2_synthC2\n",
      "(55, 13)\n",
      "(55, 13)\n",
      "(430, 13)\n",
      "(430, 13)\n",
      "iranian_label1_realC2_synthC3\n",
      "(55, 13)\n",
      "(55, 13)\n",
      "(75, 13)\n",
      "(75, 13)\n",
      "iranian_label1_realC2_synthC4\n",
      "(55, 13)\n",
      "(55, 13)\n",
      "(20, 13)\n",
      "(20, 13)\n",
      "iranian_label1_realC3_synthC0\n",
      "(60, 13)\n",
      "(60, 13)\n",
      "(210, 13)\n",
      "(210, 13)\n",
      "iranian_label1_realC3_synthC1\n",
      "(60, 13)\n",
      "(60, 13)\n",
      "(10, 13)\n",
      "(10, 13)\n",
      "iranian_label1_realC3_synthC2\n",
      "(60, 13)\n",
      "(60, 13)\n",
      "(430, 13)\n",
      "(430, 13)\n",
      "iranian_label1_realC3_synthC3\n",
      "(60, 13)\n",
      "(60, 13)\n",
      "(75, 13)\n",
      "(75, 13)\n",
      "iranian_label1_realC3_synthC4\n",
      "(60, 13)\n",
      "(60, 13)\n",
      "(20, 13)\n",
      "(20, 13)\n",
      "iranian_label1_realC4_synthC0\n",
      "(110, 13)\n",
      "(110, 13)\n",
      "(210, 13)\n",
      "(210, 13)\n",
      "iranian_label1_realC4_synthC1\n",
      "(110, 13)\n",
      "(110, 13)\n",
      "(10, 13)\n",
      "(10, 13)\n",
      "iranian_label1_realC4_synthC2\n",
      "(110, 13)\n",
      "(110, 13)\n",
      "(430, 13)\n",
      "(430, 13)\n",
      "iranian_label1_realC4_synthC3\n",
      "(110, 13)\n",
      "(110, 13)\n",
      "(75, 13)\n",
      "(75, 13)\n",
      "iranian_label1_realC4_synthC4\n",
      "(110, 13)\n",
      "(110, 13)\n",
      "(20, 13)\n",
      "(20, 13)\n",
      "telco_label0_realC0_synthC0\n",
      "(1320, 23)\n",
      "(1320, 23)\n",
      "(560, 23)\n",
      "(560, 23)\n",
      "telco_label0_realC0_synthC1\n",
      "(1320, 23)\n",
      "(1320, 23)\n",
      "(1315, 23)\n",
      "(1315, 23)\n",
      "telco_label0_realC0_synthC2\n",
      "(1320, 23)\n",
      "(1320, 23)\n",
      "(920, 23)\n",
      "(920, 23)\n",
      "telco_label0_realC0_synthC3\n",
      "(1320, 23)\n",
      "(1320, 23)\n",
      "(1635, 23)\n",
      "(1635, 23)\n",
      "telco_label0_realC0_synthC4\n",
      "(1320, 23)\n",
      "(1320, 23)\n",
      "(710, 23)\n",
      "(710, 23)\n",
      "telco_label0_realC1_synthC0\n",
      "(845, 23)\n",
      "(845, 23)\n",
      "(560, 23)\n",
      "(560, 23)\n",
      "telco_label0_realC1_synthC1\n",
      "(845, 23)\n",
      "(845, 23)\n",
      "(1315, 23)\n",
      "(1315, 23)\n",
      "telco_label0_realC1_synthC2\n",
      "(845, 23)\n",
      "(845, 23)\n",
      "(920, 23)\n",
      "(920, 23)\n",
      "telco_label0_realC1_synthC3\n",
      "(845, 23)\n",
      "(845, 23)\n",
      "(1635, 23)\n",
      "(1635, 23)\n",
      "telco_label0_realC1_synthC4\n",
      "(845, 23)\n",
      "(845, 23)\n",
      "(710, 23)\n",
      "(710, 23)\n",
      "telco_label0_realC2_synthC0\n",
      "(610, 23)\n",
      "(610, 23)\n",
      "(560, 23)\n",
      "(560, 23)\n",
      "telco_label0_realC2_synthC1\n",
      "(610, 23)\n",
      "(610, 23)\n",
      "(1315, 23)\n",
      "(1315, 23)\n",
      "telco_label0_realC2_synthC2\n",
      "(610, 23)\n",
      "(610, 23)\n",
      "(920, 23)\n",
      "(920, 23)\n",
      "telco_label0_realC2_synthC3\n",
      "(610, 23)\n",
      "(610, 23)\n",
      "(1635, 23)\n",
      "(1635, 23)\n",
      "telco_label0_realC2_synthC4\n",
      "(610, 23)\n",
      "(610, 23)\n",
      "(710, 23)\n",
      "(710, 23)\n",
      "telco_label0_realC3_synthC0\n",
      "(1690, 23)\n",
      "(1690, 23)\n",
      "(560, 23)\n",
      "(560, 23)\n",
      "telco_label0_realC3_synthC1\n",
      "(1690, 23)\n",
      "(1690, 23)\n",
      "(1315, 23)\n",
      "(1315, 23)\n",
      "telco_label0_realC3_synthC2\n",
      "(1690, 23)\n",
      "(1690, 23)\n",
      "(920, 23)\n",
      "(920, 23)\n",
      "telco_label0_realC3_synthC3\n",
      "(1690, 23)\n",
      "(1690, 23)\n",
      "(1635, 23)\n",
      "(1635, 23)\n",
      "telco_label0_realC3_synthC4\n",
      "(1690, 23)\n",
      "(1690, 23)\n",
      "(710, 23)\n",
      "(710, 23)\n",
      "telco_label0_realC4_synthC0\n",
      "(710, 23)\n",
      "(710, 23)\n",
      "(560, 23)\n",
      "(560, 23)\n",
      "telco_label0_realC4_synthC1\n",
      "(710, 23)\n",
      "(710, 23)\n",
      "(1315, 23)\n",
      "(1315, 23)\n",
      "telco_label0_realC4_synthC2\n",
      "(710, 23)\n",
      "(710, 23)\n",
      "(920, 23)\n",
      "(920, 23)\n",
      "telco_label0_realC4_synthC3\n",
      "(710, 23)\n",
      "(710, 23)\n",
      "(1635, 23)\n",
      "(1635, 23)\n",
      "telco_label0_realC4_synthC4\n",
      "(710, 23)\n",
      "(710, 23)\n",
      "(710, 23)\n",
      "(710, 23)\n",
      "telco_label1_realC0_synthC0\n",
      "(1035, 23)\n",
      "(1035, 23)\n",
      "(845, 23)\n",
      "(845, 23)\n",
      "telco_label1_realC0_synthC1\n",
      "(1035, 23)\n",
      "(1035, 23)\n",
      "(245, 23)\n",
      "(245, 23)\n",
      "telco_label1_realC0_synthC2\n",
      "(1035, 23)\n",
      "(1035, 23)\n",
      "(270, 23)\n",
      "(270, 23)\n",
      "telco_label1_realC0_synthC3\n",
      "(1035, 23)\n",
      "(1035, 23)\n",
      "(130, 23)\n",
      "(130, 23)\n",
      "telco_label1_realC0_synthC4\n",
      "(1035, 23)\n",
      "(1035, 23)\n",
      "(415, 23)\n",
      "(415, 23)\n",
      "telco_label1_realC1_synthC0\n",
      "(110, 23)\n",
      "(110, 23)\n",
      "(845, 23)\n",
      "(845, 23)\n",
      "telco_label1_realC1_synthC1\n",
      "(110, 23)\n",
      "(110, 23)\n",
      "(245, 23)\n",
      "(245, 23)\n",
      "telco_label1_realC1_synthC2\n",
      "(110, 23)\n",
      "(110, 23)\n",
      "(270, 23)\n",
      "(270, 23)\n",
      "telco_label1_realC1_synthC3\n",
      "(110, 23)\n",
      "(110, 23)\n",
      "(130, 23)\n",
      "(130, 23)\n",
      "telco_label1_realC1_synthC4\n",
      "(110, 23)\n",
      "(110, 23)\n",
      "(415, 23)\n",
      "(415, 23)\n",
      "telco_label1_realC2_synthC0\n",
      "(280, 23)\n",
      "(280, 23)\n",
      "(845, 23)\n",
      "(845, 23)\n",
      "telco_label1_realC2_synthC1\n",
      "(280, 23)\n",
      "(280, 23)\n",
      "(245, 23)\n",
      "(245, 23)\n",
      "telco_label1_realC2_synthC2\n",
      "(280, 23)\n",
      "(280, 23)\n",
      "(270, 23)\n",
      "(270, 23)\n",
      "telco_label1_realC2_synthC3\n",
      "(280, 23)\n",
      "(280, 23)\n",
      "(130, 23)\n",
      "(130, 23)\n",
      "telco_label1_realC2_synthC4\n",
      "(280, 23)\n",
      "(280, 23)\n",
      "(415, 23)\n",
      "(415, 23)\n",
      "telco_label1_realC3_synthC0\n",
      "(355, 23)\n",
      "(355, 23)\n",
      "(845, 23)\n",
      "(845, 23)\n",
      "telco_label1_realC3_synthC1\n",
      "(355, 23)\n",
      "(355, 23)\n",
      "(245, 23)\n",
      "(245, 23)\n",
      "telco_label1_realC3_synthC2\n",
      "(355, 23)\n",
      "(355, 23)\n",
      "(270, 23)\n",
      "(270, 23)\n",
      "telco_label1_realC3_synthC3\n",
      "(355, 23)\n",
      "(355, 23)\n",
      "(130, 23)\n",
      "(130, 23)\n",
      "telco_label1_realC3_synthC4\n",
      "(355, 23)\n",
      "(355, 23)\n",
      "(415, 23)\n",
      "(415, 23)\n",
      "telco_label1_realC4_synthC0\n",
      "(90, 23)\n",
      "(90, 23)\n",
      "(845, 23)\n",
      "(845, 23)\n",
      "telco_label1_realC4_synthC1\n",
      "(90, 23)\n",
      "(90, 23)\n",
      "(245, 23)\n",
      "(245, 23)\n",
      "telco_label1_realC4_synthC2\n",
      "(90, 23)\n",
      "(90, 23)\n",
      "(270, 23)\n",
      "(270, 23)\n",
      "telco_label1_realC4_synthC3\n",
      "(90, 23)\n",
      "(90, 23)\n",
      "(130, 23)\n",
      "(130, 23)\n",
      "telco_label1_realC4_synthC4\n",
      "(90, 23)\n",
      "(90, 23)\n",
      "(415, 23)\n",
      "(415, 23)\n"
     ]
    }
   ],
   "source": [
    "#V2 same! cos dropping NAs after difference it's like filtering for a cluster\n",
    "ens_diffs = []\n",
    "\n",
    "for i in selection_results:\n",
    "    print(i)\n",
    "    ens_real = selection_results[i]['real_selection'].iloc[:,:-7]\n",
    "    ens_synth = selection_results[i]['synth_selection'].iloc[:,:-7]\n",
    "    df_real = datasets_v2[i[:-10]]\n",
    "    df_real = df_real[df_real['cluster']==int(i[-9:-8])].iloc[:,:-1]\n",
    "    df_real = df_real.loc[ens_real.index]\n",
    "\n",
    "    print(ens_real.shape)\n",
    "    print(df_real.shape)\n",
    "\n",
    "    df_synth = datasets_v2[i[:-14] + i[-7:-2]]\n",
    "    df_synth = df_synth[df_synth['cluster']==int(i[-1:])].iloc[:,:-1]\n",
    "    df_synth = df_synth.loc[ens_synth.index] # align df to repeated index\n",
    "\n",
    "    print(ens_synth.shape)\n",
    "    print(df_synth.shape)\n",
    "\n",
    "    real_diff = ens_real-df_real\n",
    "    synth_diff = ens_synth-df_synth\n",
    "    \n",
    "    dist = np.mean([euclidean(row1, row2) for row1, row2 in zip(real_diff.values, synth_diff.values)])\n",
    "    ens_diffs.append((i, dist))\n",
    "    "
   ]
  },
  {
   "cell_type": "code",
   "execution_count": 346,
   "metadata": {},
   "outputs": [
    {
     "data": {
      "text/plain": [
       "[('bank_label0_realC0_synthC0', 128500.28849275845),\n",
       " ('bank_label0_realC0_synthC1', 115846.5900729885),\n",
       " ('bank_label0_realC0_synthC2', 129820.92806473652),\n",
       " ('bank_label0_realC0_synthC3', 157315.6903345984),\n",
       " ('bank_label0_realC0_synthC4', 185336.48238012064),\n",
       " ('bank_label0_realC1_synthC0', 76505.15163061499),\n",
       " ('bank_label0_realC1_synthC1', 83150.24599517554),\n",
       " ('bank_label0_realC1_synthC2', 110949.4148862134),\n",
       " ('bank_label0_realC1_synthC3', 127273.03427369006),\n",
       " ('bank_label0_realC1_synthC4', 92144.8110332947)]"
      ]
     },
     "execution_count": 346,
     "metadata": {},
     "output_type": "execute_result"
    }
   ],
   "source": [
    "ens_diffs[:10]"
   ]
  },
  {
   "cell_type": "code",
   "execution_count": 347,
   "metadata": {},
   "outputs": [
    {
     "data": {
      "text/plain": [
       "array([[105779.45059119, 132751.17803706,   1789.51550533,\n",
       "        114797.91749935, 163797.03356463],\n",
       "       [120967.64771303,  44560.8992617 , 162755.78128879,\n",
       "        122735.2465918 ,   7813.45780282],\n",
       "       [175908.63293265,  88643.32400048, 123327.27366157,\n",
       "         12026.61791263, 138406.86097829],\n",
       "       [  7068.86238847, 118081.24775118,  97122.98612493,\n",
       "        158116.4278349 , 115284.64104288],\n",
       "       [135823.28043465,  23745.79960772, 127715.29113669,\n",
       "         55651.78654535,  73115.92128176]])"
      ]
     },
     "execution_count": 347,
     "metadata": {},
     "output_type": "execute_result"
    }
   ],
   "source": [
    "distances['df_bank_real_0 vs df_bank_synth_0']"
   ]
  },
  {
   "cell_type": "code",
   "execution_count": 348,
   "metadata": {},
   "outputs": [
    {
     "data": {
      "text/html": [
       "<div>\n",
       "<style scoped>\n",
       "    .dataframe tbody tr th:only-of-type {\n",
       "        vertical-align: middle;\n",
       "    }\n",
       "\n",
       "    .dataframe tbody tr th {\n",
       "        vertical-align: top;\n",
       "    }\n",
       "\n",
       "    .dataframe thead th {\n",
       "        text-align: right;\n",
       "    }\n",
       "</style>\n",
       "<table border=\"1\" class=\"dataframe\">\n",
       "  <thead>\n",
       "    <tr style=\"text-align: right;\">\n",
       "      <th></th>\n",
       "      <th>comparison</th>\n",
       "      <th>dataset</th>\n",
       "      <th>label</th>\n",
       "      <th>real_cluster</th>\n",
       "      <th>synth_cluster</th>\n",
       "      <th>clusters_distances</th>\n",
       "      <th>ensembles_distances</th>\n",
       "    </tr>\n",
       "  </thead>\n",
       "  <tbody>\n",
       "    <tr>\n",
       "      <th>0</th>\n",
       "      <td>df_bank_real_0 vs df_bank_synth_0</td>\n",
       "      <td>bank</td>\n",
       "      <td>0</td>\n",
       "      <td>0</td>\n",
       "      <td>0</td>\n",
       "      <td>105779.450591</td>\n",
       "      <td>128500.288493</td>\n",
       "    </tr>\n",
       "    <tr>\n",
       "      <th>1</th>\n",
       "      <td>df_bank_real_0 vs df_bank_synth_0</td>\n",
       "      <td>bank</td>\n",
       "      <td>0</td>\n",
       "      <td>0</td>\n",
       "      <td>1</td>\n",
       "      <td>132751.178037</td>\n",
       "      <td>115846.590073</td>\n",
       "    </tr>\n",
       "    <tr>\n",
       "      <th>2</th>\n",
       "      <td>df_bank_real_0 vs df_bank_synth_0</td>\n",
       "      <td>bank</td>\n",
       "      <td>0</td>\n",
       "      <td>0</td>\n",
       "      <td>2</td>\n",
       "      <td>1789.515505</td>\n",
       "      <td>129820.928065</td>\n",
       "    </tr>\n",
       "    <tr>\n",
       "      <th>3</th>\n",
       "      <td>df_bank_real_0 vs df_bank_synth_0</td>\n",
       "      <td>bank</td>\n",
       "      <td>0</td>\n",
       "      <td>0</td>\n",
       "      <td>3</td>\n",
       "      <td>114797.917499</td>\n",
       "      <td>157315.690335</td>\n",
       "    </tr>\n",
       "    <tr>\n",
       "      <th>4</th>\n",
       "      <td>df_bank_real_0 vs df_bank_synth_0</td>\n",
       "      <td>bank</td>\n",
       "      <td>0</td>\n",
       "      <td>0</td>\n",
       "      <td>4</td>\n",
       "      <td>163797.033565</td>\n",
       "      <td>185336.482380</td>\n",
       "    </tr>\n",
       "    <tr>\n",
       "      <th>...</th>\n",
       "      <td>...</td>\n",
       "      <td>...</td>\n",
       "      <td>...</td>\n",
       "      <td>...</td>\n",
       "      <td>...</td>\n",
       "      <td>...</td>\n",
       "      <td>...</td>\n",
       "    </tr>\n",
       "    <tr>\n",
       "      <th>195</th>\n",
       "      <td>df_telco_real_1 vs df_telco_synth_1</td>\n",
       "      <td>telco</td>\n",
       "      <td>1</td>\n",
       "      <td>4</td>\n",
       "      <td>0</td>\n",
       "      <td>6500.301203</td>\n",
       "      <td>11941.784240</td>\n",
       "    </tr>\n",
       "    <tr>\n",
       "      <th>196</th>\n",
       "      <td>df_telco_real_1 vs df_telco_synth_1</td>\n",
       "      <td>telco</td>\n",
       "      <td>1</td>\n",
       "      <td>4</td>\n",
       "      <td>1</td>\n",
       "      <td>2241.058995</td>\n",
       "      <td>3515.043933</td>\n",
       "    </tr>\n",
       "    <tr>\n",
       "      <th>197</th>\n",
       "      <td>df_telco_real_1 vs df_telco_synth_1</td>\n",
       "      <td>telco</td>\n",
       "      <td>1</td>\n",
       "      <td>4</td>\n",
       "      <td>2</td>\n",
       "      <td>3768.624116</td>\n",
       "      <td>4437.287298</td>\n",
       "    </tr>\n",
       "    <tr>\n",
       "      <th>198</th>\n",
       "      <td>df_telco_real_1 vs df_telco_synth_1</td>\n",
       "      <td>telco</td>\n",
       "      <td>1</td>\n",
       "      <td>4</td>\n",
       "      <td>3</td>\n",
       "      <td>535.645069</td>\n",
       "      <td>4343.421759</td>\n",
       "    </tr>\n",
       "    <tr>\n",
       "      <th>199</th>\n",
       "      <td>df_telco_real_1 vs df_telco_synth_1</td>\n",
       "      <td>telco</td>\n",
       "      <td>1</td>\n",
       "      <td>4</td>\n",
       "      <td>4</td>\n",
       "      <td>5378.538919</td>\n",
       "      <td>4371.987148</td>\n",
       "    </tr>\n",
       "  </tbody>\n",
       "</table>\n",
       "<p>200 rows × 7 columns</p>\n",
       "</div>"
      ],
      "text/plain": [
       "                              comparison dataset label  real_cluster  \\\n",
       "0      df_bank_real_0 vs df_bank_synth_0    bank     0             0   \n",
       "1      df_bank_real_0 vs df_bank_synth_0    bank     0             0   \n",
       "2      df_bank_real_0 vs df_bank_synth_0    bank     0             0   \n",
       "3      df_bank_real_0 vs df_bank_synth_0    bank     0             0   \n",
       "4      df_bank_real_0 vs df_bank_synth_0    bank     0             0   \n",
       "..                                   ...     ...   ...           ...   \n",
       "195  df_telco_real_1 vs df_telco_synth_1   telco     1             4   \n",
       "196  df_telco_real_1 vs df_telco_synth_1   telco     1             4   \n",
       "197  df_telco_real_1 vs df_telco_synth_1   telco     1             4   \n",
       "198  df_telco_real_1 vs df_telco_synth_1   telco     1             4   \n",
       "199  df_telco_real_1 vs df_telco_synth_1   telco     1             4   \n",
       "\n",
       "     synth_cluster  clusters_distances  ensembles_distances  \n",
       "0                0       105779.450591        128500.288493  \n",
       "1                1       132751.178037        115846.590073  \n",
       "2                2         1789.515505        129820.928065  \n",
       "3                3       114797.917499        157315.690335  \n",
       "4                4       163797.033565        185336.482380  \n",
       "..             ...                 ...                  ...  \n",
       "195              0         6500.301203         11941.784240  \n",
       "196              1         2241.058995          3515.043933  \n",
       "197              2         3768.624116          4437.287298  \n",
       "198              3          535.645069          4343.421759  \n",
       "199              4         5378.538919          4371.987148  \n",
       "\n",
       "[200 rows x 7 columns]"
      ]
     },
     "execution_count": 348,
     "metadata": {},
     "output_type": "execute_result"
    }
   ],
   "source": [
    "def create_merged_dataset(distances_dict, ens_diffs):\n",
    "    '''\n",
    "    Creates a merged DataFrame containing both distance and difference metrics\n",
    "    \n",
    "    Args:\n",
    "        distances_dict: Dictionary of 5x5 distance matrices\n",
    "                      {'df_bank_real_0 vs df_bank_synth_0': np.array, ...}\n",
    "        ens_diffs: List of ensemble differences \n",
    "                  [(combo_key, diff_value), ...]\n",
    "    \n",
    "    Returns:\n",
    "        pd.DataFrame: Combined dataset with all metrics\n",
    "    '''\n",
    "    # First convert ens_diffs to a structured format\n",
    "    diff_records = []\n",
    "    for key, diff in ens_diffs:\n",
    "        parts = key.split('_')\n",
    "        record = {\n",
    "            'dataset': parts[0],  # 'bank', 'credit', etc.\n",
    "            'label': parts[1].replace('label', ''),\n",
    "            'real_cluster': int(parts[2].replace('realC', '')),\n",
    "            'synth_cluster': int(parts[3].replace('synthC', '')),\n",
    "            'ensembles_distances': diff\n",
    "        }\n",
    "        diff_records.append(record)\n",
    "    \n",
    "    diff_df = pd.DataFrame(diff_records)\n",
    "    \n",
    "    # Then convert distance matrices to records\n",
    "    distance_records = []\n",
    "    for comp_key, dist_matrix in distances_dict.items():\n",
    "        parts = comp_key.split(' vs ')\n",
    "        dataset_real = parts[0].split('_')[1]  # 'bank' from 'df_bank_real_0'\n",
    "        label_real = parts[0].split('_')[-1]   # '0' from 'df_bank_real_0'\n",
    "        \n",
    "        for i in range(5):      # real clusters\n",
    "            for j in range(5):  # synth clusters\n",
    "                distance_records.append({\n",
    "                    'dataset': dataset_real,\n",
    "                    'label': label_real,\n",
    "                    'real_cluster': i,\n",
    "                    'synth_cluster': j,\n",
    "                    'clusters_distances': dist_matrix[i,j]\n",
    "                })\n",
    "    \n",
    "    distance_df = pd.DataFrame(distance_records)\n",
    "    \n",
    "    # Merge the two dfs\n",
    "    merged_df = pd.merge(\n",
    "        distance_df,\n",
    "        diff_df,\n",
    "        on=['dataset', 'label', 'real_cluster', 'synth_cluster'],\n",
    "        how='left'\n",
    "    )\n",
    "    \n",
    "    # Add a comparison key column\n",
    "    merged_df['comparison'] = (\n",
    "        'df_' + merged_df['dataset'] + '_real_' + merged_df['label'] + \n",
    "        ' vs df_' + merged_df['dataset'] + '_synth_' + merged_df['label']\n",
    "    )\n",
    "    \n",
    "    # Reorder columns\n",
    "    column_order = ['comparison','dataset','label','real_cluster','synth_cluster','clusters_distances','ensembles_distances']\n",
    "    \n",
    "    return merged_df[column_order].sort_values(['dataset', 'label', 'real_cluster', 'synth_cluster'])\n",
    "\n",
    "# Create the merged dataset\n",
    "merged_data = create_merged_dataset(distances, ens_diffs)\n",
    "\n",
    "merged_data"
   ]
  },
  {
   "cell_type": "markdown",
   "metadata": {},
   "source": [
    "### Plots"
   ]
  },
  {
   "cell_type": "code",
   "execution_count": 349,
   "metadata": {},
   "outputs": [
    {
     "data": {
      "image/png": "[encoded data removed]",
      "text/plain": [
       "<Figure size 800x400 with 1 Axes>"
      ]
     },
     "metadata": {},
     "output_type": "display_data"
    },
    {
     "name": "stdout",
     "output_type": "stream",
     "text": [
      "Correlation: 0.8560\n",
      "P-value: 0.0000\n"
     ]
    }
   ],
   "source": [
    "from scipy.stats import pearsonr\n",
    "\n",
    "data = merged_data[merged_data['label']=='1']\n",
    "#data = merged_data[merged_data['dataset']=='telco']\n",
    "#data = merged_data[(merged_data['dataset'] == 'telco') & (merged_data['label'] == 1)]\n",
    "#data = merged_data\n",
    "\n",
    "plt.figure(figsize=(8, 4))\n",
    "sns.regplot(\n",
    "    data=data,\n",
    "    x='clusters_distances',\n",
    "    y='ensembles_distances',\n",
    "    scatter_kws={'s': 100, 'alpha': 0.7},  \n",
    "    line_kws={'color': 'red', 'linewidth': 2},  \n",
    "    robust=True\n",
    ")\n",
    "\n",
    "plt.title('Cluster Metrics: Regression Plot')\n",
    "plt.xlabel('Cluster Distance')\n",
    "plt.ylabel('Ensemble Distance')\n",
    "plt.grid(True)\n",
    "plt.show()\n",
    "\n",
    "correlation, p_value = pearsonr(data['clusters_distances'], data['ensembles_distances'])\n",
    "print(f'Correlation: {correlation:.4f}')\n",
    "print(f'P-value: {p_value:.4f}')"
   ]
  },
  {
   "cell_type": "markdown",
   "metadata": {},
   "source": [
    "#### Make 8 subplots for all combinations"
   ]
  },
  {
   "cell_type": "code",
   "execution_count": 351,
   "metadata": {},
   "outputs": [
    {
     "data": {
      "image/png": "[encoded data removed]",
      "text/plain": [
       "<Figure size 1500x700 with 8 Axes>"
      ]
     },
     "metadata": {},
     "output_type": "display_data"
    }
   ],
   "source": [
    "def plot_all_combinations(df):\n",
    "    # Define all combinations of dataset and label\n",
    "    datasets = df['dataset'].unique()  # Get unique dataset values\n",
    "    labels = df['label'].unique()  # Get unique label values\n",
    "    \n",
    "    \n",
    "    fig, axes = plt.subplots(nrows=2, ncols=4, figsize=(15, 7))\n",
    "    \n",
    "    # Flatten the axes array to make iteration easier\n",
    "    axes = axes.flatten()\n",
    "    \n",
    "    # Loop through all combinations of dataset and label\n",
    "    plot_index = 0\n",
    "    for dataset in datasets:\n",
    "        for label in labels:\n",
    "            # Filter data based on dataset and label\n",
    "            filtered_data = df[(df['dataset'] == dataset) & (df['label'] == label)]\n",
    "            \n",
    "            # Calculate correlation and p-value for the filtered data\n",
    "            correlation, p_value = pearsonr(filtered_data['clusters_distances'], filtered_data['ensembles_distances'])\n",
    "            \n",
    "            # Plot the regression plot on the current axis\n",
    "            sns.regplot(\n",
    "                data=filtered_data,\n",
    "                x='clusters_distances',\n",
    "                y='ensembles_distances',\n",
    "                scatter_kws={'s': 100, 'alpha': 0.7},  \n",
    "                line_kws={'color': 'red', 'linewidth': 2}, \n",
    "                robust=True,  \n",
    "                ax=axes[plot_index]  # which the subplot\n",
    "            )\n",
    "            \n",
    "            # title and labels for the subplot\n",
    "            axes[plot_index].set_title(f'{dataset.capitalize()} - Churn {label}\\nCorr: {correlation:.4f}, p-value: {p_value:.4f}')\n",
    "            axes[plot_index].set_xlabel('Cluster Distance Real-Synth')\n",
    "            axes[plot_index].set_ylabel('Ensemble Distance Real-Synth')\n",
    "            axes[plot_index].grid(True)\n",
    "            \n",
    "            # Move to the next subplot\n",
    "            plot_index += 1\n",
    "\n",
    "    plt.tight_layout()\n",
    "    plt.savefig(\"fig5_hierarc_new.pdf\", dpi=300, bbox_inches='tight')\n",
    "    plt.show()\n",
    "\n",
    "plot_all_combinations(merged_data)\n"
   ]
  },
  {
   "cell_type": "code",
   "execution_count": null,
   "metadata": {},
   "outputs": [],
   "source": []
  }
 ],
 "metadata": {
  "kernelspec": {
   "display_name": "gpt2",
   "language": "python",
   "name": "python3"
  },
  "language_info": {
   "codemirror_mode": {
    "name": "ipython",
    "version": 3
   },
   "file_extension": ".py",
   "mimetype": "text/x-python",
   "name": "python",
   "nbconvert_exporter": "python",
   "pygments_lexer": "ipython3",
   "version": "3.10.8"
  }
 },
 "nbformat": 4,
 "nbformat_minor": 2
}
